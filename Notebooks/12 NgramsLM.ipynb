{
 "cells": [
  {
   "cell_type": "markdown",
   "metadata": {
    "colab_type": "text",
    "id": "I_T8sYgETX3L"
   },
   "source": [
    "# Modelos del lenguaje a partir de n-gramas\n",
    "\n",
    "La estimación de modelos del lenguaje busca encontrar la probabilidad de una palabra dada su historia. En el caso de los bigramas, se asume la propiedad de Markov y se toma únicamente el elemento inmediatamente anterior. En el caso de modelos de n-gramas, con $n>2$, la palabra depende de más elementos anteriores.\n",
    "Así, en el modelo de trigramas, se toma en cuenta las dos palabras anteriores. En el caso de 4-gramas, se toma en cuenta los 3 elementos anteriores. Y en general, para un modelo de n-gramas, se toma en cuenta los $n-1$ elementos anteriores. El modelo del lenguaje, entonces, se define como:\n",
    "\n",
    "$$\\mu = (\\Sigma, A, \\Pi)$$\n",
    "\n",
    "donde $\\Sigma$ es el vocabulario, $A$ es un tensor que guarda las probabilidades de transiciones y $\\Pi$ guarda las probabilidades iniciales.\n",
    "\n",
    "A continuación, estimamos modelos del lenguaje para un corpus."
   ]
  },
  {
   "cell_type": "code",
   "execution_count": 1,
   "metadata": {
    "colab": {},
    "colab_type": "code",
    "id": "bV9ZtWeS_rMP"
   },
   "outputs": [],
   "source": [
    "#-*- encoding:utf-8 -*-\n",
    "import numpy as np\n",
    "from sklearn.model_selection import train_test_split\n",
    "import matplotlib.pyplot as plt\n",
    "from collections import defaultdict, Counter\n",
    "import matplotlib.pyplot as plt\n",
    "from itertools import chain\n",
    "from re import sub\n",
    "\n",
    "#Funcion que crea un vocabulario de palabras con un indice numerico\n",
    "def vocab():\n",
    "    vocab = defaultdict()\n",
    "    vocab.default_factory = lambda: len(vocab)\n",
    "    return vocab    \n",
    "\n",
    "#Funcion que pasa la cadena de simbolos a una secuencia con indices numericos\n",
    "def text2numba(corpus, vocab):\n",
    "    for doc in corpus:\n",
    "        yield [vocab[w] for w in doc.strip().split()]"
   ]
  },
  {
   "cell_type": "markdown",
   "metadata": {
    "colab_type": "text",
    "id": "XJ1cbSJhUpmg"
   },
   "source": [
    "### Preprocesamiento del corpus\n",
    "\n",
    "Para estimar las probabilidades, necesitamos un corpus. Procesaremos a preprocesarlo. En este caso, eliminamos signos de puntuaciónn y caracteres no alfanuméricos. Se debe señalar, que en muchos casos, se conservan los signos de puntuación como elementos pertenencientes al vocabulario. Esto con el objetivo de generar lenguaje escrito que preserve estos signos. Dado que esto no es ahora nuestra principal preocupación, eliminamos estos signos."
   ]
  },
  {
   "cell_type": "code",
   "execution_count": 2,
   "metadata": {
    "colab": {
     "base_uri": "https://localhost:8080/",
     "height": 54
    },
    "colab_type": "code",
    "id": "CSzDt5wx_rMn",
    "outputId": "f563f903-ca45-41c0-802e-fb0960a94834"
   },
   "outputs": [
    {
     "name": "stdout",
     "output_type": "stream",
     "text": [
      "['comparación con otros modelos', 'como hemos señalado anteriormente los modelos implicacionales de wp muestran ventajas metodológicas al tomar a la palabra como unidad mínima de análisis', ' la asignación de rasgos morfosintácticos sólo se da en la palabra completa ninguna unidad formal menor a la palabra contiene rasgos ni características morfosintácticas', ' esta perspectiva evita una búsqueda exhaustiva de patrones segmentales que no necesariamente forman parte de la realidad lingüística', ' de esta forma el marco implicacional deja de lado discusiones teóricas como la pertinencia de la vocal temática o las variaciones de tema verbal', ' ', '\\tacerca la flexión verbal del español los enfoques clásicos han dado gran peso a una discusión sobre la precisión de diferentes lindes segmentales y la asignación pertinente de rasgos esto es la estructura verbal de la palabra', ' el marco implicacional propuesto tiene poco interés en la estructura interna de la palabra y se concentra más en el análisis de la estructuración de los paradigmas a partir de las palabras su estructura formal es un epifenómeno consecuencia de procesos abstractivos', ' consideramos que esta perspectiva a pesar de haber sido poco abordada en la literatura muestra ventajas ante otras perspectivas', ' sin embargo debemos considerar también las desventajas del análisis para proponer nuevas alternativas dentro de los modelos implicacionales']\n"
     ]
    }
   ],
   "source": [
    "#Se abre el corpus, se limpia y se obtiene cada una de las líneas en éste\n",
    "corpus = sub(r'[^\\w\\s]','', '\\n'.join(open('corpus.es.txt','r', encoding='utf8').read().lower().strip().split('.')) ).split('\\n')\n",
    "\n",
    "#Se remueven las cadenas vacías\n",
    "while(\"\" in corpus): \n",
    "    corpus.remove(\"\")\n",
    "    \n",
    "print(corpus[:10])"
   ]
  },
  {
   "cell_type": "markdown",
   "metadata": {
    "colab_type": "text",
    "id": "UjhYNYXGVTse"
   },
   "source": [
    "En primer lugar, tomaremos una parte del corpus y obtendremos los corpus de entrenamiento y de evaluación. En este caso, tomaremos el $70\\%$ de los datos para estimar el modelo, mientras que el $30\\%$ restante será parte de la evaluación, es decir, se utilizará para calcular la entropía (o, en otros casos, la perplejidad)."
   ]
  },
  {
   "cell_type": "code",
   "execution_count": 3,
   "metadata": {
    "colab": {
     "base_uri": "https://localhost:8080/",
     "height": 51
    },
    "colab_type": "code",
    "id": "qqGu_Bj0COyS",
    "outputId": "2de3c025-f1a2-418d-d29a-44879db73bb2"
   },
   "outputs": [
    {
     "name": "stdout",
     "output_type": "stream",
     "text": [
      "70\n",
      "30\n"
     ]
    }
   ],
   "source": [
    "corpus = corpus[:100]\n",
    "\n",
    "#Se obtiene el corpus de entrenamiento y evaluación\n",
    "train_data, test_data = train_test_split(corpus, test_size=0.3)\n",
    "\n",
    "print(len(train_data))\n",
    "print(len(test_data))"
   ]
  },
  {
   "cell_type": "markdown",
   "metadata": {
    "colab_type": "text",
    "id": "RvNGzOiPV20A"
   },
   "source": [
    "A continuación, nos encargamos de pasar las cadenas de palabras a cadenas de índices numéricos. En este sentido, utilizaremos enteros para estimar el modelo. Crearemos dos diccionarios: uno que va toma una palabra y lo convierte en un índice (este nos servirá para acceder a las probabilidades en el modelo) y otro que tome los índices y los lleve a la palabra (este diccionario nos ayudará a recuperar los datos textuales a partir de los índices en el modelo)."
   ]
  },
  {
   "cell_type": "code",
   "execution_count": 4,
   "metadata": {
    "colab": {
     "base_uri": "https://localhost:8080/",
     "height": 71
    },
    "colab_type": "code",
    "id": "WHMCcahJ_rNR",
    "outputId": "24c5275d-a769-4ea2-8d1b-56044fca6cf6"
   },
   "outputs": [
    {
     "name": "stdout",
     "output_type": "stream",
     "text": [
      "[[0, 1, 2, 3, 4, 5, 6, 7, 8, 9, 2, 10, 11, 12, 13, 14, 15, 16], [17, 18, 19, 20, 21, 22, 23, 13, 24, 25, 26, 22, 27, 28, 11, 29, 30, 31, 32, 24, 5, 33, 34], [35]]\n"
     ]
    }
   ],
   "source": [
    "#Llamamos la funcion para crear el vocabulario\n",
    "voc = vocab()\n",
    "#Creamos el vocabulario y le asignamos un indice a cada simbolo segun su aparicion\n",
    "cads_idx = list(text2numba(train_data,voc))\n",
    "\n",
    "print(cads_idx[:3])\n",
    "#print(voc)"
   ]
  },
  {
   "cell_type": "markdown",
   "metadata": {
    "colab_type": "text",
    "id": "IFBmY3yTW1jn"
   },
   "source": [
    "Para completar el vocabulario, agregaremos los símbolos de BOS (Beginning Of String) y EOS (End Of String). Asimismo, añadiremos estos símbolos acada cadena en el entrenamiento, de tal forma que las cadenas sean de la forma:\n",
    "\n",
    "$$<BOS> w_1 ... w_k <EOS>$$\n",
    "\n",
    "De esta forma, podremos obtener probabilidades inciales y transiciones terminales (aquellas que van hacía el símbolo de termino EOS).\n",
    "\n",
    "Asimismo, obtenemos el diccionario que nos servirá para recuperar las palabras dado los índices."
   ]
  },
  {
   "cell_type": "code",
   "execution_count": 5,
   "metadata": {
    "colab": {
     "base_uri": "https://localhost:8080/",
     "height": 88
    },
    "colab_type": "code",
    "id": "TUCVBu3b_rNj",
    "outputId": "efd9f53d-2fba-4661-d57b-0ae2195ab4aa"
   },
   "outputs": [
    {
     "name": "stdout",
     "output_type": "stream",
     "text": [
      "[[383, 0, 1, 2, 3, 4, 5, 6, 7, 8, 9, 2, 10, 11, 12, 13, 14, 15, 16, 382], [383, 17, 18, 19, 20, 21, 22, 23, 13, 24, 25, 26, 22, 27, 28, 11, 29, 30, 31, 32, 24, 5, 33, 34, 382], [383, 35, 382]]\n",
      "70\n",
      "382 383\n"
     ]
    }
   ],
   "source": [
    "#Indicamos las etiquetas a usar\n",
    "EOS = '<EOS>'\n",
    "BOS = '<BOS>'\n",
    "\n",
    "#Cada etiqeuta se le asigna un indice numerico\n",
    "BOS_IDX = max(voc.values())+2\n",
    "EOS_IDX = max(voc.values())+1\n",
    "\n",
    "#Se agregan estas etiqeutas al vocabulario\n",
    "voc[EOS] = EOS_IDX\n",
    "voc[BOS] = BOS_IDX\n",
    "\n",
    "#A cada cadena se le agrega la etiqueta BOS al inicio y EOS al final\n",
    "cadenas = [[BOS_IDX] + cad + [EOS_IDX] for cad in cads_idx]\n",
    "\n",
    "#Diccionario de índice : palabra\n",
    "words = {idx: w for w,idx in voc.items()}\n",
    "\n",
    "print(cadenas[:3])\n",
    "print(len(cadenas))\n",
    "print(EOS_IDX, BOS_IDX)"
   ]
  },
  {
   "cell_type": "markdown",
   "metadata": {
    "colab_type": "text",
    "id": "dwsAGwopXYVR"
   },
   "source": [
    "### Estimación del modelo de n-gramas\n",
    "\n",
    "Una vez preprocesadas las cadenas podemos pasar a estimar el modelo. Para esta estimación, tomaremos en cuenta dos parámetros:\n",
    "\n",
    "\n",
    "\n",
    "*   El tamaño de n-gramas; es decir, qué tantos elementos previos consideraremos para estimar la probabilidad de que ocurra una palabra.\n",
    "*   El elemento $\\lambda$ para estimar la probabilidad con smoothing de Lidstone. En este sentido, dado un n-grama $w_{i-n+1} ... w_{i-1} w_i$ estimaremos la probabilidad como:\n",
    "\n",
    "$$p(w_i|w_{i-1}...w_{i-n+1}) = \\frac{fr(w_{i-n+1} ... w_{i-1} w_i) + \\lambda}{fr(w_{i-n+1} ... w_{i-1}) + \\lambda N}$$\n",
    "\n",
    "donde $N$ es el tamaño del vocabulario.\n"
   ]
  },
  {
   "cell_type": "code",
   "execution_count": 6,
   "metadata": {
    "colab": {},
    "colab_type": "code",
    "id": "MT-V04pf_rNv"
   },
   "outputs": [],
   "source": [
    "def get_model(cadenas, n=2, l=1.0):\n",
    "    #Se crean los bigramas\n",
    "    bigrams = chain(*[ zip(*[cad[i:] for i in range(n)] ) for cad in cadenas] )\n",
    "\n",
    "    #Se obtiene la frecuencia de cada bigrama\n",
    "    frec_grams = Counter(bigrams)\n",
    "    \n",
    "    #Obtenemos el tamaño del vocabulario (menos EOS y BOS)\n",
    "    N = len(voc) -2\n",
    "    #Determinamos las dimensiones del tensor de transciones\n",
    "    #En la palabra condicionada consideraremos al elemento EOS\n",
    "    dim = (N,)*(n-1) + (N+1,)\n",
    "\n",
    "    #Tensor de transiciones\n",
    "    A = np.zeros(dim)\n",
    "    #Probabilidades iniciales\n",
    "    Pi = np.zeros(N)\n",
    "    \n",
    "    #Frecuencias\n",
    "    for bigram,frec in frec_grams.items():\n",
    "      #Se llena el tensor de transiciones con frecuencias\n",
    "      if bigram[0] != BOS_IDX:\n",
    "          A[bigram] = frec\n",
    "      #Se onbtienen las frecuencias de iniciales\n",
    "      elif bigram[0] == BOS_IDX and bigram[1] != EOS_IDX:\n",
    "          Pi[bigram[1]] = frec\n",
    "          \n",
    "    #A partir de las frecuencias, se obtienen las probabilidades\n",
    "    #Se considera un parámetro l de smoothing de Lidstone\n",
    "    for h,b in enumerate(A):\n",
    "      A[h] = ((b+l).T/(b+l).sum(n-2)).T\n",
    "    \n",
    "    #Probabilidad de iniciales  \n",
    "    Pi = (Pi+l)/(Pi+l).sum(0)\n",
    "    \n",
    "    return A, Pi"
   ]
  },
  {
   "cell_type": "markdown",
   "metadata": {
    "colab_type": "text",
    "id": "R2gvdddxaEXI"
   },
   "source": [
    "En primer lugar, podemos estimar un modelo de trigramas con $\\lambda =1$, es decir, con smoothing Laplaciano."
   ]
  },
  {
   "cell_type": "code",
   "execution_count": 8,
   "metadata": {
    "colab": {
     "base_uri": "https://localhost:8080/",
     "height": 187
    },
    "colab_type": "code",
    "id": "xRE41zXz_rN4",
    "outputId": "ac1b01e9-b44c-46d5-f720-dc6c884692ba"
   },
   "outputs": [
    {
     "name": "stdout",
     "output_type": "stream",
     "text": [
      "(382, 382, 383)\n",
      "[[1. 1. 1. ... 1. 1. 1.]\n",
      " [1. 1. 1. ... 1. 1. 1.]\n",
      " [1. 1. 1. ... 1. 1. 1.]\n",
      " ...\n",
      " [1. 1. 1. ... 1. 1. 1.]\n",
      " [1. 1. 1. ... 1. 1. 1.]\n",
      " [1. 1. 1. ... 1. 1. 1.]]\n",
      "CPU times: user 353 ms, sys: 298 ms, total: 650 ms\n",
      "Wall time: 648 ms\n"
     ]
    }
   ],
   "source": [
    "%%time\n",
    "#Modelo de trigramas\n",
    "mu_3g_lap = get_model(cadenas, n=3, l=1)\n",
    "\n",
    "#Tamaño del tensor de transicion\n",
    "print(mu_3g_lap[0].shape)\n",
    "#Suma de probabilidades\n",
    "print(mu_3g_lap[0].sum(2))"
   ]
  },
  {
   "cell_type": "code",
   "execution_count": 9,
   "metadata": {},
   "outputs": [
    {
     "name": "stdout",
     "output_type": "stream",
     "text": [
      "0.002607561929595828\n"
     ]
    }
   ],
   "source": [
    "print(mu_3g_lap[0][voc['el'],voc['español'],voc['es']])"
   ]
  },
  {
   "cell_type": "markdown",
   "metadata": {
    "colab_type": "text",
    "id": "VJ9yBDWEaqBv"
   },
   "source": [
    "De igual forma, podemos obtener un modelo de bigramas también con smoothing Laplaciano."
   ]
  },
  {
   "cell_type": "code",
   "execution_count": 10,
   "metadata": {
    "colab": {
     "base_uri": "https://localhost:8080/",
     "height": 340
    },
    "colab_type": "code",
    "id": "OrRPdWxtaNzU",
    "outputId": "5ebfea6c-53b8-458d-ceeb-1bdec5e2980e"
   },
   "outputs": [
    {
     "name": "stdout",
     "output_type": "stream",
     "text": [
      "(382, 383)\n",
      "[1. 1. 1. 1. 1. 1. 1. 1. 1. 1. 1. 1. 1. 1. 1. 1. 1. 1. 1. 1. 1. 1. 1. 1.\n",
      " 1. 1. 1. 1. 1. 1. 1. 1. 1. 1. 1. 1. 1. 1. 1. 1. 1. 1. 1. 1. 1. 1. 1. 1.\n",
      " 1. 1. 1. 1. 1. 1. 1. 1. 1. 1. 1. 1. 1. 1. 1. 1. 1. 1. 1. 1. 1. 1. 1. 1.\n",
      " 1. 1. 1. 1. 1. 1. 1. 1. 1. 1. 1. 1. 1. 1. 1. 1. 1. 1. 1. 1. 1. 1. 1. 1.\n",
      " 1. 1. 1. 1. 1. 1. 1. 1. 1. 1. 1. 1. 1. 1. 1. 1. 1. 1. 1. 1. 1. 1. 1. 1.\n",
      " 1. 1. 1. 1. 1. 1. 1. 1. 1. 1. 1. 1. 1. 1. 1. 1. 1. 1. 1. 1. 1. 1. 1. 1.\n",
      " 1. 1. 1. 1. 1. 1. 1. 1. 1. 1. 1. 1. 1. 1. 1. 1. 1. 1. 1. 1. 1. 1. 1. 1.\n",
      " 1. 1. 1. 1. 1. 1. 1. 1. 1. 1. 1. 1. 1. 1. 1. 1. 1. 1. 1. 1. 1. 1. 1. 1.\n",
      " 1. 1. 1. 1. 1. 1. 1. 1. 1. 1. 1. 1. 1. 1. 1. 1. 1. 1. 1. 1. 1. 1. 1. 1.\n",
      " 1. 1. 1. 1. 1. 1. 1. 1. 1. 1. 1. 1. 1. 1. 1. 1. 1. 1. 1. 1. 1. 1. 1. 1.\n",
      " 1. 1. 1. 1. 1. 1. 1. 1. 1. 1. 1. 1. 1. 1. 1. 1. 1. 1. 1. 1. 1. 1. 1. 1.\n",
      " 1. 1. 1. 1. 1. 1. 1. 1. 1. 1. 1. 1. 1. 1. 1. 1. 1. 1. 1. 1. 1. 1. 1. 1.\n",
      " 1. 1. 1. 1. 1. 1. 1. 1. 1. 1. 1. 1. 1. 1. 1. 1. 1. 1. 1. 1. 1. 1. 1. 1.\n",
      " 1. 1. 1. 1. 1. 1. 1. 1. 1. 1. 1. 1. 1. 1. 1. 1. 1. 1. 1. 1. 1. 1. 1. 1.\n",
      " 1. 1. 1. 1. 1. 1. 1. 1. 1. 1. 1. 1. 1. 1. 1. 1. 1. 1. 1. 1. 1. 1. 1. 1.\n",
      " 1. 1. 1. 1. 1. 1. 1. 1. 1. 1. 1. 1. 1. 1. 1. 1. 1. 1. 1. 1. 1. 1.]\n",
      "CPU times: user 14.1 ms, sys: 1.13 ms, total: 15.2 ms\n",
      "Wall time: 12.4 ms\n"
     ]
    }
   ],
   "source": [
    "%%time\n",
    "#Modelo de bigramas\n",
    "mu_2g_lap = get_model(cadenas, n=2, l=1)\n",
    "\n",
    "#Tamaño del tensor de transicion\n",
    "print(mu_2g_lap[0].shape)\n",
    "#Suma de probabilidades\n",
    "print(mu_2g_lap[0].sum(1))"
   ]
  },
  {
   "cell_type": "code",
   "execution_count": 11,
   "metadata": {},
   "outputs": [
    {
     "name": "stdout",
     "output_type": "stream",
     "text": [
      "0.002579765584153436\n"
     ]
    }
   ],
   "source": [
    "print(0.6*mu_3g_lap[0][voc['el'],voc['español'],voc['es']] + 0.4*mu_2g_lap[0][voc['español'],voc['es']])"
   ]
  },
  {
   "cell_type": "markdown",
   "metadata": {
    "colab_type": "text",
    "id": "5Q6ijoT2bDD5"
   },
   "source": [
    "### Aplicaciones de los modelos\n",
    "\n",
    "Una vez estimados estos modelos del lenguaje, podemos ver sus diferentes aplicaciones para algunas de las tareas típicas: determinar la probabilidad de una cadena, predecir la palabra siguiente y generar texto.\n",
    "\n",
    "Para determinar la probabilidad, utilizaremos la función:\n",
    "\n",
    "$$p(w_1 ... w_k) = \\prod_{i=1}^k p(w_i|w_{i-1} ... w_{i-n+1})$$\n",
    "\n",
    "Dado que las cadenas pueden extenderse y las probabilidades son pequeñas, es posible que la probabilidad se haga tan pequeña que aparezca como un cero. Para evitar esto, utilizaremos probabilidad logarítimicada, dada por:\n",
    "\n",
    "$$\\log p(w_1 ... w_k) = \\sum_{i=1}^k \\log p(w_i|w_{i-1} ... w_{i-n+1})$$"
   ]
  },
  {
   "cell_type": "code",
   "execution_count": 12,
   "metadata": {
    "colab": {},
    "colab_type": "code",
    "id": "_fablN9k_rPo"
   },
   "outputs": [],
   "source": [
    "#Probabilidad logarítimica\n",
    "def prob_str(string, mu):\n",
    "    #Elementos del modelo\n",
    "    A, Pi = mu\n",
    "    #n-gramas\n",
    "    n = len(A.shape)\n",
    "    #Palabras de la cadena\n",
    "    sent = [voc[w] for w in string.split()]\n",
    "    \n",
    "    #Probabilidad inicial\n",
    "    try:\n",
    "      p = np.log(Pi[voc[sent[0]]])\n",
    "    #OOV\n",
    "    except:\n",
    "      p = 0.0\n",
    "    \n",
    "    #Obtener n-gramas de la cadena\n",
    "    grams = list(zip(*[sent[i:] for i in range(n)]))\n",
    "    #Probabilidad de n-gramas\n",
    "    for gram in grams:\n",
    "        try:\n",
    "          p += np.log(A[gram])\n",
    "        #OOV\n",
    "        except:\n",
    "          p += 0.0\n",
    "    \n",
    "    return p"
   ]
  },
  {
   "cell_type": "markdown",
   "metadata": {
    "colab_type": "text",
    "id": "TmIkc-oRcMUD"
   },
   "source": [
    "Podemos probar esta estimación sobre cadenas. Para obtener la probabilidad exacta, sólo basta elevar a la exponencial la probabilidad logarítmica."
   ]
  },
  {
   "cell_type": "code",
   "execution_count": 13,
   "metadata": {
    "colab": {
     "base_uri": "https://localhost:8080/",
     "height": 88
    },
    "colab_type": "code",
    "id": "lcWmYt6z_rP2",
    "outputId": "d789b3dd-a4f7-4112-eb10-c3fa3ce8f39b"
   },
   "outputs": [
    {
     "name": "stdout",
     "output_type": "stream",
     "text": [
      "Probabilidad para la cadena: \tsin embargo se puede concluir que en los estudios actuales se reconocen las categorìas de np y tam\n",
      "\t Modelo trigramas: 3.964559496186351e-39\n",
      "\t Modelo bigramas: 9.584999865670764e-39\n"
     ]
    }
   ],
   "source": [
    "print('Probabilidad para la cadena:', train_data[0])\n",
    "print('\\t Modelo trigramas:', np.exp(prob_str(train_data[0], mu_3g_lap)))\n",
    "print('\\t Modelo bigramas:', np.exp(prob_str(train_data[0], mu_2g_lap)))"
   ]
  },
  {
   "cell_type": "code",
   "execution_count": 14,
   "metadata": {},
   "outputs": [
    {
     "data": {
      "text/plain": [
       "1.0070342760322785e-09"
      ]
     },
     "execution_count": 14,
     "metadata": {},
     "output_type": "execute_result"
    }
   ],
   "source": [
    "np.exp(prob_str('en este caso el autor', mu_2g_lap))"
   ]
  },
  {
   "cell_type": "markdown",
   "metadata": {
    "colab_type": "text",
    "id": "Mi1he_J7c2WL"
   },
   "source": [
    "Otra de las aplicaciones es la predicción de la palabra subsiguiente; para esto buscaremos:\n",
    "  \n",
    "$$\\arg\\max_w p(w_1 ... w_k w)$$\n",
    "\n",
    "Es claro que la probabilidad logarítimica no afecta el resultado, es decir, se cumple la igualdad:\n",
    "\n",
    "$$\\arg\\max_w p(w_1 ... w_k w) = \\arg\\max_w \\log p(w_1 ... w_k w)$$"
   ]
  },
  {
   "cell_type": "code",
   "execution_count": 15,
   "metadata": {
    "colab": {},
    "colab_type": "code",
    "id": "KUvvIXLi_rP_"
   },
   "outputs": [],
   "source": [
    "def next_word(string, mu):\n",
    "    #n-grams\n",
    "    history = len(mu[0].shape)-1\n",
    "    #Palabras en la cadena\n",
    "    sent = [voc[w] for w in string.split()]\n",
    "    #Los elementos previos\n",
    "    prev_gram = tuple(sent[-history:])\n",
    "    #Se obtiene probabilidad d ela cadena previa\n",
    "    p = prob_str(string, mu)\n",
    "    #Se obtienen las probabilidades de los elementps subsiguientes\n",
    "    #Se obtiene el máximo de estas probabilidades\n",
    "    #next = np.random.choice([u for u in range(406)], size=1, p=mu[0][prev_gram])[0]\n",
    "    next = np.argmax(p + np.log(mu[0][prev_gram]))\n",
    "    \n",
    "    return words[next]"
   ]
  },
  {
   "cell_type": "code",
   "execution_count": 16,
   "metadata": {
    "colab": {
     "base_uri": "https://localhost:8080/",
     "height": 51
    },
    "colab_type": "code",
    "id": "kqWHlwQe_rQM",
    "outputId": "24bf6cf5-ea22-474f-ab53-6b1fcd0227d8"
   },
   "outputs": [
    {
     "name": "stdout",
     "output_type": "stream",
     "text": [
      "<EOS>\n",
      "muestra\n"
     ]
    }
   ],
   "source": [
    "print(next_word('en el español', mu_2g_lap))\n",
    "print(next_word('en el español', mu_3g_lap))"
   ]
  },
  {
   "cell_type": "markdown",
   "metadata": {
    "colab_type": "text",
    "id": "3peUXkthiVdm"
   },
   "source": [
    "Finalmente, podemos iterar la función anterior para producir una función de generación del lenguaje. El algoritmo se detendra cuando encuentre el símbolo EOS, o despúes de producir 100 palabras."
   ]
  },
  {
   "cell_type": "code",
   "execution_count": 17,
   "metadata": {
    "colab": {},
    "colab_type": "code",
    "id": "vU9H5YM6_rQb"
   },
   "outputs": [],
   "source": [
    "def generate(string, mu):\n",
    "    #Inicialización palabra\n",
    "    w = ''\n",
    "    #Inicialización cadena generada\n",
    "    str_gen = string\n",
    "    \n",
    "    i = 0\n",
    "    #Mientras no se prediga EOS\n",
    "    while w != '<EOS>':\n",
    "        #Obtener la palabra subsiguiente\n",
    "        w = next_word(str_gen, mu)\n",
    "        #Se añade a la cadena generada\n",
    "        str_gen += ' ' + w\n",
    "        \n",
    "        i += 1\n",
    "        #Se deteiene el algoritmo si ha alcanzado 100 iteraciones\n",
    "        if i == 100:\n",
    "            break\n",
    "        \n",
    "    return str_gen\n",
    "        "
   ]
  },
  {
   "cell_type": "code",
   "execution_count": 18,
   "metadata": {
    "colab": {
     "base_uri": "https://localhost:8080/",
     "height": 51
    },
    "colab_type": "code",
    "id": "NNJY8Xfd_rQo",
    "outputId": "e3aa1cc3-070f-4e03-b0d7-9323d25b8961"
   },
   "outputs": [
    {
     "name": "stdout",
     "output_type": "stream",
     "text": [
      "Modelo trigramas: en el español muestra una combinación de tiempo y aspecto ta lo que también determina las categorías de tam y np se da en 3 <EOS>\n",
      "Modelo bigramas: en el español <EOS>\n"
     ]
    }
   ],
   "source": [
    "print('Modelo trigramas:', generate('en el español', mu_3g_lap))\n",
    "print('Modelo bigramas:', generate('en el español', mu_2g_lap))"
   ]
  },
  {
   "cell_type": "markdown",
   "metadata": {
    "colab_type": "text",
    "id": "gxvdB7ggi-wn"
   },
   "source": [
    "### Evaluación de los modelos\n",
    "\n",
    "Finalmente, podemos evaluar los modelos a partir de su entropía. Esta se determina en un corpus de evaluación, que nunca debió ser visto por el entrenamiento. Calcularemos la entropía como:\n",
    "\n",
    "$$H(p) = -\\frac{1}{K} \\sum_{i=1}^k \\log p(w_1 ... w_k)$$\n",
    "\n",
    "A partir de la entropía podríamos caluclar la perplejidad como $2^{H(p)}$. (Debe notarse que, como estamos estimando probabilidades logarítmicas, no hará falta obtener un logaritmo en esta función)."
   ]
  },
  {
   "cell_type": "code",
   "execution_count": 36,
   "metadata": {
    "colab": {},
    "colab_type": "code",
    "id": "XQVeJLVZ_rQ0"
   },
   "outputs": [],
   "source": [
    "def get_entropy(mu):\n",
    "  #Inicialización Entropía\n",
    "  H = 0.0\n",
    "  #Evaluamos en el corpus de evaluación\n",
    "  for cad in test_data:\n",
    "      #Probabilidad de la cadena\n",
    "      logp_cad = prob_str(cad, mu)\n",
    "      #Número de palabras\n",
    "      M = len(cad.split())\n",
    "      #Obtenemos la entropía cruzada de la cadena\n",
    "      H -= logp_cad/(M+1e-100)       \n",
    "\n",
    "  return H/len(test_data) "
   ]
  },
  {
   "cell_type": "code",
   "execution_count": 37,
   "metadata": {
    "colab": {
     "base_uri": "https://localhost:8080/",
     "height": 68
    },
    "colab_type": "code",
    "id": "fDK_dBSB_rRB",
    "outputId": "220ad048-4bbc-4c45-fe63-cc09633ee6a5"
   },
   "outputs": [
    {
     "name": "stdout",
     "output_type": "stream",
     "text": [
      "--Entropía--\n",
      "\t Modelo de bigramas: 3.4689860920034636\n",
      "\t Modelo de trigramas: 2.290982379264536\n"
     ]
    }
   ],
   "source": [
    "print('--Perplejida--')\n",
    "print('\\t Modelo de bigramas:', 2**get_entropy(mu_2g_lap))\n",
    "print('\\t Modelo de trigramas:', 2**get_entropy(mu_3g_lap))"
   ]
  },
  {
   "cell_type": "markdown",
   "metadata": {
    "colab_type": "text",
    "id": "olFjdLxlkOJ_"
   },
   "source": [
    "En general, los modelos de trigramas muestran una entropía más baja (o perplejidad más baja) (Jurafsky y Martin, 2018). También podemos estimar cuál es el mejor parámetro en la probabilidad de Lidstone:"
   ]
  },
  {
   "cell_type": "code",
   "execution_count": 38,
   "metadata": {
    "colab": {
     "base_uri": "https://localhost:8080/",
     "height": 51
    },
    "colab_type": "code",
    "id": "_MD0fW1yR_rN",
    "outputId": "31e37ad5-165e-4412-a427-ea836388c761"
   },
   "outputs": [
    {
     "name": "stdout",
     "output_type": "stream",
     "text": [
      "CPU times: user 2min 36s, sys: 3min 49s, total: 6min 25s\n",
      "Wall time: 6min 25s\n"
     ]
    }
   ],
   "source": [
    "%%time\n",
    "trig_entropy = []\n",
    "big_entropy = []\n",
    "\n",
    "for k in range(1,200):\n",
    "  #Parámetro\n",
    "  par = k/100\n",
    "  #Entropía del modelo de 2-gramas\n",
    "  ent2 = get_entropy(get_model(cadenas, n=2, l=par))\n",
    "  #Entropía del modelo 3-gramas\n",
    "  ent3 = get_entropy(get_model(cadenas, n=3, l=par))\n",
    "  \n",
    "  trig_entropy.append([par, ent3])\n",
    "  big_entropy.append([par, ent2])"
   ]
  },
  {
   "cell_type": "markdown",
   "metadata": {
    "colab_type": "text",
    "id": "pEFj7VSoksBc"
   },
   "source": [
    "Visualizamos cómo se comporta la entropía con respecto al parámetro $\\lambda$ en un modelo de trigramas."
   ]
  },
  {
   "cell_type": "code",
   "execution_count": 19,
   "metadata": {
    "colab": {
     "base_uri": "https://localhost:8080/",
     "height": 269
    },
    "colab_type": "code",
    "id": "nfmzIjUaWSGq",
    "outputId": "bb6ab488-fef0-414b-83e4-f6d1518c9840"
   },
   "outputs": [
    {
     "data": {
      "image/png": "[encoded data removed]",
      "text/plain": [
       "<Figure size 432x288 with 1 Axes>"
      ]
     },
     "metadata": {
      "needs_background": "light"
     },
     "output_type": "display_data"
    }
   ],
   "source": [
    "trig_entropy = np.array(trig_entropy)\n",
    "big_entropy = np.array(big_entropy)\n",
    "\n",
    "#Visualización del modelo\n",
    "plt.scatter(trig_entropy[:,0], trig_entropy[:,1], color='r', s=4, label='Trigram model')\n",
    "plt.scatter(big_entropy[:,0], big_entropy[:,1], color='g', s=4, label='Bigram model')\n",
    "plt.legend(bbox_to_anchor=(1, 1))\n",
    "plt.show()"
   ]
  },
  {
   "cell_type": "markdown",
   "metadata": {
    "colab_type": "text",
    "id": "jqC6U0UIk54h"
   },
   "source": [
    "Y podemos utilizar este parámetro para estimar un modelo de trigramas."
   ]
  },
  {
   "cell_type": "code",
   "execution_count": 20,
   "metadata": {
    "colab": {
     "base_uri": "https://localhost:8080/",
     "height": 88
    },
    "colab_type": "code",
    "id": "LBaZs6qBk416",
    "outputId": "3267f686-d4af-4e59-f277-b7ded28b5249"
   },
   "outputs": [
    {
     "name": "stdout",
     "output_type": "stream",
     "text": [
      "Lambda óptimo: 0.65\n",
      "Probabilidad de la cadena: raíz  vt  tam  np\n",
      "\t 4.053146413066228e-05\n"
     ]
    }
   ],
   "source": [
    "#Parámetro óptimo\n",
    "lamb = trig_entropy[:,0][np.argmin(trig_entropy[:,1])]\n",
    "print('Lambda óptimo:', lamb)\n",
    "\n",
    "#Estimación del modelo\n",
    "mu_3g_lid = get_model(cadenas, n=3, l=lamb)\n",
    "\n",
    "#Ejemplo de probabilidad\n",
    "print('Probabilidad de la cadena:', train_data[5])\n",
    "print('\\t', np.exp(prob_str(train_data[5], mu_3g_lid)))"
   ]
  },
  {
   "cell_type": "code",
   "execution_count": null,
   "metadata": {},
   "outputs": [],
   "source": []
  }
 ],
 "metadata": {
  "accelerator": "GPU",
  "colab": {
   "collapsed_sections": [],
   "name": "Copia de N-grams.ipynb",
   "provenance": []
  },
  "kernelspec": {
   "display_name": "Python 3",
   "language": "python",
   "name": "python3"
  },
  "language_info": {
   "codemirror_mode": {
    "name": "ipython",
    "version": 3
   },
   "file_extension": ".py",
   "mimetype": "text/x-python",
   "name": "python",
   "nbconvert_exporter": "python",
   "pygments_lexer": "ipython3",
   "version": "3.8.8"
  }
 },
 "nbformat": 4,
 "nbformat_minor": 1
}
