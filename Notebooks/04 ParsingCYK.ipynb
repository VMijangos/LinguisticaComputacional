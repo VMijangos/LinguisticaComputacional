{
 "cells": [
  {
   "cell_type": "markdown",
   "metadata": {},
   "source": [
    "# Algoritmo de CYK\n",
    "\n",
    "El algoritmo de CYK (Cocke-Younger-Kasami) es un algoritmo que parsea una cadena a partir de una gramática libre de contexto en su forma normal de Chomsky.\n",
    " \n",
    "Este algoritmo se basa en construir una tabla que, primero, asigna los símbolos no-terminales a las palabras y después determina los símbolos que corresponden a los nodos del árbol a partir de observar los símbolos que ha guardado. El resultado es una tabla que nos permitirá recuperar el árbol sintáctico de la oración."
   ]
  },
  {
   "cell_type": "code",
   "execution_count": 1,
   "metadata": {},
   "outputs": [],
   "source": [
    "import pandas as pd"
   ]
  },
  {
   "cell_type": "code",
   "execution_count": 2,
   "metadata": {},
   "outputs": [],
   "source": [
    "def CYKParse(sentence, R): \n",
    "    \"\"\"\n",
    "    Algoritmo de CYK para parseo sintáctico.\n",
    "    \n",
    "    Arguments\n",
    "    ---------\n",
    "    sentence : list\n",
    "        Lista de tokens de la oración a parsear.\n",
    "    R : dict\n",
    "        Reglas de la gramática\n",
    "    \n",
    "    Returns\n",
    "    -------\n",
    "    T : array\n",
    "        Tabla para recuperar el árbol sintáctico de la oración.\n",
    "    \"\"\"\n",
    "    #Longitud de la cadena\n",
    "    n = len(sentence) \n",
    "    #Generar tabla vacía\n",
    "    T = [[[] for j in range(n)] for i in range(n)] \n",
    "  \n",
    "    #Recorre la cadena\n",
    "    for j in range(0, n):\n",
    "        #Revisa todas las reglas X \\to r \n",
    "        for X, r in R.items(): \n",
    "            #Revisa los elementos que puede generar la regla\n",
    "            for Y in r: \n",
    "                #Si es terminal \n",
    "                if len(Y) == 1 and Y[0] == sentence[j]: \n",
    "                    #Agrega las X que generan w_j\n",
    "                    T[j][j].append(X)\n",
    "  \n",
    "        #Para i de j, j-1, j-2,...,0\n",
    "        for i in range(j, -1, -1):     \n",
    "            #En cada i revisa los elementos que le siguen\n",
    "            #a la derecha hasta el final j+1\n",
    "            for k in range(i, j):      \n",
    "                #Revisa las reglas \n",
    "                for X, r in R.items(): \n",
    "                    #Revisa lo que generan\n",
    "                    for Y in r:                           \n",
    "                        #Si no es terminal (Y=2)\n",
    "                        #Si Y_0 en T[i.k] y Y_1 in T[k,j]\n",
    "                        if len(Y) == 2 and Y[0] in T[i][k] and Y[1] in T[k+1][j]:\n",
    "                            #print(pd.DataFrame(data=T, index=sentence, columns=sentence), '\\n--------------')\n",
    "                            T[i][j].append(X)\n",
    "        \n",
    "    return T"
   ]
  },
  {
   "cell_type": "markdown",
   "metadata": {},
   "source": [
    "### Definición de la gramática\n",
    "\n",
    "La gramática debe constar de reglas en la forma normal de Chosmsky. En este caso, estructuramos la gramática como un diccionario donde las llaves son los símbolos no terminales y los valores son las reglas de reescritura posible a partir de esta gramática."
   ]
  },
  {
   "cell_type": "code",
   "execution_count": 3,
   "metadata": {},
   "outputs": [],
   "source": [
    "#Reglas de la gramática\n",
    "CFG = {'O': [['FN', 'FV']],\n",
    "       'FN': [['DET', 'NC'], ['DET','FADJ']],\n",
    "       'FADJ': [['NC', 'ADJ']],\n",
    "       'FV': [['V', 'FN']],\n",
    "       'DET': [['la'],['el'],['un']],\n",
    "       'NC': [['libro'],['niño'],['niña']],\n",
    "       'ADJ': [['pesado'],['grande'],['pequeño'],['pequeña']],\n",
    "       'V': [['tiene'],['compró']]}"
   ]
  },
  {
   "cell_type": "markdown",
   "metadata": {},
   "source": [
    "La gramática que hemos definido es de la forma:\n",
    "\n",
    "\\begin{align}\n",
    "    O &\\to FN \\cdot FV \\\\\n",
    "    FN &\\to DET \\cdot NC | DET \\cdot FADJ \\\\\n",
    "    FADJ &\\to NC \\cdot ADJ \\\\\n",
    "    FV &\\to V \\cdot FN \\\\\n",
    "    DET &\\to la | el | un \\\\\n",
    "    NC &\\to libro | niño | niña \\\\\n",
    "    ADJ &\\to pesado | grande | pequeño | pequeña \\\\\n",
    "    V & \\to tiene | compró\n",
    "\\end{align}"
   ]
  },
  {
   "cell_type": "markdown",
   "metadata": {},
   "source": [
    "### Aplicación del algoritmo\n",
    "\n",
    "Podemos aplicarlo a una cadena específica y obtener la tabla. A partir de esta tabla podemos reconstruir el árbol que parsea la oración."
   ]
  },
  {
   "cell_type": "code",
   "execution_count": 4,
   "metadata": {},
   "outputs": [
    {
     "name": "stdout",
     "output_type": "stream",
     "text": [
      "            la  niña pequeña compró     un libro  grande\n",
      "la       [DET]  [FN]    [FN]     []     []   [O]     [O]\n",
      "niña        []  [NC]  [FADJ]     []     []    []      []\n",
      "pequeña     []    []   [ADJ]     []     []    []      []\n",
      "compró      []    []      []    [V]     []  [FV]    [FV]\n",
      "un          []    []      []     []  [DET]  [FN]    [FN]\n",
      "libro       []    []      []     []     []  [NC]  [FADJ]\n",
      "grande      []    []      []     []     []    []   [ADJ]\n"
     ]
    }
   ],
   "source": [
    "#Oración a probar\n",
    "oracion = \"la niña pequeña compró un libro grande\".split() \n",
    "#Árbol sintáctico\n",
    "Tree = CYKParse(oracion, CFG)\n",
    "\n",
    "print(pd.DataFrame(data=Tree, index=oracion, columns=oracion))"
   ]
  },
  {
   "cell_type": "markdown",
   "metadata": {},
   "source": [
    "Adaptado de: https://www.geeksforgeeks.org/cocke-younger-kasami-cyk-algorithm/"
   ]
  }
 ],
 "metadata": {
  "kernelspec": {
   "display_name": "Python 3",
   "language": "python",
   "name": "python3"
  },
  "language_info": {
   "codemirror_mode": {
    "name": "ipython",
    "version": 3
   },
   "file_extension": ".py",
   "mimetype": "text/x-python",
   "name": "python",
   "nbconvert_exporter": "python",
   "pygments_lexer": "ipython3",
   "version": "3.8.8"
  }
 },
 "nbformat": 4,
 "nbformat_minor": 4
}
