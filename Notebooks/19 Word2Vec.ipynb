{
 "cells": [
  {
   "cell_type": "markdown",
   "metadata": {
    "colab_type": "text",
    "id": "eGMq9GRfdTAO"
   },
   "source": [
    "# Implementación de Word2Vec (Softmax)\n",
    "\n",
    "\n",
    "En primer lugar, definimos las funciones necesarias: para stemming y para indexar el vocabulario.\n",
    "\n",
    "\n",
    "\n"
   ]
  },
  {
   "cell_type": "code",
   "execution_count": 31,
   "metadata": {
    "colab": {},
    "colab_type": "code",
    "id": "Izm4SEQrQ1ii"
   },
   "outputs": [],
   "source": [
    "#-*- encoding:utf-8 -*-\n",
    "import numpy as np\n",
    "import matplotlib.pyplot as plt\n",
    "import pandas as pd\n",
    "from collections import defaultdict, Counter\n",
    "from nltk.stem.snowball import SnowballStemmer\n",
    "from itertools import chain\n",
    "from re import sub\n",
    "from sklearn.decomposition import PCA\n",
    "from operator import itemgetter\n",
    "from nltk.corpus import cess_esp\n",
    "from sklearn.model_selection import train_test_split\n",
    "from nltk.tokenize import sent_tokenize, word_tokenize\n",
    "from re import compile, sub\n",
    "\n",
    "#Declaramos el stemeer\n",
    "stemizer = SnowballStemmer('spanish')\n",
    "\n",
    "#Funcion para stemming\n",
    "def stems(string):\n",
    "  stem_string = []\n",
    "  for w in string:\n",
    "    stem_string.append(stemizer.stem(w))\n",
    "  return stem_string\n",
    "\n",
    "#Funcion que crea un vocabulario de palabras con un indice numerico\n",
    "def vocab():\n",
    "    vocab = defaultdict()\n",
    "    vocab.default_factory = lambda: len(vocab)\n",
    "    return vocab    \n",
    "\n",
    "#Funcion que pasa la cadena de simbolos a una secuencia con indices numericos\n",
    "def text2numba(corpus, vocab):\n",
    "    for doc in corpus:\n",
    "        yield [vocab[w] for w in doc] #.split()]\n",
    "  "
   ]
  },
  {
   "cell_type": "markdown",
   "metadata": {
    "colab_type": "text",
    "id": "djATvRzkdlpF"
   },
   "source": [
    "Abrimos el corpus que bamos a utilizar y obtenemos los contextos."
   ]
  },
  {
   "cell_type": "code",
   "execution_count": 32,
   "metadata": {},
   "outputs": [
    {
     "name": "stdout",
     "output_type": "stream",
     "text": [
      "La candente mañana de febrero en que Beatriz Viterbo murió, después de una imperiosa agonía que no se rebajó un solo instante ni al sentimentalismo ni al miedo, noté que las carteleras de fierro de la Plaza Constitución habían renovado no sé qué aviso de cigarrillos rubios; el hecho me dolió, pues comprendí que el incesante y vasto universo ya se apartaba de ella y que ese cambio era el primero de una serie infinita.\n"
     ]
    }
   ],
   "source": [
    "#corpus = ['el perro come un hueso', 'un muchacho jugaba', 'el muchacho saltaba la cuerda',\n",
    "#          'un perro come croquetas', 'un muchacho juega']\n",
    "\n",
    "corpus = sent_tokenize(open('borges_aleph.txt','r', encoding='utf8').read().strip())\n",
    "print(corpus[0])"
   ]
  },
  {
   "cell_type": "markdown",
   "metadata": {
    "colab_type": "text",
    "id": "Yk7rejFwduxL"
   },
   "source": [
    "Posteriormente, limpiamos y stemizamos el corpus. Asimismo, creamos el vocabulario con índices numéricos y transformamos las cadenas de palabras encadenas de índices numéricos. Se crean venanas de $1\\times 1$"
   ]
  },
  {
   "cell_type": "code",
   "execution_count": 33,
   "metadata": {
    "colab": {
     "base_uri": "https://localhost:8080/",
     "height": 88
    },
    "colab_type": "code",
    "id": "S81y6C5cQ-m3",
    "outputId": "71bbaed8-f71e-422a-c146-2bc6dafef54d"
   },
   "outputs": [
    {
     "name": "stdout",
     "output_type": "stream",
     "text": [
      "['la', 'candent', 'mañan', 'de', 'febrer', 'en', 'que', 'beatriz', 'viterb', 'mur', 'despues', 'de', 'una', 'imperi', 'agon', 'que', 'no', 'se', 'rebaj', 'un', 'sol', 'instant', 'ni', 'al', 'sentimental', 'ni', 'al', 'mied', 'not', 'que', 'las', 'carteler', 'de', 'fierr', 'de', 'la', 'plaz', 'constitu', 'hab', 'renov', 'no', 'se', 'que', 'avis', 'de', 'cigarrill', 'rubi', 'el', 'hech', 'me', 'dol', 'pues', 'comprend', 'que', 'el', 'inces', 'y', 'vast', 'univers', 'ya', 'se', 'apart', 'de', 'ella', 'y', 'que', 'ese', 'cambi', 'era', 'el', 'primer', 'de', 'una', 'seri', 'infinit']\n",
      "[0, 1, 2, 3, 4, 5, 6, 7, 8, 9, 10, 3, 11, 12, 13, 6, 14, 15, 16, 17, 18, 19, 20, 21, 22, 20, 21, 23, 24, 6, 25, 26, 3, 27, 3, 0, 28, 29, 30, 31, 14, 15, 6, 32, 3, 33, 34, 35, 36, 37, 38, 39, 40, 6, 35, 41, 42, 43, 44, 45, 15, 46, 3, 47, 42, 6, 48, 49, 50, 35, 51, 3, 11, 52, 53]\n"
     ]
    }
   ],
   "source": [
    "#Abrimos el documento, lo limpiamos y separamos las cadenas\n",
    "#corpus = sub(r'[^\\w\\s]','',uploaded['corpus.es'].decode('utf8').strip().lower()).split('\\n')\n",
    "regex = compile('[^a-zA-Z| |ñáéíóú]')\n",
    "#Stemizamos el documento\n",
    "#corpus = [sent.split() for sent in corpus] #[stems(sent) for sent in corpus]\n",
    "corpus = [stems(word_tokenize(regex.sub('', sent).lower())) for sent in corpus]\n",
    "\n",
    "#Llamamos la funcion para crear el vocabulario\n",
    "idx = vocab()\n",
    "#Creamos el vocabulario y le asignamos un indice a cada simbolo segun su aparicion\n",
    "cads_idx = list(text2numba(corpus,idx))\n",
    "\n",
    "print(corpus[0])\n",
    "print(cads_idx[0])"
   ]
  },
  {
   "cell_type": "markdown",
   "metadata": {
    "colab_type": "text",
    "id": "LEqkLKT1d8uJ"
   },
   "source": [
    "   "
   ]
  },
  {
   "cell_type": "code",
   "execution_count": 4,
   "metadata": {
    "colab": {},
    "colab_type": "code",
    "id": "R6JlrRp-UkTT"
   },
   "outputs": [
    {
     "name": "stdout",
     "output_type": "stream",
     "text": [
      "[0, 1, 2, 3, 4, 5, 6, 7, 8, 9, 10, 3, 11, 12, 13, 6, 14, 15, 16, 17, 18, 19, 20, 21, 22, 20, 21, 23, 24, 6, 25, 26, 3, 27, 3, 0, 28, 29, 30, 31, 14, 15, 6, 32, 3, 33, 34, 35, 36, 37, 38, 39, 40, 6, 35, 41, 42, 43, 44, 45, 15, 46, 3, 47, 42, 6, 48, 49, 50, 35, 51, 3, 11, 52, 53]\n"
     ]
    }
   ],
   "source": [
    "cadenas = cads_idx \n",
    "\n",
    "#Se obtiene la longitud del alfabeto\n",
    "N = len(idx)\n",
    "\n",
    "print(cadenas[0])"
   ]
  },
  {
   "cell_type": "markdown",
   "metadata": {
    "colab_type": "text",
    "id": "KB6LnV6reHHX"
   },
   "source": [
    "Hecho esto, extraemos los bigramas del texto."
   ]
  },
  {
   "cell_type": "code",
   "execution_count": 5,
   "metadata": {
    "colab": {
     "base_uri": "https://localhost:8080/",
     "height": 54
    },
    "colab_type": "code",
    "id": "1Zz9irHXUoBY",
    "outputId": "4659f312-3049-4cd5-f7c8-30a71c16018f"
   },
   "outputs": [
    {
     "name": "stdout",
     "output_type": "stream",
     "text": [
      "[(0, 1), (1, 2), (2, 3), (3, 4), (4, 5), (5, 6), (6, 7), (7, 8), (8, 9), (9, 10), (10, 3), (3, 11), (11, 12), (12, 13), (13, 6), (6, 14), (14, 15), (15, 16), (16, 17), (17, 18), (18, 19), (19, 20), (20, 21), (21, 22), (22, 20), (20, 21), (21, 23), (23, 24), (24, 6), (6, 25), (25, 26), (26, 3), (3, 27), (27, 3), (3, 0), (0, 28), (28, 29), (29, 30), (30, 31), (31, 14), (14, 15), (15, 6), (6, 32), (32, 3), (3, 33), (33, 34), (34, 35), (35, 36), (36, 37), (37, 38), (38, 39), (39, 40), (40, 6), (6, 35), (35, 41), (41, 42), (42, 43), (43, 44), (44, 45), (45, 15), (15, 46), (46, 3), (3, 47), (47, 42), (42, 6), (6, 48), (48, 49), (49, 50), (50, 35), (35, 51), (51, 3), (3, 11), (11, 52), (52, 53), (49, 35), (35, 44), (44, 54), (54, 55), (55, 14), (14, 56), (56, 57), (57, 58), (58, 59), (59, 60), (60, 61), (61, 62), (62, 15), (15, 63), (63, 64), (64, 65), (65, 0), (0, 30), (30, 66), (66, 67), (67, 55), (55, 68), (68, 69), (69, 70), (70, 71), (71, 72)]\n"
     ]
    }
   ],
   "source": [
    "#Se crean los bigramas\n",
    "contexts = list(chain(*[zip(cad,cad[1:]) for cad in cadenas])) + list(chain(*[zip(cad[1:],cad) for cad in cadenas]))\n",
    "\n",
    "#Se obtiene la frecuencia de cada bigrama\n",
    "frecContexts = Counter(contexts)\n",
    "\n",
    "print(contexts[:100])"
   ]
  },
  {
   "cell_type": "markdown",
   "metadata": {
    "colab_type": "text",
    "id": "hV7tq43BeKKf"
   },
   "source": [
    "Ahora, paamos a la rd neuronla.\n",
    "Primero, inicializamos los parámetros de la red. Requerimos de dos matrices U (la matriz de embedding) y W (la matriz de la capa de salida)."
   ]
  },
  {
   "cell_type": "code",
   "execution_count": 6,
   "metadata": {
    "colab": {},
    "colab_type": "code",
    "id": "n8vAIJ9SUrKn"
   },
   "outputs": [
    {
     "name": "stdout",
     "output_type": "stream",
     "text": [
      "(2, 1524)\n",
      "(1524, 2)\n"
     ]
    }
   ],
   "source": [
    "np.random.seed(0)\n",
    "#El número de rasgos que representan cada vector\n",
    "nn_input_dim = N\n",
    "#El total de clases que arrojará\n",
    "output_dim = N\n",
    "#El número de ejmplos\n",
    "num_examples = len(contexts)\n",
    "\n",
    "#Dimensiones de los vectores-palabra\n",
    "dim = 2\n",
    "\n",
    "#Embedding\n",
    "C = np.random.randn(dim, N) / np.sqrt(N)\n",
    "\n",
    "#Capa de salida\n",
    "W = np.random.randn(N,dim) / np.sqrt(dim)\n",
    "\n",
    "print(C.shape)\n",
    "print(W.shape)"
   ]
  },
  {
   "cell_type": "markdown",
   "metadata": {
    "colab_type": "text",
    "id": "T1D2GmiZeX7q"
   },
   "source": [
    "Ahora entrenamos la red con el algoritmo de backpropagation y de gradiente descendiente."
   ]
  },
  {
   "cell_type": "code",
   "execution_count": 7,
   "metadata": {
    "colab": {
     "base_uri": "https://localhost:8080/",
     "height": 1717
    },
    "colab_type": "code",
    "id": "WavnS0vGUuD-",
    "outputId": "a4b4e46c-23e5-47ab-d61b-ae08d251e59b"
   },
   "outputs": [
    {
     "name": "stdout",
     "output_type": "stream",
     "text": [
      "Fin de la iteración 0. Riesgo: 62381.43560463933\n",
      "Fin de la iteración 1. Riesgo: 57249.781347191805\n",
      "Fin de la iteración 2. Riesgo: 53047.141059796355\n",
      "Fin de la iteración 3. Riesgo: 51374.9493898501\n",
      "Fin de la iteración 4. Riesgo: 50607.57749381352\n",
      "Fin de la iteración 5. Riesgo: 50132.26891223573\n",
      "Fin de la iteración 6. Riesgo: 49791.11830223971\n",
      "Fin de la iteración 7. Riesgo: 49526.6929912567\n",
      "Fin de la iteración 8. Riesgo: 49313.773906421826\n",
      "Fin de la iteración 9. Riesgo: 49138.70523447623\n",
      "Fin de la iteración 10. Riesgo: 48992.95779203332\n",
      "Fin de la iteración 11. Riesgo: 48870.602307142675\n",
      "Fin de la iteración 12. Riesgo: 48767.20061005804\n",
      "Fin de la iteración 13. Riesgo: 48679.342081658906\n",
      "Fin de la iteración 14. Riesgo: 48604.330886072734\n",
      "Fin de la iteración 15. Riesgo: 48539.96536081687\n",
      "Fin de la iteración 16. Riesgo: 48484.455329277014\n",
      "Fin de la iteración 17. Riesgo: 48436.38487175208\n",
      "Fin de la iteración 18. Riesgo: 48394.63049358595\n",
      "Fin de la iteración 19. Riesgo: 48358.25661567158\n",
      "Fin de la iteración 20. Riesgo: 48326.44047140278\n",
      "Fin de la iteración 21. Riesgo: 48298.44808681481\n",
      "Fin de la iteración 22. Riesgo: 48273.64519033824\n",
      "Fin de la iteración 23. Riesgo: 48251.50904325735\n",
      "Fin de la iteración 24. Riesgo: 48231.62120671019\n",
      "Fin de la iteración 25. Riesgo: 48213.646837867396\n",
      "Fin de la iteración 26. Riesgo: 48197.313259680705\n",
      "Fin de la iteración 27. Riesgo: 48182.39393444583\n",
      "Fin de la iteración 28. Riesgo: 48168.698235765376\n",
      "Fin de la iteración 29. Riesgo: 48156.06568571495\n",
      "Fin de la iteración 30. Riesgo: 48144.36360087332\n",
      "Fin de la iteración 31. Riesgo: 48133.48689044062\n",
      "Fin de la iteración 32. Riesgo: 48123.357237646516\n",
      "Fin de la iteración 33. Riesgo: 48113.91785562135\n",
      "Fin de la iteración 34. Riesgo: 48105.12282918956\n",
      "Fin de la iteración 35. Riesgo: 48096.92645282405\n",
      "Fin de la iteración 36. Riesgo: 48089.2796727821\n",
      "Fin de la iteración 37. Riesgo: 48082.133345631366\n",
      "Fin de la iteración 38. Riesgo: 48075.44213597053\n",
      "Fin de la iteración 39. Riesgo: 48069.16567485178\n",
      "Fin de la iteración 40. Riesgo: 48063.26793337794\n",
      "Fin de la iteración 41. Riesgo: 48057.7163912017\n",
      "Fin de la iteración 42. Riesgo: 48052.481533124876\n",
      "Fin de la iteración 43. Riesgo: 48047.53659158593\n",
      "Fin de la iteración 44. Riesgo: 48042.85737382608\n",
      "Fin de la iteración 45. Riesgo: 48038.4220916769\n",
      "Fin de la iteración 46. Riesgo: 48034.21117507606\n",
      "Fin de la iteración 47. Riesgo: 48030.20707572185\n",
      "Fin de la iteración 48. Riesgo: 48026.3940716228\n",
      "Fin de la iteración 49. Riesgo: 48022.75808086226\n",
      "Fin de la iteración 50. Riesgo: 48019.28648970376\n",
      "Fin de la iteración 51. Riesgo: 48015.967997692125\n",
      "Fin de la iteración 52. Riesgo: 48012.79248039494\n",
      "Fin de la iteración 53. Riesgo: 48009.75086865333\n",
      "Fin de la iteración 54. Riesgo: 48006.835041687584\n",
      "Fin de la iteración 55. Riesgo: 48004.03773041518\n",
      "Fin de la iteración 56. Riesgo: 48001.35242709017\n",
      "Fin de la iteración 57. Riesgo: 47998.77329790933\n",
      "Fin de la iteración 58. Riesgo: 47996.29509643762\n",
      "Fin de la iteración 59. Riesgo: 47993.91307728436\n",
      "Fin de la iteración 60. Riesgo: 47991.622911058286\n",
      "Fin de la iteración 61. Riesgo: 47989.420602919214\n",
      "Fin de la iteración 62. Riesgo: 47987.30241777354\n",
      "Fin de la iteración 63. Riesgo: 47985.26481518958\n",
      "Fin de la iteración 64. Riesgo: 47983.304396499196\n",
      "Fin de la iteración 65. Riesgo: 47981.41786543814\n",
      "Fin de la iteración 66. Riesgo: 47979.60200238597\n",
      "Fin de la iteración 67. Riesgo: 47977.85365100051\n",
      "Fin de la iteración 68. Riesgo: 47976.169715105\n",
      "Fin de la iteración 69. Riesgo: 47974.547163151656\n",
      "Fin de la iteración 70. Riesgo: 47972.98303750817\n",
      "Fin de la iteración 71. Riesgo: 47971.47446604892\n",
      "Fin de la iteración 72. Riesgo: 47970.018674049184\n",
      "Fin de la iteración 73. Riesgo: 47968.61299493079\n",
      "Fin de la iteración 74. Riesgo: 47967.254878989916\n",
      "Fin de la iteración 75. Riesgo: 47965.94189969099\n",
      "Fin de la iteración 76. Riesgo: 47964.67175747292\n",
      "Fin de la iteración 77. Riesgo: 47963.44228124322\n",
      "Fin de la iteración 78. Riesgo: 47962.25142786518\n",
      "Fin de la iteración 79. Riesgo: 47961.097279993504\n",
      "Fin de la iteración 80. Riesgo: 47959.97804261523\n",
      "Fin de la iteración 81. Riesgo: 47958.892038613\n",
      "Fin de la iteración 82. Riesgo: 47957.837703628385\n",
      "Fin de la iteración 83. Riesgo: 47956.813580436574\n",
      "Fin de la iteración 84. Riesgo: 47955.8183130103\n",
      "Fin de la iteración 85. Riesgo: 47954.85064038987\n",
      "Fin de la iteración 86. Riesgo: 47953.90939045614\n",
      "Fin de la iteración 87. Riesgo: 47952.99347367351\n",
      "Fin de la iteración 88. Riesgo: 47952.101876845525\n",
      "Fin de la iteración 89. Riesgo: 47951.233656932905\n",
      "Fin de la iteración 90. Riesgo: 47950.38793496217\n",
      "Fin de la iteración 91. Riesgo: 47949.56389006493\n",
      "Fin de la iteración 92. Riesgo: 47948.76075369099\n",
      "Fin de la iteración 93. Riesgo: 47947.97780403872\n",
      "Fin de la iteración 94. Riesgo: 47947.21436075266\n",
      "Fin de la iteración 95. Riesgo: 47946.46977994515\n",
      "Fin de la iteración 96. Riesgo: 47945.74344959325\n",
      "Fin de la iteración 97. Riesgo: 47945.03478536264\n",
      "Fin de la iteración 98. Riesgo: 47944.34322690278\n",
      "Fin de la iteración 99. Riesgo: 47943.66823464552\n",
      "CPU times: user 1min 17s, sys: 43.7 ms, total: 1min 17s\n",
      "Wall time: 1min 17s\n"
     ]
    }
   ],
   "source": [
    "%%time\n",
    "#Guarda el riesgo por época\n",
    "R = []\n",
    "\n",
    "#Hiperparámetros\n",
    "its = 100\n",
    "eta = 0.1\n",
    "for i in range(0,its):\n",
    "    #Acumula el riesgo de los \n",
    "    #ejemplos en la época actual\n",
    "    R_x = 0\n",
    "    for ex in contexts:\n",
    "        #Forward\n",
    "        #Embedimiento\n",
    "        u_w = C.T[ex[0]]\n",
    "        #salida\n",
    "        a = np.dot(W,u_w)\n",
    "        out = np.exp(a) # - np.max(a))\n",
    "        #Softmax\n",
    "        f = out/out.sum(0)\n",
    "        #Suma riesgo por ejemplo\n",
    "        R_x += -np.log(f)[ex[1]]\n",
    "\n",
    "        #Backprop\n",
    "        #Variable de salida\n",
    "        d_out = f\n",
    "        d_out[ex[1]] -= 1\n",
    "        \n",
    "        #Variable de embedding\n",
    "        d_emb = np.dot(d_out,W)\n",
    "        \n",
    "        #Actualizacion de salida\n",
    "        W -= eta*np.outer(d_out,u_w)\n",
    "\n",
    "        #Actualizacion de embedding\n",
    "        C.T[ex[0]] -= eta*d_emb\n",
    "    \n",
    "    #Guarda el riesgo en la época\n",
    "    R.append(R_x)\n",
    "    #Imprime información de época\n",
    "    print('Fin de la iteración {}. Riesgo: {}'.format(i, R_x))"
   ]
  },
  {
   "cell_type": "markdown",
   "metadata": {},
   "source": [
    "Podemos visualizar como se minimiza la función de riesgo a través de las iteraciones."
   ]
  },
  {
   "cell_type": "code",
   "execution_count": 8,
   "metadata": {},
   "outputs": [
    {
     "data": {
      "image/png": "[encoded data removed]",
      "text/plain": [
       "<Figure size 432x288 with 1 Axes>"
      ]
     },
     "metadata": {
      "needs_background": "light"
     },
     "output_type": "display_data"
    }
   ],
   "source": [
    "#Ploteo del riesgo\n",
    "plt.plot(R, 'v-')\n",
    "plt.title('Riesgo a través de las iteraciones')\n",
    "plt.xlabel('Iteración')\n",
    "plt.ylabel('Riesgo')\n",
    "plt.show()"
   ]
  },
  {
   "cell_type": "markdown",
   "metadata": {
    "colab_type": "text",
    "id": "kwMXH6kQefdq"
   },
   "source": [
    "### Aplicación de la red\n",
    "\n",
    "Entrenada la red, definimos una función forward para obtener las probabilidades a partir de la red ya entrenada."
   ]
  },
  {
   "cell_type": "code",
   "execution_count": 9,
   "metadata": {
    "colab": {},
    "colab_type": "code",
    "id": "PEItxrWkU1kQ"
   },
   "outputs": [],
   "source": [
    "#Forward\n",
    "def forward(x):    \n",
    "    #Embedimiento\n",
    "    u_w = C.T[x]\n",
    "    #Capa de salida\n",
    "    out = np.exp(np.dot(W,u_w))\n",
    "    p = out/out.sum(0)\n",
    "    return p"
   ]
  },
  {
   "cell_type": "markdown",
   "metadata": {
    "colab_type": "text",
    "id": "HwaTKqUqel5x"
   },
   "source": [
    "Podemos probar cómo son las probabilidades de la red. En este caso, lo hacemos para el símbolo BOS."
   ]
  },
  {
   "cell_type": "code",
   "execution_count": 28,
   "metadata": {
    "colab": {
     "base_uri": "https://localhost:8080/",
     "height": 20009
    },
    "colab_type": "code",
    "id": "5bF46KR0Y3V2",
    "outputId": "dcc3893f-33ac-4653-df60-743b0e87d2bd"
   },
   "outputs": [
    {
     "data": {
      "text/plain": [
       "[('de', 0.038176918142471886),\n",
       " ('en', 0.017909391041895956),\n",
       " ('a', 0.014557162648726535),\n",
       " ('y', 0.014334084561012865),\n",
       " ('que', 0.011315246430016352),\n",
       " ('vi', 0.007330155355420444),\n",
       " ('tod', 0.006928234128033684),\n",
       " ('aleph', 0.006317570202325492),\n",
       " ('par', 0.006088867848752325),\n",
       " ('es', 0.005744297763202286),\n",
       " ('por', 0.0057261053981883915),\n",
       " ('era', 0.004747870099240432),\n",
       " ('del', 0.004549816290149445),\n",
       " ('con', 0.004353379088178406),\n",
       " ('argentin', 0.004123669943301754),\n",
       " ('espej', 0.004077811849812892),\n",
       " ('per', 0.003991795942585374),\n",
       " ('sol', 0.0038395116084809127),\n",
       " ('o', 0.0035962397547391212),\n",
       " ('se', 0.0035133773986019854)]"
      ]
     },
     "execution_count": 28,
     "metadata": {},
     "output_type": "execute_result"
    }
   ],
   "source": [
    "#for word in idx.keys():\n",
    "probs = sorted(list(zip(idx.keys(),forward(idx['infinit']))), key=itemgetter(1), reverse=True)\n",
    "probs[:20]"
   ]
  },
  {
   "cell_type": "markdown",
   "metadata": {},
   "source": [
    "## Vectores distribuidos\n",
    "\n",
    "Los vectores de word embeddings se almacenan en la matriz de la capa de embedding (capa oculta). De esta forma, cada columna de la matriz corresponde a un vector que representa una palabra."
   ]
  },
  {
   "cell_type": "code",
   "execution_count": 11,
   "metadata": {},
   "outputs": [
    {
     "data": {
      "text/html": [
       "<div>\n",
       "<style scoped>\n",
       "    .dataframe tbody tr th:only-of-type {\n",
       "        vertical-align: middle;\n",
       "    }\n",
       "\n",
       "    .dataframe tbody tr th {\n",
       "        vertical-align: top;\n",
       "    }\n",
       "\n",
       "    .dataframe thead th {\n",
       "        text-align: right;\n",
       "    }\n",
       "</style>\n",
       "<table border=\"1\" class=\"dataframe\">\n",
       "  <thead>\n",
       "    <tr style=\"text-align: right;\">\n",
       "      <th></th>\n",
       "      <th>0</th>\n",
       "      <th>1</th>\n",
       "    </tr>\n",
       "  </thead>\n",
       "  <tbody>\n",
       "    <tr>\n",
       "      <th>la</th>\n",
       "      <td>0.071946</td>\n",
       "      <td>1.571248</td>\n",
       "    </tr>\n",
       "    <tr>\n",
       "      <th>candent</th>\n",
       "      <td>2.120305</td>\n",
       "      <td>-0.557875</td>\n",
       "    </tr>\n",
       "    <tr>\n",
       "      <th>mañan</th>\n",
       "      <td>-2.338513</td>\n",
       "      <td>2.880450</td>\n",
       "    </tr>\n",
       "    <tr>\n",
       "      <th>de</th>\n",
       "      <td>0.013222</td>\n",
       "      <td>0.371907</td>\n",
       "    </tr>\n",
       "    <tr>\n",
       "      <th>febrer</th>\n",
       "      <td>1.694601</td>\n",
       "      <td>3.931954</td>\n",
       "    </tr>\n",
       "    <tr>\n",
       "      <th>...</th>\n",
       "      <td>...</td>\n",
       "      <td>...</td>\n",
       "    </tr>\n",
       "    <tr>\n",
       "      <th>ment</th>\n",
       "      <td>0.957419</td>\n",
       "      <td>1.031564</td>\n",
       "    </tr>\n",
       "    <tr>\n",
       "      <th>poros</th>\n",
       "      <td>1.093793</td>\n",
       "      <td>1.628693</td>\n",
       "    </tr>\n",
       "    <tr>\n",
       "      <th>tragic</th>\n",
       "      <td>3.008104</td>\n",
       "      <td>-1.405820</td>\n",
       "    </tr>\n",
       "    <tr>\n",
       "      <th>erosion</th>\n",
       "      <td>-0.072291</td>\n",
       "      <td>1.547840</td>\n",
       "    </tr>\n",
       "    <tr>\n",
       "      <th>estel</th>\n",
       "      <td>-1.130263</td>\n",
       "      <td>1.987682</td>\n",
       "    </tr>\n",
       "  </tbody>\n",
       "</table>\n",
       "<p>1524 rows × 2 columns</p>\n",
       "</div>"
      ],
      "text/plain": [
       "                0         1\n",
       "la       0.071946  1.571248\n",
       "candent  2.120305 -0.557875\n",
       "mañan   -2.338513  2.880450\n",
       "de       0.013222  0.371907\n",
       "febrer   1.694601  3.931954\n",
       "...           ...       ...\n",
       "ment     0.957419  1.031564\n",
       "poros    1.093793  1.628693\n",
       "tragic   3.008104 -1.405820\n",
       "erosion -0.072291  1.547840\n",
       "estel   -1.130263  1.987682\n",
       "\n",
       "[1524 rows x 2 columns]"
      ]
     },
     "execution_count": 11,
     "metadata": {},
     "output_type": "execute_result"
    }
   ],
   "source": [
    "pd.DataFrame(data=C.T, index=list(idx.keys()))"
   ]
  },
  {
   "cell_type": "markdown",
   "metadata": {},
   "source": [
    "Podemos, entonces, visualizar los datos en un espacio vectorial."
   ]
  },
  {
   "cell_type": "code",
   "execution_count": 12,
   "metadata": {},
   "outputs": [],
   "source": [
    "#Función para visualizar palabras\n",
    "def plot_words(Z,ids):\n",
    "    Z = PCA(2).fit_transform(Z)\n",
    "    r=0\n",
    "    plt.scatter(Z[:,0],Z[:,1], marker='o', c='blue')\n",
    "    for label,x,y in zip(ids, Z[:,0], Z[:,1]):\n",
    "        plt.annotate(label, xy=(x,y), xytext=(-1,1), textcoords='offset points', ha='center', va='bottom')\n",
    "        r+=1"
   ]
  },
  {
   "cell_type": "code",
   "execution_count": 36,
   "metadata": {},
   "outputs": [
    {
     "data": {
      "image/png": "[encoded data removed]",
      "text/plain": [
       "<Figure size 432x288 with 1 Axes>"
      ]
     },
     "metadata": {
      "needs_background": "light"
     },
     "output_type": "display_data"
    }
   ],
   "source": [
    "#Visualización de los embeddings\n",
    "plot_words(C.T[:100], list(idx.keys())[:100])\n",
    "plt.title('Embeddings')\n",
    "plt.show()"
   ]
  },
  {
   "cell_type": "markdown",
   "metadata": {},
   "source": [
    "## Implementación con Pytorch\n",
    "\n",
    "La paquetería de Pytorch permite implementar modelos basados en redes neuronales. Por tanto, podemos implementar una red para obtener embeddings como en el algoritmo de Word2Vec."
   ]
  },
  {
   "cell_type": "code",
   "execution_count": 14,
   "metadata": {},
   "outputs": [],
   "source": [
    "import torch\n",
    "import torch.nn as nn"
   ]
  },
  {
   "cell_type": "markdown",
   "metadata": {},
   "source": [
    "Definimos la red. En este caso, Pytorch ya cuenta con capas de embeddings, por lo que únicamente bastará señalar que queremos una capa de tipo Embedding."
   ]
  },
  {
   "cell_type": "code",
   "execution_count": 15,
   "metadata": {},
   "outputs": [],
   "source": [
    "network = nn.Sequential(nn.Embedding(N, 2),nn.Linear(2, N, bias=False), nn.Softmax(dim=1))"
   ]
  },
  {
   "cell_type": "markdown",
   "metadata": {},
   "source": [
    "Definimos la función de riesgo y el optimizador:"
   ]
  },
  {
   "cell_type": "code",
   "execution_count": 16,
   "metadata": {},
   "outputs": [],
   "source": [
    "risk = nn.CrossEntropyLoss()\n",
    "optimizer = torch.optim.SGD(network.parameters(), lr=0.1)"
   ]
  },
  {
   "cell_type": "markdown",
   "metadata": {},
   "source": [
    "Procedemos a entrenar la red con los datos:"
   ]
  },
  {
   "cell_type": "code",
   "execution_count": 17,
   "metadata": {},
   "outputs": [
    {
     "name": "stdout",
     "output_type": "stream",
     "text": [
      "Fin de la iteración 0. Riesgo: 63715.2265625\n",
      "Fin de la iteración 1. Riesgo: 63715.22265625\n",
      "Fin de la iteración 2. Riesgo: 63715.22265625\n",
      "Fin de la iteración 3. Riesgo: 63715.21875\n",
      "Fin de la iteración 4. Riesgo: 63715.2109375\n",
      "Fin de la iteración 5. Riesgo: 63715.2109375\n",
      "Fin de la iteración 6. Riesgo: 63715.203125\n",
      "Fin de la iteración 7. Riesgo: 63715.1875\n",
      "Fin de la iteración 8. Riesgo: 63715.18359375\n",
      "Fin de la iteración 9. Riesgo: 63715.18359375\n",
      "Fin de la iteración 10. Riesgo: 63715.18359375\n",
      "Fin de la iteración 11. Riesgo: 63715.1796875\n",
      "Fin de la iteración 12. Riesgo: 63715.1640625\n",
      "Fin de la iteración 13. Riesgo: 63715.15234375\n",
      "Fin de la iteración 14. Riesgo: 63715.1484375\n",
      "Fin de la iteración 15. Riesgo: 63715.13671875\n",
      "Fin de la iteración 16. Riesgo: 63715.12109375\n",
      "Fin de la iteración 17. Riesgo: 63715.11328125\n",
      "Fin de la iteración 18. Riesgo: 63715.0859375\n",
      "Fin de la iteración 19. Riesgo: 63715.06640625\n",
      "Fin de la iteración 20. Riesgo: 63715.03125\n",
      "Fin de la iteración 21. Riesgo: 63714.99609375\n",
      "Fin de la iteración 22. Riesgo: 63714.96484375\n",
      "Fin de la iteración 23. Riesgo: 63714.859375\n",
      "Fin de la iteración 24. Riesgo: 63714.7734375\n",
      "Fin de la iteración 25. Riesgo: 63714.625\n",
      "Fin de la iteración 26. Riesgo: 63714.45703125\n",
      "Fin de la iteración 27. Riesgo: 63714.08984375\n",
      "Fin de la iteración 28. Riesgo: 63712.9609375\n",
      "Fin de la iteración 29. Riesgo: 63703.78515625\n",
      "Fin de la iteración 30. Riesgo: 63658.359375\n",
      "Fin de la iteración 31. Riesgo: 63621.3828125\n",
      "Fin de la iteración 32. Riesgo: 63594.75\n",
      "Fin de la iteración 33. Riesgo: 63571.46875\n",
      "Fin de la iteración 34. Riesgo: 63526.625\n",
      "Fin de la iteración 35. Riesgo: 63514.59765625\n",
      "Fin de la iteración 36. Riesgo: 63502.90625\n",
      "Fin de la iteración 37. Riesgo: 63494.09375\n",
      "Fin de la iteración 38. Riesgo: 63481.578125\n",
      "Fin de la iteración 39. Riesgo: 63471.625\n",
      "Fin de la iteración 40. Riesgo: 63466.54296875\n",
      "Fin de la iteración 41. Riesgo: 63459.5625\n",
      "Fin de la iteración 42. Riesgo: 63453.41015625\n",
      "Fin de la iteración 43. Riesgo: 63449.34765625\n",
      "Fin de la iteración 44. Riesgo: 63447.5546875\n",
      "Fin de la iteración 45. Riesgo: 63446.2265625\n",
      "Fin de la iteración 46. Riesgo: 63444.2265625\n",
      "Fin de la iteración 47. Riesgo: 63442.70703125\n",
      "Fin de la iteración 48. Riesgo: 63440.9296875\n",
      "Fin de la iteración 49. Riesgo: 63440.46875\n",
      "Fin de la iteración 50. Riesgo: 63440.23828125\n",
      "Fin de la iteración 51. Riesgo: 63439.515625\n",
      "Fin de la iteración 52. Riesgo: 63438.84375\n",
      "Fin de la iteración 53. Riesgo: 63438.27734375\n",
      "Fin de la iteración 54. Riesgo: 63437.69921875\n",
      "Fin de la iteración 55. Riesgo: 63436.89453125\n",
      "Fin de la iteración 56. Riesgo: 63436.3984375\n",
      "Fin de la iteración 57. Riesgo: 63436.26953125\n",
      "Fin de la iteración 58. Riesgo: 63435.86328125\n",
      "Fin de la iteración 59. Riesgo: 63435.06640625\n",
      "Fin de la iteración 60. Riesgo: 63434.03125\n",
      "Fin de la iteración 61. Riesgo: 63433.32421875\n",
      "Fin de la iteración 62. Riesgo: 63433.00390625\n",
      "Fin de la iteración 63. Riesgo: 63432.28125\n",
      "Fin de la iteración 64. Riesgo: 63431.77734375\n",
      "Fin de la iteración 65. Riesgo: 63430.52734375\n",
      "Fin de la iteración 66. Riesgo: 63429.86328125\n",
      "Fin de la iteración 67. Riesgo: 63429.40234375\n",
      "Fin de la iteración 68. Riesgo: 63429.3515625\n",
      "Fin de la iteración 69. Riesgo: 63429.29296875\n",
      "Fin de la iteración 70. Riesgo: 63429.14453125\n",
      "Fin de la iteración 71. Riesgo: 63428.60546875\n",
      "Fin de la iteración 72. Riesgo: 63428.1015625\n",
      "Fin de la iteración 73. Riesgo: 63427.6640625\n",
      "Fin de la iteración 74. Riesgo: 63426.8828125\n",
      "Fin de la iteración 75. Riesgo: 63426.19921875\n",
      "Fin de la iteración 76. Riesgo: 63425.37109375\n",
      "Fin de la iteración 77. Riesgo: 63424.07421875\n",
      "Fin de la iteración 78. Riesgo: 63421.55078125\n",
      "Fin de la iteración 79. Riesgo: 63420.09765625\n",
      "Fin de la iteración 80. Riesgo: 63418.921875\n",
      "Fin de la iteración 81. Riesgo: 63417.0078125\n",
      "Fin de la iteración 82. Riesgo: 63415.640625\n",
      "Fin de la iteración 83. Riesgo: 63414.37109375\n",
      "Fin de la iteración 84. Riesgo: 63412.89453125\n",
      "Fin de la iteración 85. Riesgo: 63411.828125\n",
      "Fin de la iteración 86. Riesgo: 63410.1796875\n",
      "Fin de la iteración 87. Riesgo: 63408.87109375\n",
      "Fin de la iteración 88. Riesgo: 63406.9765625\n",
      "Fin de la iteración 89. Riesgo: 63405.359375\n",
      "Fin de la iteración 90. Riesgo: 63404.3984375\n",
      "Fin de la iteración 91. Riesgo: 63403.70703125\n",
      "Fin de la iteración 92. Riesgo: 63400.0234375\n",
      "Fin de la iteración 93. Riesgo: 63395.16015625\n",
      "Fin de la iteración 94. Riesgo: 63394.74609375\n",
      "Fin de la iteración 95. Riesgo: 63394.4921875\n",
      "Fin de la iteración 96. Riesgo: 63394.17578125\n",
      "Fin de la iteración 97. Riesgo: 63393.8046875\n",
      "Fin de la iteración 98. Riesgo: 63393.421875\n",
      "Fin de la iteración 99. Riesgo: 63393.03125\n",
      "CPU times: user 33min 24s, sys: 14 s, total: 33min 38s\n",
      "Wall time: 5min 35s\n"
     ]
    }
   ],
   "source": [
    "%%time\n",
    "R2 = []\n",
    "for i in range(0,its):\n",
    "    R_it = 0\n",
    "    for ex in contexts:\n",
    "        optimizer.zero_grad()\n",
    "        probs = network(torch.tensor([ex[0]]))\n",
    "        loss = risk(probs, torch.LongTensor([ex[1]]))\n",
    "        loss.backward()\n",
    "        optimizer.step()\n",
    "        R_it += loss.detach()\n",
    "        \n",
    "    #Guarda el riesgo en la época\n",
    "    R2.append(R_it)\n",
    "    #Imprime información de época\n",
    "    print('Fin de la iteración {}. Riesgo: {}'.format(i, R_it))"
   ]
  },
  {
   "cell_type": "markdown",
   "metadata": {},
   "source": [
    "Podemos visualizar el riesgo:"
   ]
  },
  {
   "cell_type": "code",
   "execution_count": 18,
   "metadata": {},
   "outputs": [
    {
     "data": {
      "image/png": "[encoded data removed]",
      "text/plain": [
       "<Figure size 432x288 with 1 Axes>"
      ]
     },
     "metadata": {
      "needs_background": "light"
     },
     "output_type": "display_data"
    }
   ],
   "source": [
    "#Ploteo del riesgo\n",
    "plt.plot(R2, 'v-')\n",
    "plt.title('Riesgo a través de las iteraciones')\n",
    "plt.xlabel('Iteración')\n",
    "plt.ylabel('Riesgo')\n",
    "plt.show()"
   ]
  },
  {
   "cell_type": "markdown",
   "metadata": {},
   "source": [
    "Finalmente, observamos el comportamiento de los embeddings:"
   ]
  },
  {
   "cell_type": "code",
   "execution_count": 19,
   "metadata": {},
   "outputs": [
    {
     "data": {
      "image/png": "[encoded data removed]",
      "text/plain": [
       "<Figure size 432x288 with 1 Axes>"
      ]
     },
     "metadata": {
      "needs_background": "light"
     },
     "output_type": "display_data"
    }
   ],
   "source": [
    "C2 = network[0].weight.detach()\n",
    "plot_words(C2[:100], list(idx.keys())[:100])\n",
    "plt.title('Embeddings obtenidos con pytorch')\n",
    "plt.show()"
   ]
  },
  {
   "cell_type": "markdown",
   "metadata": {},
   "source": [
    "  "
   ]
  }
 ],
 "metadata": {
  "colab": {
   "name": "Untitled0.ipynb",
   "provenance": [],
   "version": "0.3.2"
  },
  "kernelspec": {
   "display_name": "Python 3",
   "language": "python",
   "name": "python3"
  },
  "language_info": {
   "codemirror_mode": {
    "name": "ipython",
    "version": 3
   },
   "file_extension": ".py",
   "mimetype": "text/x-python",
   "name": "python",
   "nbconvert_exporter": "python",
   "pygments_lexer": "ipython3",
   "version": "3.8.8"
  }
 },
 "nbformat": 4,
 "nbformat_minor": 1
}
