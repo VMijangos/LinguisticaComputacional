{
 "cells": [
  {
   "cell_type": "markdown",
   "metadata": {
    "colab_type": "text",
    "id": "NROOXLsOmotf"
   },
   "source": [
    "# Modelo de bigramas para el corpus CESS\n",
    "\n",
    "En las aplicaciones concretas de los modelos  del lenguaje surgen diferentes problemas, tales como:\n",
    "\n",
    "* En la estimación del modelo no se presentan todas las palabras de una lengua.\n",
    "* Calcular la probabilidad de una cadena nueva que  contiene una palabra no observada en la estimación puede causar problemas.\n",
    "\n",
    "Por tanto, aquí propondremos el uso de un símbolo UNK para manejar elementos del vocabulario que no se observaron."
   ]
  },
  {
   "cell_type": "code",
   "execution_count": 1,
   "metadata": {
    "colab": {},
    "colab_type": "code",
    "id": "fBPMUVwq2Vq9"
   },
   "outputs": [],
   "source": [
    "import nltk\n",
    "import numpy as np\n",
    "import matplotlib.pyplot as plt\n",
    "from nltk.corpus import cess_esp\n",
    "from collections import Counter,defaultdict\n",
    "from itertools import chain\n",
    "from sklearn.model_selection import train_test_split"
   ]
  },
  {
   "cell_type": "markdown",
   "metadata": {
    "colab_type": "text",
    "id": "d2h8xq0FnlQl"
   },
   "source": [
    "### Pre-procesamiento del corpus\n",
    "\n",
    "En primer lugar obtenemos el corpus, agregamos los símbolos de inicio BOS y final EOS, asímismo utilizaremos el símbolo UNK."
   ]
  },
  {
   "cell_type": "code",
   "execution_count": 2,
   "metadata": {
    "colab": {
     "base_uri": "https://localhost:8080/",
     "height": 68
    },
    "colab_type": "code",
    "id": "bGmvbGQc2-UD",
    "outputId": "06eeda7f-ad27-4c6c-d729-77009b4211ca"
   },
   "outputs": [],
   "source": [
    "#nltk.download('cess_esp')"
   ]
  },
  {
   "cell_type": "code",
   "execution_count": 3,
   "metadata": {
    "colab": {},
    "colab_type": "code",
    "id": "FgRxS9tR3l5Q"
   },
   "outputs": [],
   "source": [
    "#Funcion que crea un vocabulario de palabras con un indice numerico\n",
    "def vocab():\n",
    "    vocab = defaultdict()\n",
    "    vocab.default_factory = lambda: len(vocab)\n",
    "    return vocab    \n",
    "\n",
    "#Funcion que pasa la cadena de simbolos a una secuencia con indices numericos\n",
    "def text2numba(corpus, vocab):\n",
    "    for doc in corpus:\n",
    "        yield [vocab[w.lower()] for w in doc if w not in ['*0*','-fpa-', '3p', '-fpt-', '-fpa-']]"
   ]
  },
  {
   "cell_type": "markdown",
   "metadata": {
    "colab_type": "text",
    "id": "xIDMjOjun5jK"
   },
   "source": [
    "Separaremos el corpus en dos subconjuntos:\n",
    "\n",
    "* Corpus de entrenamiento (70\\%), a partir del cual estimaremos el modelo.\n",
    "* Corpus de evaluación (30\\%), a partir  del cual podremos evaluar la calidad del modelo."
   ]
  },
  {
   "cell_type": "code",
   "execution_count": 4,
   "metadata": {
    "colab": {
     "base_uri": "https://localhost:8080/",
     "height": 51
    },
    "colab_type": "code",
    "id": "3ludeldz3KdS",
    "outputId": "19f77997-ff60-49ed-ac11-aab1510264cc"
   },
   "outputs": [
    {
     "name": "stdout",
     "output_type": "stream",
     "text": [
      "Número de cadenas train: 4221\n",
      "Número de cadenas test: 1809\n"
     ]
    }
   ],
   "source": [
    "#Split en corpus train y test\n",
    "corpus, corpus_eval = train_test_split(cess_esp.sents(), test_size=0.3)\n",
    "\n",
    "print('Número de cadenas train:',len(corpus))\n",
    "print('Número de cadenas test:',len(corpus_eval))"
   ]
  },
  {
   "cell_type": "markdown",
   "metadata": {
    "colab_type": "text",
    "id": "6hEFHWCXoOWa"
   },
   "source": [
    "Para manejar palabras que no se observen en el entrenamiento, observaremos que, en la distribución de Zipf, los elementos con frecuencia 1 (hápax legumena) son poco relevantes para la  estimación del modelo. Lo que haremos será sustituir estos elementos por un símbolo OOV. Es decir, trabajaremos estas palabras como elementos desconocidos. Así, cada vez que el modelo no reconozca un elemento lo enviará al símbolo OOV."
   ]
  },
  {
   "cell_type": "code",
   "execution_count": 5,
   "metadata": {
    "colab": {
     "base_uri": "https://localhost:8080/",
     "height": 299
    },
    "colab_type": "code",
    "id": "JEOP5Am05PFm",
    "outputId": "34cf16c3-3ff8-4d85-e420-c63e93d31df8"
   },
   "outputs": [
    {
     "data": {
      "image/png": "[encoded data removed]",
      "text/plain": [
       "<Figure size 432x288 with 1 Axes>"
      ]
     },
     "metadata": {
      "needs_background": "light"
     },
     "output_type": "display_data"
    }
   ],
   "source": [
    "#Frecuencia de los tipos\n",
    "freq_words= Counter( chain(*[' '.join(sent).lower().split() for sent in corpus]) )\n",
    "\n",
    "#Ploteo de la curva de zipf\n",
    "plt.plot(sorted(freq_words.values(), reverse=True), 'o')\n",
    "plt.xlabel('rango')\n",
    "plt.ylabel('frecuencia')\n",
    "plt.xscale('log')\n",
    "plt.yscale('log')\n",
    "plt.title('Curva de Zipf (corpus CESS)')\n",
    "plt.show()"
   ]
  },
  {
   "cell_type": "code",
   "execution_count": 6,
   "metadata": {
    "colab": {},
    "colab_type": "code",
    "id": "KYvlVZV265_b"
   },
   "outputs": [],
   "source": [
    "#Nuevo corpus remplazando hápax por OOV\n",
    "corpus_hapax = []\n",
    "#Reemplazamos los hápax por OOV\n",
    "for sent in corpus:\n",
    "  sent_hapax =[]\n",
    "  for w in sent:\n",
    "    #Si es hápax\n",
    "    if freq_words[w.lower()] == 1:\n",
    "      #Se reemplaza por <oov>\n",
    "      sent_hapax.append('<oov>')\n",
    "    else:\n",
    "      #De otra forma se mantiene la palabra en mínuscula\n",
    "      sent_hapax.append(w.lower())\n",
    "  #Se agrupan las cadenas    \n",
    "  corpus_hapax.append(sent_hapax)"
   ]
  },
  {
   "cell_type": "markdown",
   "metadata": {
    "colab_type": "text",
    "id": "7W9XHSqnpM4n"
   },
   "source": [
    "Podemos observar que el texto ahora tendrá símonolos OOV sustituyendo a ciertas palabras hápax"
   ]
  },
  {
   "cell_type": "code",
   "execution_count": 7,
   "metadata": {
    "colab": {
     "base_uri": "https://localhost:8080/",
     "height": 207
    },
    "colab_type": "code",
    "id": "s3neXUXK7bm0",
    "outputId": "eb9d7ea6-2f68-4234-a236-54720fbcba00"
   },
   "outputs": [
    {
     "name": "stdout",
     "output_type": "stream",
     "text": [
      "\" <oov> \" <oov> es el rey de la velocidad explosiva y el \" <oov> \" el de la <oov> .\n",
      "ocurre , sencillamente , que *0* no se pueden ver , que *0* se tienen manía , que uno y otro se hallan <oov> .\n",
      "el aplazamiento de los comicios fue <oov> además por la misión de observadores electorales de la organización_de_estados_americanos -fpa- oea -fpt- , para poder probar el programa informático de <oov> de votos que se usará en la nueva elección .\n",
      "el brazo , por_ejemplo , presenta el pelo curiosamente vuelto hacia arriba , detalle que han explicado los científicos <oov> que sólo así <oov> el <oov> que el agua de la lluvia llegue hasta sus manos y *0* le <oov> sus movimientos usuales .\n",
      "la jornada también dejó para el recuerdo la goleada de la real_sociedad sobre el athletic -fpa- <oov> -fpt- en el duelo vasco y un nuevo <oov> del atlético_de_madrid , esta vez en casa frente_al málaga -fpa- <oov> -fpt- .\n",
      "garcía explicó que las compañías de telecomunicaciones pueden lograr un ahorro de hasta el 60_por_ciento al operar en este mercado virtual , y *0* sólo deben abonar a iber-x una comisión sobre la operación , del 3_por_ciento el vendedor y del 2_por_ciento el comprador .\n",
      "la nación española comienza en <oov> -fpa- <oov> -fpt- y *0* acaba <oov> en la laguna de <oov> -fpa- <oov> -fpt- con el <oov> .\n",
      "la velocidad , a su vez , puede acelerar o retrasar <oov> los relojes , <oov> el viaje se <oov> hacia el oeste o hacia el este .\n",
      "\" la secretaria o la <oov> cometió un error y nadie se dio_cuenta \" , afirmó <oov> - ex entrenador del <oov> y el <oov> - quien , además , asegura que en bremen *0* están <oov> con la postura del zagreb .\n",
      "preguntado por las críticas del presidente del psc , pasqual_maragall , a que *0* se trasvase del ebro a las comarcas de sur de la comunidad_valenciana porque *0* \" <oov> \" agua , pla dijo que *0* \" comparto la idea de que *0* tenemos que plantear una solución \" a estas comarcas \" que vaya <oov> no_sólo al aprovechamiento del trasvase del agua del ebro \" .\n"
     ]
    }
   ],
   "source": [
    "for sent in corpus_hapax[:10]:\n",
    "  print(' '.join(sent))"
   ]
  },
  {
   "cell_type": "markdown",
   "metadata": {
    "colab_type": "text",
    "id": "Osec3qYlpZ_f"
   },
   "source": [
    "Ahora indexamos las palabras"
   ]
  },
  {
   "cell_type": "code",
   "execution_count": 8,
   "metadata": {
    "colab": {
     "base_uri": "https://localhost:8080/",
     "height": 54
    },
    "colab_type": "code",
    "id": "4cxObZOW3j4q",
    "outputId": "1da97e29-e3dd-4530-af30-629436a40d7c"
   },
   "outputs": [
    {
     "name": "stdout",
     "output_type": "stream",
     "text": [
      "[[0, 1, 0, 1, 2, 3, 4, 5, 6, 7, 8, 9, 3, 0, 1, 0, 3, 5, 6, 1, 10], [11, 12, 13, 12, 14, 15, 16, 17, 18, 12, 14, 16, 19, 20, 12, 14, 21, 9, 22, 16, 23, 1, 10], [3, 24, 5, 25, 26, 27, 1, 28, 29, 6, 30, 5, 31, 32, 5, 6, 33, 34, 12, 35, 36, 37, 3, 38, 39, 5, 1, 5, 40, 14, 16, 41, 42, 6, 43, 44, 10], [3, 45, 12, 46, 12, 47, 3, 48, 49, 50, 51, 52, 12, 53, 14, 54, 55, 25, 56, 1, 14, 57, 58, 1, 3, 1, 14, 3, 59, 5, 6, 60, 61, 62, 63, 64, 9, 65, 1, 63, 66, 67, 10], [6, 68, 69, 70, 35, 3, 71, 6, 72, 5, 6, 73, 74, 3, 75, 1, 42, 3, 76, 77, 9, 78, 79, 1, 80, 81, 12, 82, 83, 42, 84, 85, 86, 1, 10], [87, 88, 14, 89, 90, 5, 91, 17, 92, 78, 93, 5, 62, 3, 94, 95, 96, 42, 97, 98, 99, 12, 9, 57, 100, 101, 102, 103, 104, 105, 74, 6, 106, 12, 80, 107, 3, 108, 9, 80, 109, 3, 110, 10], [6, 111, 112, 113, 42, 1, 1, 9, 114, 1, 42, 6, 115, 5, 1, 1, 116, 3, 1, 10], [6, 7, 12, 102, 117, 83, 12, 118, 119, 120, 121, 1, 25, 122, 12, 1, 3, 123, 16, 1, 51, 3, 124, 120, 51, 3, 97, 10], [0, 6, 125, 120, 6, 1, 126, 78, 127, 9, 128, 16, 129, 0, 12, 130, 1, 131, 132, 133, 80, 1, 9, 3, 1, 131, 134, 12, 28, 12, 135, 14, 42, 136, 137, 1, 116, 6, 138, 80, 139, 10], [140, 29, 89, 141, 80, 142, 80, 143, 12, 144, 12, 102, 14, 16, 145, 80, 146, 102, 89, 147, 5, 148, 5, 6, 149, 150, 0, 1, 0, 59, 12, 151, 152, 14, 0, 153, 6, 154, 5, 14, 155, 14, 156, 104, 157, 0, 102, 158, 147, 0, 14, 159, 1, 160, 95, 161, 80, 145, 80, 59, 80, 146, 0, 10]]\n"
     ]
    }
   ],
   "source": [
    "voc = vocab()\n",
    "#Creamos el vocabulario y le asignamos un indice a cada simbolo segun su aparicion\n",
    "cads_idx = list(text2numba(corpus_hapax,voc))\n",
    "\n",
    "print(cads_idx[:10])"
   ]
  },
  {
   "cell_type": "markdown",
   "metadata": {
    "colab_type": "text",
    "id": "nW_qMvYZpeAX"
   },
   "source": [
    "Agregamos los símbolos de inicio BOS y fin EOS"
   ]
  },
  {
   "cell_type": "code",
   "execution_count": 9,
   "metadata": {
    "colab": {
     "base_uri": "https://localhost:8080/",
     "height": 54
    },
    "colab_type": "code",
    "id": "Ffn7PVIl4uJq",
    "outputId": "99921fee-eb54-4e86-d8da-24a85c1451fa"
   },
   "outputs": [
    {
     "name": "stdout",
     "output_type": "stream",
     "text": [
      "[[8139, 0, 1, 0, 1, 2, 3, 4, 5, 6, 7, 8, 9, 3, 0, 1, 0, 3, 5, 6, 1, 10, 8138], [8139, 11, 12, 13, 12, 14, 15, 16, 17, 18, 12, 14, 16, 19, 20, 12, 14, 21, 9, 22, 16, 23, 1, 10, 8138], [8139, 3, 24, 5, 25, 26, 27, 1, 28, 29, 6, 30, 5, 31, 32, 5, 6, 33, 34, 12, 35, 36, 37, 3, 38, 39, 5, 1, 5, 40, 14, 16, 41, 42, 6, 43, 44, 10, 8138]]\n"
     ]
    }
   ],
   "source": [
    "#Indicamos las etiquetas a usar\n",
    "EOS = '<EOS>'\n",
    "BOS = '<BOS>'\n",
    "\n",
    "#Cada etiqeuta se le asigna un indice numerico\n",
    "BOS_IDX = max(voc.values())+2\n",
    "EOS_IDX = max(voc.values())+1\n",
    "\n",
    "#Se agregan estas etiqeutas al vocabulario\n",
    "voc[EOS] = EOS_IDX\n",
    "voc[BOS] = BOS_IDX\n",
    "\n",
    "#A cada cadena se le agrega la etiqueta BOS al inicio y EOS al final\n",
    "cadenas = [[BOS_IDX] + cad + [EOS_IDX] for cad in cads_idx]\n",
    "\n",
    "print(cadenas[:3])"
   ]
  },
  {
   "cell_type": "code",
   "execution_count": 10,
   "metadata": {
    "colab": {
     "base_uri": "https://localhost:8080/",
     "height": 34
    },
    "colab_type": "code",
    "id": "pAsVremN8L1j",
    "outputId": "e2140aa9-6dbf-4295-80e0-e3a7f005b8d2"
   },
   "outputs": [
    {
     "name": "stdout",
     "output_type": "stream",
     "text": [
      "Tamaño del vocabulario: 8138\n"
     ]
    }
   ],
   "source": [
    "#Tamaño\n",
    "N = len(voc)-2\n",
    "print('Tamaño del vocabulario:', N)"
   ]
  },
  {
   "cell_type": "markdown",
   "metadata": {
    "colab_type": "text",
    "id": "1nRuTl5gpjIE"
   },
   "source": [
    "Y, finalmente, obtenemos los bigramas de estos índices:"
   ]
  },
  {
   "cell_type": "code",
   "execution_count": 11,
   "metadata": {
    "colab": {
     "base_uri": "https://localhost:8080/",
     "height": 51
    },
    "colab_type": "code",
    "id": "rDzJu5AO52jA",
    "outputId": "4d1fd140-9270-4d1c-e780-037ce5581972"
   },
   "outputs": [
    {
     "name": "stdout",
     "output_type": "stream",
     "text": [
      "Número de bigramas: 134691\n",
      "Ejemplos: [(8139, 0), (0, 1), (1, 0), (0, 1), (1, 2), (2, 3), (3, 4), (4, 5), (5, 6), (6, 7)]\n"
     ]
    }
   ],
   "source": [
    "#Se crean los bigramas\n",
    "bigrams = list(chain(*[zip(cad,cad[1:]) for cad in cadenas]))\n",
    "\n",
    "#Se obtiene la frecuencia de cada bigrama\n",
    "frecBigrams = Counter(bigrams)\n",
    "\n",
    "print('Número de bigramas:', len(bigrams))\n",
    "print('Ejemplos:', bigrams[:10])"
   ]
  },
  {
   "cell_type": "markdown",
   "metadata": {
    "colab_type": "text",
    "id": "uTaOxV9ZpvRi"
   },
   "source": [
    "### Estimación del modelo\n",
    "\n",
    "Obtendremos, en primer lugar, matrices de frecuenncias. A partir de estas frecuencias es que estimaremos las probabilidades con smoothing."
   ]
  },
  {
   "cell_type": "code",
   "execution_count": 12,
   "metadata": {
    "colab": {},
    "colab_type": "code",
    "id": "tmCpHzec52tx"
   },
   "outputs": [],
   "source": [
    "#La matriz A es de NxN+1, los renglones consideran EOS\n",
    "A_frec = np.zeros((N,N+1))\n",
    "\n",
    "#Pi es de tamano N\n",
    "Pi_frec = np.zeros(N)"
   ]
  },
  {
   "cell_type": "code",
   "execution_count": 13,
   "metadata": {
    "colab": {},
    "colab_type": "code",
    "id": "u_38RfRm8oUS"
   },
   "outputs": [],
   "source": [
    "#Llenamos con frecuencias\n",
    "for bigram,frec in frecBigrams.items():\n",
    "    #Matriz de transición  \n",
    "    if bigram[0] != BOS_IDX:\n",
    "        A_frec[bigram[0],bigram[1]] = frec\n",
    "    elif bigram[0] == BOS_IDX:\n",
    "        #Vector de iniciales\n",
    "        Pi_frec[bigram[1]] = frec"
   ]
  },
  {
   "cell_type": "code",
   "execution_count": 14,
   "metadata": {
    "colab": {
     "base_uri": "https://localhost:8080/",
     "height": 136
    },
    "colab_type": "code",
    "id": "gpOYsurnqJFt",
    "outputId": "1021a976-1153-420e-851e-330b8b35da96"
   },
   "outputs": [
    {
     "name": "stdout",
     "output_type": "stream",
     "text": [
      "[[  1. 203.  27. ...   0.   0.   5.]\n",
      " [295. 716.  32. ...   0.   0.   5.]\n",
      " [ 12.  42.   0. ...   0.   0.   0.]\n",
      " ...\n",
      " [  0.   0.   0. ...   0.   0.   0.]\n",
      " [  0.   0.   0. ...   0.   0.   0.]\n",
      " [  0.   0.   0. ...   0.   0.   0.]]\n"
     ]
    }
   ],
   "source": [
    "print(A_frec)"
   ]
  },
  {
   "cell_type": "markdown",
   "metadata": {
    "colab_type": "text",
    "id": "J-HSsH_pqNNK"
   },
   "source": [
    "Ahora, definimos un estimador de Lidstone, de tal forma que podamos ajustar el parámetro de $\\lambda$ para minimizar la entropía del modelo."
   ]
  },
  {
   "cell_type": "code",
   "execution_count": 15,
   "metadata": {
    "colab": {},
    "colab_type": "code",
    "id": "R0r96H3N8r6w"
   },
   "outputs": [],
   "source": [
    "#Definicion de estimador Lidstone\n",
    "def get_model_Lid(frec_trans, frec_init, l=0.0):\n",
    "    #Añadir parámetro\n",
    "    addA = frec_trans + l\n",
    "    addPi = frec_init + l\n",
    "    \n",
    "    #Obtener probabilidades de transición\n",
    "    mu_A = addA.T/addA.T.sum(0)\n",
    "    #Obtener probabilidades de inicio\n",
    "    mu_Pi = addPi.T/addPi.T.sum(0)\n",
    "    \n",
    "    return (mu_A.T,mu_Pi)"
   ]
  },
  {
   "cell_type": "markdown",
   "metadata": {
    "colab_type": "text",
    "id": "7De1D4xUqh0P"
   },
   "source": [
    "### Evaluación\n",
    "\n",
    "Asimismo, definimos una función de entropía que evaluará la pertinencia de un modelo. Esta evaluación se hará sobre el **corpus de evaluación**; es decir, sobre cadenas que no fueron observadas para estimar las probabilidades."
   ]
  },
  {
   "cell_type": "code",
   "execution_count": 16,
   "metadata": {
    "colab": {},
    "colab_type": "code",
    "id": "F05t3ofXCuwg"
   },
   "outputs": [],
   "source": [
    "#Función de evaluación\n",
    "def H(mu):\n",
    "    #Entropía\n",
    "    H = 0.0\n",
    "    for cad in corpus_eval:\n",
    "        #Probabilidad de la cadena\n",
    "        p_cad = prob_cad(' '.join(cad),mu)\n",
    "        #Número de bigramas\n",
    "        M = len(cad)\n",
    "        #Obtenemos la entropía cruzada de la cadena\n",
    "        if p_cad == 0:\n",
    "          pass #print(np.log(p_cad), p_cad, cad)\n",
    "        else:\n",
    "          H -= np.log(p_cad)/M       \n",
    "    \n",
    "    return H/len(corpus_eval)"
   ]
  },
  {
   "cell_type": "markdown",
   "metadata": {
    "colab_type": "text",
    "id": "Vt92OljRq7Wv"
   },
   "source": [
    "Definiremos una función de cálculo de probabilidad de cadena. En este caso, consideramos como UNK a aquellas palabras que no han sido  vistas en la estimación del modelo."
   ]
  },
  {
   "cell_type": "code",
   "execution_count": 17,
   "metadata": {
    "colab": {},
    "colab_type": "code",
    "id": "6bTWGykHrgGB"
   },
   "outputs": [],
   "source": [
    "#Diccionario para recuperar palabras a partir de sus índices\n",
    "get_word = {i:w for w,i in voc.items()}\n",
    "\n",
    "def prob_cad(cad,mu,unk=False):\n",
    "    #Matrices del modelo\n",
    "    A_mu, Pi_mu = mu\n",
    "    #Evita generar unk's\n",
    "    if unk==True:\n",
    "      A = A_mu\n",
    "      A[voc['<oov>']] = np.zeros(N+1)\n",
    "      A.T[voc['<oov>']] = np.zeros(N)\n",
    "    else:\n",
    "      A = A_mu\n",
    "    #Obtenemos los simbolos\n",
    "    seq = cad.split()\n",
    "    #Obtenemos los bigramas de la cadena de evaluacion\n",
    "    bigrSeq = zip(seq,seq[1:])\n",
    "    \n",
    "    #Guardamos la probabilidad inicial dado el modelo\n",
    "    if voc[seq[0]] > N+1:\n",
    "      p = Pi_mu[voc['<oov>']]\n",
    "    else:\n",
    "      p = Pi_mu[voc[seq[0]]]\n",
    "    #Multiplicamos por las probabilidades de los bigramas dado el modelo\n",
    "    for gram1,gram2 in bigrSeq:\n",
    "        if voc[gram1] > N+1:\n",
    "          gram1 = '<oov>'\n",
    "        if voc[gram2] > N+1:\n",
    "          gram2 = '<oov>'\n",
    "\n",
    "        p *= A[voc[gram1],voc[gram2]]\n",
    "    \n",
    "    return p "
   ]
  },
  {
   "cell_type": "markdown",
   "metadata": {
    "colab_type": "text",
    "id": "g9y5vC5DsCws"
   },
   "source": [
    "Ahora, podemos observar cómo es que varía la entropía según la elección del parámetro $\\lambda$ en el smoothing de Lidstone."
   ]
  },
  {
   "cell_type": "code",
   "execution_count": 18,
   "metadata": {
    "colab": {
     "base_uri": "https://localhost:8080/",
     "height": 296
    },
    "colab_type": "code",
    "id": "E4xs-c3jFA2q",
    "outputId": "3dc775aa-15cf-4fdb-8016-c4bb0f8ea58d"
   },
   "outputs": [
    {
     "data": {
      "image/png": "[encoded data removed]",
      "text/plain": [
       "<Figure size 432x288 with 1 Axes>"
      ]
     },
     "metadata": {
      "needs_background": "light"
     },
     "output_type": "display_data"
    }
   ],
   "source": [
    "#Guarda valores de entropía\n",
    "rank_H = []\n",
    "for i in range(1,100):\n",
    "    #rango de 0.01 a 2\n",
    "    k = float(i)/1000\n",
    "    #obtiene los valores de entropia\n",
    "    rank_H.append( (k,H(get_model_Lid(A_frec,Pi_frec,l=k))) )\n",
    "\n",
    "#Visualización\n",
    "rank_H = np.array(rank_H)\n",
    "plt.scatter(rank_H[:,0],2**rank_H[:,1])\n",
    "plt.xlabel('Valor de parámetro')\n",
    "plt.ylabel('Entropía')\n",
    "plt.title('Evaluación de modelos estimados (Lidstone)')\n",
    "plt.show()"
   ]
  },
  {
   "cell_type": "markdown",
   "metadata": {
    "colab_type": "text",
    "id": "5K5x6chWs9EQ"
   },
   "source": [
    "Podemos ver cuál es el parámetro que minimiza más la entropía:"
   ]
  },
  {
   "cell_type": "code",
   "execution_count": 19,
   "metadata": {
    "colab": {
     "base_uri": "https://localhost:8080/",
     "height": 34
    },
    "colab_type": "code",
    "id": "XVZXHtBOGJMI",
    "outputId": "df71164b-0310-470a-bd62-e6aa1da2cd23"
   },
   "outputs": [
    {
     "name": "stdout",
     "output_type": "stream",
     "text": [
      "0.005\n"
     ]
    }
   ],
   "source": [
    "#Parámetro con etnropía mínima\n",
    "l_min = rank_H[:,0][np.argmin(rank_H[:,1])]\n",
    "\n",
    "print(l_min)"
   ]
  },
  {
   "cell_type": "markdown",
   "metadata": {
    "colab_type": "text",
    "id": "pzRhX2gStGes"
   },
   "source": [
    "A partir de esto, podemos estimar el modelo:"
   ]
  },
  {
   "cell_type": "code",
   "execution_count": 20,
   "metadata": {
    "colab": {},
    "colab_type": "code",
    "id": "qVAmToDyGvF5"
   },
   "outputs": [],
   "source": [
    "A_lid,Pi_lid = get_model_Lid(A_frec,Pi_frec,l=l_min)"
   ]
  },
  {
   "cell_type": "code",
   "execution_count": 21,
   "metadata": {
    "colab": {
     "base_uri": "https://localhost:8080/",
     "height": 51
    },
    "colab_type": "code",
    "id": "VmpKZmkRtN4u",
    "outputId": "ce3aee01-21c8-4fab-ceb5-b27453fad351"
   },
   "outputs": [
    {
     "name": "stdout",
     "output_type": "stream",
     "text": [
      "[1. 1. 1. ... 1. 1. 1.]\n",
      "1.0000000000000004\n"
     ]
    }
   ],
   "source": [
    "print(A_lid.sum(1))\n",
    "print(Pi_lid.sum(0))"
   ]
  },
  {
   "cell_type": "code",
   "execution_count": 22,
   "metadata": {
    "colab": {
     "base_uri": "https://localhost:8080/",
     "height": 85
    },
    "colab_type": "code",
    "id": "WCBLOvToHGGx",
    "outputId": "a3d41d61-e4c2-41b5-e311-85b1fdd34c4e"
   },
   "outputs": [
    {
     "name": "stdout",
     "output_type": "stream",
     "text": [
      "cadena: la operación de compra o fusión prob: 1.1508116309972821e-12\n",
      "cadena: los hechos han sido insuficientes prob: 5.0046311873486314e-15\n",
      "cadena: los hechos sido han insuficientes prob: 1.3897892772420525e-18\n",
      "cadena: hechos los sido han insuficientes prob: 2.3047146807246597e-25\n"
     ]
    }
   ],
   "source": [
    "#Cadenas de ejemplo\n",
    "string1 = 'la operación de compra o fusión'\n",
    "string2 = 'los hechos han sido insuficientes'\n",
    "string3 = 'los hechos sido han insuficientes'\n",
    "string4 = 'hechos los sido han insuficientes'\n",
    "\n",
    "#Probabilidad de cadenas\n",
    "print( 'cadena:', string1, 'prob:', prob_cad(string1, (A_lid, Pi_lid)) )\n",
    "print( 'cadena:', string2, 'prob:', prob_cad(string2, (A_lid, Pi_lid)) )\n",
    "print( 'cadena:', string3, 'prob:', prob_cad(string3, (A_lid, Pi_lid)) )\n",
    "print( 'cadena:', string4, 'prob:', prob_cad(string4, (A_lid, Pi_lid)) )"
   ]
  },
  {
   "cell_type": "markdown",
   "metadata": {},
   "source": [
    "Finalmente, podemos obtener la evaluación del modelo en entropía y perplejidad:"
   ]
  },
  {
   "cell_type": "code",
   "execution_count": 23,
   "metadata": {},
   "outputs": [
    {
     "name": "stdout",
     "output_type": "stream",
     "text": [
      "Entropía: 5.293727287476545 \n",
      "Perplejidad: 39.22569999004139\n"
     ]
    }
   ],
   "source": [
    "print('Entropía: {} \\nPerplejidad: {}'.format(H((A_lid, Pi_lid)), 2**H((A_lid, Pi_lid))))"
   ]
  },
  {
   "cell_type": "markdown",
   "metadata": {
    "colab_type": "text",
    "id": "oq7qsA3muM1f"
   },
   "source": [
    "### Generación aleatoria de cadenas\n",
    "\n",
    "Para la generación de cadenas se puede tomar la palabra que maximice la probabilidad dada la cadena anterior; sin embargo, esto no garantiza que la cadena completa sea la que tiene mayor  probabilidad.\n",
    "\n",
    "Otra forma de generar cadenas es de manera aleatoria. En este caso, se tomara una palabra siguiente de forma aleatoria y en base a la distribución de probabilidad $p(x|w)$ donde $w$ es la última palabra en la cadena. Esta forma de generar lenguaje permite que las cadenas sean no determinísticas."
   ]
  },
  {
   "cell_type": "code",
   "execution_count": 24,
   "metadata": {
    "colab": {},
    "colab_type": "code",
    "id": "AMesIuyN9PHd"
   },
   "outputs": [],
   "source": [
    "def next_word(string, mu):\n",
    "    #Elementos del modelo\n",
    "    A, Pi = mu\n",
    "    #Obtener la probabilidad de la historia\n",
    "    p_prev = prob_cad(string, mu, unk=True)\n",
    "    #Obtener la última palabra en la historia\n",
    "    last_w = string.split()[-1]\n",
    "    #Obtener una palabra en base a la distribución\n",
    "    #max_w = np.random.choice(list(voc.values())[:N+1], p=A[voc[last_w]]/A[voc[last_w]].sum(0))\n",
    "    max_w = np.argmax(A[voc[last_w]])\n",
    "    \n",
    "    return get_word[max_w], A[voc[last_w],max_w]\n",
    "\n",
    "def generate(string, mu):\n",
    "    #Guarda la palabra predicha\n",
    "    w = ''\n",
    "    #Guarda la cadena que se ha generado\n",
    "    str_gen = string\n",
    "    #El método se detiene al ver <EOS>\n",
    "    t = 0\n",
    "    while w != '<EOS>':\n",
    "        #Predice la siguiente palabra\n",
    "        w, p = next_word(str_gen, mu)\n",
    "        #Agrega esa palabra a ala cadena\n",
    "        str_gen += ' ' + w\n",
    "        t += 1\n",
    "        if t == 100:\n",
    "          w = '<EOS>'\n",
    "    \n",
    "    #Regresa la cadena si el símbolo EOS\n",
    "    return str_gen[:len(str_gen)]"
   ]
  },
  {
   "cell_type": "code",
   "execution_count": 25,
   "metadata": {
    "colab": {
     "base_uri": "https://localhost:8080/",
     "height": 54
    },
    "colab_type": "code",
    "id": "Ydwc5Z1nu8K8",
    "outputId": "db504f1c-c2a5-4536-8f2f-f6d28cd3001f"
   },
   "outputs": [
    {
     "name": "stdout",
     "output_type": "stream",
     "text": [
      "país , que se ha sido el presidente de la que se ha sido el presidente de la que se ha sido el presidente de la que se ha sido el presidente de la que se ha sido el presidente de la que se ha sido el presidente de la que se ha sido el presidente de la que se ha sido el presidente de la que se ha sido el presidente de la que se ha sido el presidente de la que se ha sido el presidente de la que se ha sido el presidente de la que se ha\n"
     ]
    }
   ],
   "source": [
    "print( generate('país', (A_lid, Pi_lid)) )"
   ]
  },
  {
   "cell_type": "markdown",
   "metadata": {},
   "source": [
    "   "
   ]
  }
 ],
 "metadata": {
  "accelerator": "GPU",
  "colab": {
   "collapsed_sections": [],
   "name": "09b Modelo del lenguaje.ipynb",
   "provenance": []
  },
  "kernelspec": {
   "display_name": "Python 3",
   "language": "python",
   "name": "python3"
  },
  "language_info": {
   "codemirror_mode": {
    "name": "ipython",
    "version": 3
   },
   "file_extension": ".py",
   "mimetype": "text/x-python",
   "name": "python",
   "nbconvert_exporter": "python",
   "pygments_lexer": "ipython3",
   "version": "3.8.8"
  }
 },
 "nbformat": 4,
 "nbformat_minor": 1
}
