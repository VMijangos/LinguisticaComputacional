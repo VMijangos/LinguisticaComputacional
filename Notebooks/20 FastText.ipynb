{
 "cells": [
  {
   "cell_type": "markdown",
   "metadata": {
    "colab_type": "text",
    "id": "8blzJvSyF5Gf"
   },
   "source": [
    "# FastText\n",
    "\n",
    "fasText es un método, creado por Facebook, para generar representaciones vectoriales de palabras (embeddings). Es similar a Word2Vec pero tiene la característica de modelar no sólo palabras completas sino también subcadenas (subwords). Gracias a esto, y a la noción  de \"composición\", puede construir la representación de una palabra que nunca vio en el entrenamiento, a partir de la combinación de l representaciones de sus partes/subcadenas. \n",
    "\n",
    "En este notebook entrenaremos representaciones fastText a partir de un corpus en español y posteriormente realizaremos agrupamiento usando la técnica de clustering espectral.\n",
    "\n",
    "\n",
    "## 1. Representación vectorial de palabras con fastText\n",
    "\n",
    "Vamos a instalar fastText de manera nativa usando el repositorio de github y la línea de comandos:\n",
    "\n"
   ]
  },
  {
   "cell_type": "code",
   "execution_count": 1,
   "metadata": {
    "colab": {
     "base_uri": "https://localhost:8080/",
     "height": 1000
    },
    "colab_type": "code",
    "id": "Um289bl9Wsw_",
    "outputId": "2eeb8afb-dd5c-4813-811f-0f87a12ca99e"
   },
   "outputs": [
    {
     "name": "stdout",
     "output_type": "stream",
     "text": [
      "--2021-08-05 12:54:51--  https://github.com/facebookresearch/fastText/archive/v0.9.1.zip\n",
      "Resolviendo github.com (github.com)... 140.82.112.3\n",
      "Conectando con github.com (github.com)[140.82.112.3]:443... conectado.\n",
      "Petición HTTP enviada, esperando respuesta... 302 Found\n",
      "Ubicación: https://codeload.github.com/facebookresearch/fastText/zip/v0.9.1 [siguiente]\n",
      "--2021-08-05 12:54:52--  https://codeload.github.com/facebookresearch/fastText/zip/v0.9.1\n",
      "Resolviendo codeload.github.com (codeload.github.com)... 140.82.113.9\n",
      "Conectando con codeload.github.com (codeload.github.com)[140.82.113.9]:443... conectado.\n",
      "Petición HTTP enviada, esperando respuesta... 200 OK\n",
      "Longitud: no especificado [application/zip]\n",
      "Guardando como: “v0.9.1.zip.1”\n",
      "\n",
      "v0.9.1.zip.1            [         <=>        ]   4.13M   781KB/s    en 5.5s    \n",
      "\n",
      "2021-08-05 12:54:58 (770 KB/s) - “v0.9.1.zip.1” guardado [4327207]\n",
      "\n",
      "Archive:  v0.9.1.zip\n",
      "b5b7d307274ce00ef52198fbc692ed3bd11d9856\n",
      "replace fastText-0.9.1/.circleci/cmake_test.sh? [y]es, [n]o, [A]ll, [N]one, [r]ename: ^C\n",
      "/home/mijangos/Documentos/NLP/Notebooks/fastText-0.9.1\n",
      "make: No se hace nada para 'opt'.\n"
     ]
    }
   ],
   "source": [
    "!wget https://github.com/facebookresearch/fastText/archive/v0.9.1.zip\n",
    "!unzip v0.9.1.zip\n",
    "%cd fastText-0.9.1\n",
    "!make"
   ]
  },
  {
   "cell_type": "markdown",
   "metadata": {
    "colab_type": "text",
    "id": "nlk4_lq0FaXN"
   },
   "source": [
    "Una vez instalado fasText, podemos empezar a entrenar modelos de representaciones vectoriales a partir de un corpus.\n",
    "\n",
    "Montamos el sistema de archivos de Drive:\n"
   ]
  },
  {
   "cell_type": "code",
   "execution_count": 5,
   "metadata": {
    "colab": {
     "base_uri": "https://localhost:8080/",
     "height": 124
    },
    "colab_type": "code",
    "id": "Z8-HwbBZFmwh",
    "outputId": "105ddd88-04cf-47ee-9272-b7745ccaebd0"
   },
   "outputs": [],
   "source": [
    "#Montamos el contenido de Google Drive\n",
    "#from google.colab import drive\n",
    "#drive.mount('/content/drive')"
   ]
  },
  {
   "cell_type": "markdown",
   "metadata": {
    "colab_type": "text",
    "id": "gZJrFRpGvk-m"
   },
   "source": [
    "Para entrenar el método de Fasttext, utilizaremos la combinación de dos corpus pequeños: a) el Corpus del Español Mexicano COntemporáneo (CEMC); y b) el corpus paralelo náhuatl-español Axolotl (la parte en español). \n",
    "\n",
    "\n",
    "El entrenamiento se hace a través de la línea de comandos, se pueden específicar diversos hiperparámetros ([Consultar documentación](https://fasttext.cc/docs/en/unsupervised-tutorial.html)). Dos parámetros necesarios son el archivo input y el archivo output, que generará el entrenamiento."
   ]
  },
  {
   "cell_type": "code",
   "execution_count": 3,
   "metadata": {
    "colab": {
     "base_uri": "https://localhost:8080/",
     "height": 86
    },
    "colab_type": "code",
    "id": "cWGuna4FHoWk",
    "outputId": "b263e19d-d928-4658-ba0a-b606dfb257fa"
   },
   "outputs": [
    {
     "name": "stdout",
     "output_type": "stream",
     "text": [
      "terminate called after throwing an instance of 'std::invalid_argument'\n",
      "  what():  /content/drive/My Drive/Curso_RIIAA/data/cemcytodo.txt cannot be opened for training!\n",
      "Aborted (core dumped)\n"
     ]
    }
   ],
   "source": [
    "#Se generan dos archivos: cemc.bin (modelo) y cemc.vec (este último es literalmente un archivo de texto con un vector por línea)\n",
    "#Se pueden descargar usando el visualizador de archivos (pestaña izq.) fastText-0.9.1/result\n",
    "!mkdir result \n",
    "!./fasttext cbow -input /content/drive/My\\ Drive/Curso_RIIAA/data/cemcytodo.txt  -output result/cemc"
   ]
  },
  {
   "cell_type": "markdown",
   "metadata": {
    "colab_type": "text",
    "id": "wTlunIinIFRR"
   },
   "source": [
    "Una vez generado el modelo, podemos utilizar estos vectores de diferentes maneras, por ejemplo para una palabra devolver las palabras más cercanas/similares:\n",
    "\n",
    "\n",
    "\n",
    "\n",
    "\n",
    "\n",
    "\n",
    "\n"
   ]
  },
  {
   "cell_type": "code",
   "execution_count": 4,
   "metadata": {
    "colab": {
     "base_uri": "https://localhost:8080/",
     "height": 607
    },
    "colab_type": "code",
    "id": "QILJGSOCZ8AY",
    "outputId": "1bc4bb92-73a3-4e35-835c-bd684789f3ae"
   },
   "outputs": [
    {
     "name": "stdout",
     "output_type": "stream",
     "text": [
      "terminate called after throwing an instance of 'std::invalid_argument'\n",
      "  what():  result/cemc.bin has wrong file format!\n",
      "Aborted (core dumped)\n"
     ]
    }
   ],
   "source": [
    "!./fasttext nn result/cemc.bin"
   ]
  },
  {
   "cell_type": "markdown",
   "metadata": {
    "colab_type": "text",
    "id": "OKbfZpFXJttb"
   },
   "source": [
    "#2. Cargando los vectores en Python\n",
    "Podemos cargar los modelos obtenidos de Fasttext y manipularlos directamente desde python, utilizando el paquete gensim."
   ]
  },
  {
   "cell_type": "code",
   "execution_count": 0,
   "metadata": {
    "colab": {
     "base_uri": "https://localhost:8080/",
     "height": 454
    },
    "colab_type": "code",
    "id": "J-YIv9XMzuG2",
    "outputId": "89d99260-f961-4e60-de6c-4513e3d564fb"
   },
   "outputs": [
    {
     "name": "stdout",
     "output_type": "stream",
     "text": [
      "Collecting gensim\n",
      "\u001b[?25l  Downloading https://files.pythonhosted.org/packages/40/3d/89b27573f56abcd1b8c9598b240f53c45a3c79aa0924a24588e99716043b/gensim-3.8.0-cp36-cp36m-manylinux1_x86_64.whl (24.2MB)\n",
      "\u001b[K     |████████████████████████████████| 24.2MB 69.8MB/s \n",
      "\u001b[?25hRequirement already satisfied, skipping upgrade: numpy>=1.11.3 in /usr/local/lib/python3.6/dist-packages (from gensim) (1.16.4)\n",
      "Requirement already satisfied, skipping upgrade: smart-open>=1.7.0 in /usr/local/lib/python3.6/dist-packages (from gensim) (1.8.4)\n",
      "Requirement already satisfied, skipping upgrade: six>=1.5.0 in /usr/local/lib/python3.6/dist-packages (from gensim) (1.12.0)\n",
      "Requirement already satisfied, skipping upgrade: scipy>=0.18.1 in /usr/local/lib/python3.6/dist-packages (from gensim) (1.3.1)\n",
      "Requirement already satisfied, skipping upgrade: boto3 in /usr/local/lib/python3.6/dist-packages (from smart-open>=1.7.0->gensim) (1.9.205)\n",
      "Requirement already satisfied, skipping upgrade: requests in /usr/local/lib/python3.6/dist-packages (from smart-open>=1.7.0->gensim) (2.21.0)\n",
      "Requirement already satisfied, skipping upgrade: boto>=2.32 in /usr/local/lib/python3.6/dist-packages (from smart-open>=1.7.0->gensim) (2.49.0)\n",
      "Requirement already satisfied, skipping upgrade: s3transfer<0.3.0,>=0.2.0 in /usr/local/lib/python3.6/dist-packages (from boto3->smart-open>=1.7.0->gensim) (0.2.1)\n",
      "Requirement already satisfied, skipping upgrade: jmespath<1.0.0,>=0.7.1 in /usr/local/lib/python3.6/dist-packages (from boto3->smart-open>=1.7.0->gensim) (0.9.4)\n",
      "Requirement already satisfied, skipping upgrade: botocore<1.13.0,>=1.12.205 in /usr/local/lib/python3.6/dist-packages (from boto3->smart-open>=1.7.0->gensim) (1.12.205)\n",
      "Requirement already satisfied, skipping upgrade: chardet<3.1.0,>=3.0.2 in /usr/local/lib/python3.6/dist-packages (from requests->smart-open>=1.7.0->gensim) (3.0.4)\n",
      "Requirement already satisfied, skipping upgrade: urllib3<1.25,>=1.21.1 in /usr/local/lib/python3.6/dist-packages (from requests->smart-open>=1.7.0->gensim) (1.24.3)\n",
      "Requirement already satisfied, skipping upgrade: certifi>=2017.4.17 in /usr/local/lib/python3.6/dist-packages (from requests->smart-open>=1.7.0->gensim) (2019.6.16)\n",
      "Requirement already satisfied, skipping upgrade: idna<2.9,>=2.5 in /usr/local/lib/python3.6/dist-packages (from requests->smart-open>=1.7.0->gensim) (2.8)\n",
      "Requirement already satisfied, skipping upgrade: python-dateutil<3.0.0,>=2.1; python_version >= \"2.7\" in /usr/local/lib/python3.6/dist-packages (from botocore<1.13.0,>=1.12.205->boto3->smart-open>=1.7.0->gensim) (2.5.3)\n",
      "Requirement already satisfied, skipping upgrade: docutils<0.15,>=0.10 in /usr/local/lib/python3.6/dist-packages (from botocore<1.13.0,>=1.12.205->boto3->smart-open>=1.7.0->gensim) (0.14)\n",
      "Installing collected packages: gensim\n",
      "  Found existing installation: gensim 3.6.0\n",
      "    Uninstalling gensim-3.6.0:\n",
      "      Successfully uninstalled gensim-3.6.0\n",
      "Successfully installed gensim-3.8.0\n"
     ]
    }
   ],
   "source": [
    "# Install / Upgrade Gensim\n",
    "!pip install --upgrade gensim"
   ]
  },
  {
   "cell_type": "markdown",
   "metadata": {
    "colab_type": "text",
    "id": "gLZ5RmKNxC1h"
   },
   "source": [
    "Cargamos el modelo:"
   ]
  },
  {
   "cell_type": "code",
   "execution_count": 0,
   "metadata": {
    "colab": {},
    "colab_type": "code",
    "id": "VZGMbBb4z5Ky"
   },
   "outputs": [],
   "source": [
    "from gensim.models.wrappers import FastText\n",
    "\n",
    "#Carga modelo pre-entrenado\n",
    "model = FastText.load_fasttext_format('result/cemc')\n"
   ]
  },
  {
   "cell_type": "markdown",
   "metadata": {
    "colab_type": "text",
    "id": "PVPV09yZ4iI6"
   },
   "source": [
    "Una vez cargado el modelo podemos jugar con los vectores directamente desde python. Aquí también se pueden buscar palabras similares o bien determinar la similitud entre una y otra palabra:\n"
   ]
  },
  {
   "cell_type": "code",
   "execution_count": 0,
   "metadata": {
    "colab": {
     "base_uri": "https://localhost:8080/",
     "height": 89
    },
    "colab_type": "code",
    "id": "YfbIEd824_HK",
    "outputId": "6a189097-feb6-40a0-9886-f8965cce15f3"
   },
   "outputs": [
    {
     "name": "stdout",
     "output_type": "stream",
     "text": [
      "[('zapoteca', 0.9719510078430176), ('orilla', 0.9412146806716919), ('bonilla', 0.9368422627449036), ('barbilla', 0.9355900883674622), ('zorrilla', 0.934384822845459), ('polla', 0.9336952567100525), ('chueca', 0.9323766827583313), ('azuela', 0.9320937395095825), ('chilena', 0.9304165244102478), ('borbolla', 0.9289524555206299)]\n",
      "[('americano', 0.9667645692825317), ('mexico', 0.9505746364593506), ('norteamericano', 0.9450423717498779), ('africano', 0.9262045621871948), ('republicano', 0.9257711172103882), ('latinoamericano', 0.9056142568588257), ('mexicanismo', 0.9027756452560425), ('universitario', 0.8979648351669312), ('organizador', 0.8943582773208618), ('italiano', 0.8912588357925415)]\n",
      "0.31398705\n"
     ]
    }
   ],
   "source": [
    "#Buscar las palabras más similares a query\n",
    "print(model.most_similar('azteca'))\n",
    "print(model.most_similar('mexicano'))\n",
    "\n",
    "#Similitud entre dos palabras dasdas\n",
    "print(model.similarity('mexico', 'país'))"
   ]
  },
  {
   "cell_type": "markdown",
   "metadata": {
    "colab_type": "text",
    "id": "DSpQsJ0t7DeI"
   },
   "source": [
    "Una de las ventajas de fastText es que, además de obtener los vectores de palabras que se encontraban en el vocabulario de entrenamiento, es capaz de construir representaciones vectoriales de palabras que no estaban en este vocabulario (*Out-Of-Vocabulary words, OOV*). Esto se realiza a través de una operación de composición de subwords."
   ]
  },
  {
   "cell_type": "code",
   "execution_count": 0,
   "metadata": {
    "colab": {
     "base_uri": "https://localhost:8080/",
     "height": 69
    },
    "colab_type": "code",
    "id": "Kn9y9H5E7cL1",
    "outputId": "cbd846bd-bf2b-4325-a30d-66810d522416"
   },
   "outputs": [
    {
     "name": "stdout",
     "output_type": "stream",
     "text": [
      "True\n",
      "False\n",
      "0.9610355\n"
     ]
    }
   ],
   "source": [
    "#Palabra dentro del vocabulario\n",
    "existent_word = \"computadora\"\n",
    "print(existent_word in model.wv.vocab)\n",
    "#Obtención del vector de esta palabra\n",
    "vector_computadora = model.wv[existent_word]\n",
    "\n",
    "#Palabra oov\n",
    "oov_word = \"computadorsota\"\n",
    "print(oov_word in model.wv.vocab)\n",
    "#Obtención del vector de oov\n",
    "vector_oov = model.wv[oov_word]\n",
    "\n",
    "#Similitud entre ambos\n",
    "print(model.similarity(existent_word, oov_word))"
   ]
  },
  {
   "cell_type": "markdown",
   "metadata": {
    "colab_type": "text",
    "id": "1ScNJI-qym2O"
   },
   "source": [
    "#3. Agrupamiento con spectral clustering\n",
    "\n",
    "Una vez obtenidos los vectores de Fasttext, podemos aplicar el algoritmo de spectral clustering, vamos a agrupar y visualizar los datos obtenidos."
   ]
  },
  {
   "cell_type": "code",
   "execution_count": 0,
   "metadata": {
    "colab": {},
    "colab_type": "code",
    "id": "VFnmkPwryuQ3"
   },
   "outputs": [],
   "source": [
    "#Paquetería necesaria\n",
    "import numpy as np\n",
    "import matplotlib.pyplot as plt\n",
    "from sklearn.decomposition import PCA\n",
    "from sklearn.cluster import KMeans\n",
    "import pandas as pd\n",
    "import networkx as nx\n",
    "from scipy.linalg import eig\n",
    "from operator import itemgetter"
   ]
  },
  {
   "cell_type": "markdown",
   "metadata": {
    "colab_type": "text",
    "id": "mKnz0i0uzoHH"
   },
   "source": [
    "Dado que Fasttext permite representar palabras OOV, podemos darle cualquier lista arbitraría de léxico y obtener vectores que los representen."
   ]
  },
  {
   "cell_type": "code",
   "execution_count": 0,
   "metadata": {
    "colab": {},
    "colab_type": "code",
    "id": "kWNifpNdHYW6"
   },
   "outputs": [],
   "source": [
    "#Lista de palabras para trabajar\n",
    "vocab_words = ['amo','amas','amamos','ama','aman','come','como','comemos','comen','toco','tocas','tocan','tocamos','gato','minino','gatito','gatos','mininos',\n",
    "               'flor','flores','mininito','computadora','computadoras']"
   ]
  },
  {
   "cell_type": "markdown",
   "metadata": {
    "colab_type": "text",
    "id": "Q75NRHQv0E5Q"
   },
   "source": [
    "Obtenemos los vectores que representan a las palabras anteriores y los guardamos en un arreglo."
   ]
  },
  {
   "cell_type": "code",
   "execution_count": 0,
   "metadata": {
    "colab": {
     "base_uri": "https://localhost:8080/",
     "height": 34
    },
    "colab_type": "code",
    "id": "fZzWyHEBIL3p",
    "outputId": "093c42da-5fdb-44fe-db68-eb9bf074a54d"
   },
   "outputs": [
    {
     "name": "stdout",
     "output_type": "stream",
     "text": [
      "(23, 100)\n"
     ]
    }
   ],
   "source": [
    "#Tamaño del vocabulario\n",
    "N = len(vocab_words)\n",
    "\n",
    "#Matrix de NxNúmero de dimmensiones\n",
    "X = np.zeros((N,100))\n",
    "#Llenamos la matriz con los vectores palabra\n",
    "for i,w in enumerate(vocab_words):\n",
    "  X[i] = model.wv[w]\n",
    "\n",
    "print(X.shape)"
   ]
  },
  {
   "cell_type": "markdown",
   "metadata": {
    "colab_type": "text",
    "id": "4jN76ZUw0eFT"
   },
   "source": [
    "Podemos visualizar estos datos a partir de la siguiente función:"
   ]
  },
  {
   "cell_type": "code",
   "execution_count": 0,
   "metadata": {
    "colab": {
     "base_uri": "https://localhost:8080/",
     "height": 269
    },
    "colab_type": "code",
    "id": "SxSusFRIIDOd",
    "outputId": "084c418b-764b-4d2f-8600-0fcf68a81b8f"
   },
   "outputs": [
    {
     "data": {
      "image/png": "[encoded data removed]",
      "text/plain": [
       "<Figure size 432x288 with 1 Axes>"
      ]
     },
     "metadata": {
      "tags": []
     },
     "output_type": "display_data"
    }
   ],
   "source": [
    "#Función para plotear\n",
    "def plot_words(Z,ids,color='blue'):\n",
    "    #Reduce a dos dimensiones con PCA\n",
    "    Z = PCA(n_components=2).fit_transform(Z)\n",
    "    r=0\n",
    "    #Plotea las dimensiones\n",
    "    plt.scatter(Z[:,0],Z[:,1], marker='o', c=color)\n",
    "    for label,x,y in zip(ids, Z[:,0], Z[:,1]):\n",
    "        #Agrega las etiquetas\n",
    "        plt.annotate(label, xy=(x,y), xytext=(-1,1), textcoords='offset points', ha='center', va='bottom')\n",
    "        r+=1\n",
    "\n",
    "#Ploteo de los datos\n",
    "plot_words(X, vocab_words)\n",
    "plt.show()"
   ]
  }
 ],
 "metadata": {
  "accelerator": "GPU",
  "colab": {
   "collapsed_sections": [],
   "name": "02 FastText.ipynb",
   "provenance": []
  },
  "kernelspec": {
   "display_name": "Python 3",
   "language": "python",
   "name": "python3"
  },
  "language_info": {
   "codemirror_mode": {
    "name": "ipython",
    "version": 3
   },
   "file_extension": ".py",
   "mimetype": "text/x-python",
   "name": "python",
   "nbconvert_exporter": "python",
   "pygments_lexer": "ipython3",
   "version": "3.8.8"
  }
 },
 "nbformat": 4,
 "nbformat_minor": 1
}
