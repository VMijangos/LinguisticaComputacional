{
 "cells": [
  {
   "cell_type": "markdown",
   "metadata": {
    "collapsed": true
   },
   "source": [
    "# POS Tagging con RNN"
   ]
  },
  {
   "cell_type": "markdown",
   "metadata": {},
   "source": [
    "Analizaremos la estructura de una red recurrente simple. Nuestro objetivo será construir un modelo del lenguaje que tome como cadena de entrada una secuencia de palabras $w_1,...,w_T$ y cuya salida sean las etiquetas POS $s_1, ..., s_T$ que mejor describan la cadena de entrada. Para esto, buscaremos estimar la probabilidad:\n",
    "\n",
    "$$p(s_1,...,s_T|w_1,....,w_T)$$\n",
    "\n",
    "\n",
    "Para realizar esta probabilidad utilizaremos una arquitectura de red neuronal recurrente (RNN). En primer lugar definiremos algunas funciones para manejar el texto."
   ]
  },
  {
   "cell_type": "code",
   "execution_count": 1,
   "metadata": {},
   "outputs": [],
   "source": [
    "#-*- encoding:utf-8 -*-\n",
    "import numpy as np\n",
    "from collections import defaultdict, Counter\n",
    "from itertools import chain\n",
    "\n",
    "#Funcion que crea un vocabulario de palabras con un indice numerico\n",
    "def vocab():\n",
    "    vocab = defaultdict()\n",
    "    vocab.default_factory = lambda: len(vocab)\n",
    "    return vocab    \n",
    "\n",
    "#Funcion que pasa la cadena de simbolos a una secuencia con indices numericos\n",
    "def text2numba(corpus, vocab):\n",
    "    for doc in corpus:\n",
    "        yield [vocab[w] for w in doc.split()]"
   ]
  },
  {
   "cell_type": "markdown",
   "metadata": {},
   "source": [
    "### Procesamiento de corpus\n",
    "\n",
    "Al igual que con modelos del lenguaje más tradicionales, tomamos un corpus e indexamos las palabras con valores numéricos, con el objetivo de que sea más fácil manejarlas.\n",
    "\n",
    "Asimismo, contamos con una cadena de etiquetas POS, las cuáles corresponden a las clases de cada una de las oraciones de entrada; es decir, cada cadena de etiquetas le corresponde una cadena de palabras de la misma longitud. De igual forma, pasaremos las etiquetas a indices numéricos."
   ]
  },
  {
   "cell_type": "code",
   "execution_count": 2,
   "metadata": {},
   "outputs": [
    {
     "name": "stdout",
     "output_type": "stream",
     "text": [
      "[[0, 1, 2, 3, 4], [3, 5, 6], [0, 5, 7, 8, 9], [3, 1, 2, 10], [0, 1, 2], [0, 11, 2, 10], [3, 11, 2]]\n",
      "[[0, 1, 2, 3, 1], [3, 1, 2], [0, 1, 2, 0, 1], [3, 1, 2, 1], [0, 1, 2], [0, 1, 2, 1], [3, 1, 2]]\n"
     ]
    }
   ],
   "source": [
    "corpus = ['el perro come un hueso', 'un muchacho jugaba', 'el muchacho saltaba la cuerda',\n",
    "          'un perro come croquetas', 'el perro come', 'el gato come croquetas', 'un gato come']\n",
    "\n",
    "#Etiquetas POS\n",
    "tags = ['DA NC V DD NC', 'DD NC V', 'DA NC V DA NC', 'DD NC V NC', 'DA NC V', 'DA NC V NC', 'DD NC V']\n",
    "\n",
    "#Llamamos la funcion para crear el vocabulario\n",
    "idx = vocab()\n",
    "#Creamos el vocabulario y le asignamos un indice a cada simbolo segun su aparicion\n",
    "cads_idx = list(text2numba(corpus,idx))\n",
    "\n",
    "#Vocabulario de emisiones\n",
    "ems = vocab()\n",
    "#Se susituyen las emisiones por sus índices numéricos\n",
    "ems_idx = list(text2numba(tags,ems))\n",
    "\n",
    "print(cads_idx)\n",
    "print(ems_idx)"
   ]
  },
  {
   "cell_type": "markdown",
   "metadata": {},
   "source": [
    "Una vez realizado esto, podemos crear los pares de entrenamiento. En este caso, simplemente alinearemos la cadena de palabras con sus etiquetas correspondientes."
   ]
  },
  {
   "cell_type": "code",
   "execution_count": 3,
   "metadata": {},
   "outputs": [
    {
     "name": "stdout",
     "output_type": "stream",
     "text": [
      "[[(0, 0), (1, 1), (2, 2), (3, 3), (4, 1)], [(3, 3), (5, 1), (6, 2)], [(0, 0), (5, 1), (7, 2), (8, 0), (9, 1)], [(3, 3), (1, 1), (2, 2), (10, 1)], [(0, 0), (1, 1), (2, 2)], [(0, 0), (11, 1), (2, 2), (10, 1)], [(3, 3), (11, 1), (2, 2)]]\n"
     ]
    }
   ],
   "source": [
    "#Pares de entrenamiento\n",
    "pairs = [list(zip(a,b)) for a,b in zip(cads_idx,ems_idx)]\n",
    "print(pairs)"
   ]
  },
  {
   "cell_type": "markdown",
   "metadata": {},
   "source": [
    "### Entrenamiento de la red\n",
    "\n",
    "Para construir la red neuronal definiremos una arquitectura simple:\n",
    "\n",
    "1) Incorporaremos una capa de embedding. En esta se tomará un one-hot $s^{(t)}$ que represente a una palabra $w_t$. Definiremos una matriz que guarde los vectores de embedding, $C$ de $d\\times N$, donde $d$ es la dimensión de los embeddings y $N$ el tamaño del vocabulario. Así, la capa de embedding estará definida por $$x = Cs^{(t)}$$\n",
    "\n",
    "2) Incorporaremos una celda que guarde los estados; esta celda tendra dimensión $m$. Está se definirá como $$h_t = \\tanh(Vh_{t-1} + Ux + b)$$ Donde $h_{t-1}$ es la celda en el estado anterior, $V$ es una matriz de $m \\times m$, $U$ una matriz de $d \\times m$ y $b$ es el bias.\n",
    "\n",
    "3) La capa de salida se conformará por la función Softmax. Así, la definimos como $$\\phi(x) = Softmax(Wh_t + c)$$\n",
    "\n",
    "En primer lugar, inicializamos los parámetros de la red."
   ]
  },
  {
   "cell_type": "code",
   "execution_count": 4,
   "metadata": {},
   "outputs": [],
   "source": [
    "np.random.seed(0)\n",
    "#El número de rasgos que representan cada vector\n",
    "nn_input_dim = len(idx)\n",
    "#El total de clases que arrojará\n",
    "output_dim = len(ems)\n",
    "\n",
    "#Dimensiones de los vectores-palabra\n",
    "dim = 2\n",
    "cell_dim = 3\n",
    "\n",
    "#Embedding\n",
    "C = np.random.randn(dim,nn_input_dim) / np.sqrt(nn_input_dim)\n",
    "\n",
    "#Capa oculta, estados anteriores\n",
    "V = np.random.randn(cell_dim,cell_dim) / np.sqrt(cell_dim)\n",
    "\n",
    "#Capa oculta, entrada\n",
    "U = np.random.randn(cell_dim,dim) / np.sqrt(dim)\n",
    "b = np.zeros(cell_dim)\n",
    "\n",
    "#Capa de salida\n",
    "W = np.random.randn(output_dim,cell_dim) / np.sqrt(cell_dim)\n",
    "c = np.zeros(output_dim)"
   ]
  },
  {
   "cell_type": "markdown",
   "metadata": {},
   "source": [
    "A continuación, definimos el entrenamiento: la fase de forward y el backpropagation. Utilizamos un rango de aprendizaje (lr) de 0.1 y 100 iteraciones (it)."
   ]
  },
  {
   "cell_type": "code",
   "execution_count": 5,
   "metadata": {},
   "outputs": [],
   "source": [
    "it = 100\n",
    "lr = 0.1\n",
    "\n",
    "for t in range(it):\n",
    "        \n",
    "    for seq in pairs:\n",
    "        #Inicializaciopn de estados\n",
    "        h = np.zeros((len(seq)+1,cell_dim))\n",
    "\n",
    "        for t,w in enumerate(seq):\n",
    "            #FORWARD\n",
    "            #Embedding\n",
    "            x = C.T[w[0]]\n",
    "            \n",
    "            #Unidad oculta\n",
    "            act = np.dot(V,h[t]) + np.dot(U,x) + b\n",
    "            h[t+1] = np.tanh(act)\n",
    "\n",
    "            #capa de salida\n",
    "            preAct = np.exp(np.dot(W,h[t+1]) + c)\n",
    "            #Softmax\n",
    "            probs = preAct/preAct.sum(0)\n",
    "            \n",
    "            #BACK-PROP\n",
    "            #Variable de salida\n",
    "            d_out = probs\n",
    "            d_out[w[1]] -= 1\n",
    "            \n",
    "            #Variable de celdas\n",
    "            d_h = (1-h[t+1]**2)*np.dot(W.T,d_out)\n",
    "            #Variable de embedding\n",
    "            d_emb = np.dot(U.T,d_h)\n",
    "\n",
    "            #Jacobianas\n",
    "            dW = np.outer(d_out,h[t+1])\n",
    "            dV = np.outer(d_h, h[t])\n",
    "            dU = np.outer(d_h, x)\n",
    "\n",
    "            #Gradientes descendientes\n",
    "            W -= lr*dW\n",
    "            c -= lr*d_out\n",
    "            \n",
    "            V -= lr*dV\n",
    "            \n",
    "            U -= lr*dU\n",
    "            b -= lr*d_h\n",
    "            \n",
    "            C.T[w[0]] -= lr*d_emb"
   ]
  },
  {
   "cell_type": "markdown",
   "metadata": {},
   "source": [
    "### Predicción de etiquetas POS\n",
    "\n",
    "Una vez entrenado el modelo, definimos una función (forward) que corra la red sobre una cadena de entrada. Esta función devolverá la probabilidad de las etiquetas POS en cada estado y dado la palabra de entrada en ese estado."
   ]
  },
  {
   "cell_type": "code",
   "execution_count": 6,
   "metadata": {},
   "outputs": [],
   "source": [
    "def forward(sent, h = np.zeros(cell_dim)):\n",
    "    sent = sent.split()\n",
    "    prob_tot = np.zeros((len(sent),output_dim))\n",
    "    \n",
    "    for t,w in enumerate(sent):\n",
    "        #FORWARD\n",
    "        #embedding\n",
    "        x= C.T[idx[w]]\n",
    "        #Unidad oculta\n",
    "        act = np.dot(V,h) + np.dot(U,x) + b\n",
    "        h = np.tanh(act)\n",
    "\n",
    "        #capa de salida\n",
    "        preAct = np.exp(np.dot(W,h) + c)\n",
    "        probs = preAct/preAct.sum(0)\n",
    "        \n",
    "        #Se almacenan las probabilidades\n",
    "        prob_tot[t] = probs\n",
    "        \n",
    "    return h, prob_tot       "
   ]
  },
  {
   "cell_type": "markdown",
   "metadata": {},
   "source": [
    "Dado que la RNN guarda información de los estados anteriores, podemos obtener la cadena de etiquetas POS a partir de escoger la etiqueta que maximice la probabilidad en cada estado. Esto es:\n",
    "\n",
    "$$\\hat{s_t} = \\arg\\max_s p(s|s_1,...,s_{t-1},w_1,...,w_t)$$"
   ]
  },
  {
   "cell_type": "code",
   "execution_count": 16,
   "metadata": {},
   "outputs": [
    {
     "name": "stdout",
     "output_type": "stream",
     "text": [
      "['DA', 'NC', 'V', 'DA', 'NC']\n"
     ]
    }
   ],
   "source": [
    "#Vocabulario para recuperar POS por medio de índices\n",
    "post = {v:k for k,v in ems.items()}\n",
    "\n",
    "#Forwarde de la red\n",
    "H,p = forward('el gato come la cuerda')\n",
    "\n",
    "#Buscamos las etiquetas que maximicen la probabilidad\n",
    "print([post[i] for i in np.argmax(p, axis=1)])"
   ]
  },
  {
   "cell_type": "markdown",
   "metadata": {},
   "source": [
    "### Ploteo de los embeddings"
   ]
  },
  {
   "cell_type": "markdown",
   "metadata": {},
   "source": [
    "Además de obtener una probabilidad de cadenas, el modelo que hemos descrito aprende representaciones vectoriales de la palabra o embeddings. Al igual que el modelo de Word2Vec, podemos ocupar una arquitectura recurrente para obtener embeddings de palabra. Aquí hemos descrito una versión muy sencilla de esto. Modelos más complejos son CoVe (McCann, 2017) o ELMo (Peters et al., 2018)."
   ]
  },
  {
   "cell_type": "code",
   "execution_count": 8,
   "metadata": {},
   "outputs": [],
   "source": [
    "import matplotlib.pyplot as plt\n",
    "from sklearn.decomposition import PCA\n",
    "from sklearn.manifold import TSNE\n",
    "from operator import itemgetter\n",
    "\n",
    "#Funcion para plotear los datos con labels\n",
    "def plot_words(Z,ids):\n",
    "    #Reduce la dimensionalidad a 2\n",
    "    Z = PCA(2).fit_transform(Z)\n",
    "    \n",
    "    #Plotea con la marcas (marker) y el color indicado (c)\n",
    "    r=0\n",
    "    plt.scatter(Z[:,0],Z[:,1], marker='o', c='blue')\n",
    "    for label,x,y in zip(ids, Z[:,0], Z[:,1]):\n",
    "        plt.annotate(label, xy=(x,y), xytext=(-1,1), textcoords='offset points', ha='center', va='bottom')\n",
    "        r+=1\n",
    "    #plt.show()\n",
    "\n",
    "#Ordena las etiquetas para que coincidan con los vectores-renglón de la matriz de embedding\n",
    "label = [w[0] for w in sorted(idx.items(), key=itemgetter(1))]"
   ]
  },
  {
   "cell_type": "markdown",
   "metadata": {},
   "source": [
    "Así, la visualización de los datos es la siguiente:"
   ]
  },
  {
   "cell_type": "code",
   "execution_count": 9,
   "metadata": {},
   "outputs": [
    {
     "data": {
      "image/png": "[encoded data removed]",
      "text/plain": [
       "<Figure size 432x288 with 1 Axes>"
      ]
     },
     "metadata": {
      "needs_background": "light"
     },
     "output_type": "display_data"
    }
   ],
   "source": [
    "plot_words(C.T,label)\n",
    "plt.show()"
   ]
  },
  {
   "cell_type": "markdown",
   "metadata": {},
   "source": [
    "### Calculo de similitud\n",
    "\n",
    "Para calcular la similitud entre vectores, se puede utilizar la distancia eculideana o bien el coseno. En NLP el coseno es una forma común de determinar la similitud entre vectores. Este se define como:\n",
    "\n",
    "$$\\cos(x,y) = \\frac{x\\cdot y}{||x|| ||y||}$$\n",
    "\n",
    "Asimismo, para simplificar el calculo del coseno se pueden normalizar los vectores, dividiéndolos entre sus normas. Así, para cada vector $x$ su norma es $||x||=1$, lo que simplifica la ecuación anterior a:\n",
    "\n",
    "$$\\cos(x,y) = x\\cdot y$$"
   ]
  },
  {
   "cell_type": "code",
   "execution_count": 10,
   "metadata": {},
   "outputs": [
    {
     "data": {
      "image/png": "[encoded data removed]",
      "text/plain": [
       "<Figure size 432x288 with 1 Axes>"
      ]
     },
     "metadata": {
      "needs_background": "light"
     },
     "output_type": "display_data"
    }
   ],
   "source": [
    "#Normalización de los vecotores\n",
    "C_norm = (C/np.array([np.linalg.norm(w) for w in C.T])).T\n",
    "\n",
    "#Ploteo\n",
    "plot_words(C_norm,label)"
   ]
  },
  {
   "cell_type": "code",
   "execution_count": 11,
   "metadata": {},
   "outputs": [
    {
     "name": "stdout",
     "output_type": "stream",
     "text": [
      "el \t -0.5801734454322446\n",
      "perro \t 1.0\n",
      "come \t -0.9396770892436936\n",
      "un \t -0.255764393650841\n",
      "hueso \t 0.9938145151842603\n",
      "muchacho \t 0.9664225283410176\n",
      "jugaba \t -0.8743056236180435\n",
      "saltaba \t -0.9129990146524548\n",
      "la \t -0.815043583253848\n",
      "cuerda \t 0.9615611659937239\n",
      "croquetas \t 0.9805771102767835\n",
      "gato \t 0.9980801362784864\n"
     ]
    }
   ],
   "source": [
    "#Palabra objetivo\n",
    "obj_word = C_norm[idx['perro']]\n",
    "\n",
    "#Búsqueda de palabras más similares\n",
    "for w,v in idx.items():\n",
    "    #Calcula la distancia coseno\n",
    "    print(w,'\\t', np.dot(C_norm[v], obj_word) )"
   ]
  },
  {
   "cell_type": "markdown",
   "metadata": {},
   "source": [
    "### Visualización de las celdas recurrentes\n",
    "\n",
    "Las celdas recurrentes guardan información tanto de los vectores de entrada como de la red en estados anteriores. Estas celdas tienen información importante que le permite a la red decidir la distribución de salida en un estado dado. Algunos modelos de representación vectorial (word embeddings) han aprovechado la información aquí almacenada para producir vectores de palabraS; sistemas como CoVe toman en cuenta estas celdas para \"contextualizar\" los embeddings.\n",
    "\n",
    "Lo primero que haremos es definir un función que, además de devolver la probabilidad de salida, regrese cada una de las celdas recursivas en cada estado $t$. Así, obtendremos una matriz $H$ donde cada renglon será una celda vanilla. Podemos definir esta matriz por sus renglones como:\n",
    "\n",
    "$$H_{t} = g(Vh^{(t-1)} + Ux^{(t)} + b)$$"
   ]
  },
  {
   "cell_type": "code",
   "execution_count": 12,
   "metadata": {},
   "outputs": [],
   "source": [
    "def get_cells(sent, h = np.zeros(cell_dim)):\n",
    "    sent = sent.split()\n",
    "    prob_tot = np.zeros((len(sent),output_dim))\n",
    "    H = np.zeros((len(sent), cell_dim))\n",
    "    \n",
    "    for t,w in enumerate(sent):\n",
    "        #FORWARD\n",
    "        #embedding\n",
    "        x= C.T[idx[w]]\n",
    "        #Unidad oculta\n",
    "        act = np.dot(V,h) + np.dot(U,x) + b\n",
    "        h = np.tanh(act)\n",
    "        #add h\n",
    "        H[t] = h\n",
    "\n",
    "        #capa de salida\n",
    "        preAct = np.exp(np.dot(W,h) + c)\n",
    "        probs = preAct/preAct.sum(0)\n",
    "        \n",
    "        #Se almacenan las probabilidades\n",
    "        prob_tot[t] = probs\n",
    "        \n",
    "    return H, prob_tot "
   ]
  },
  {
   "cell_type": "code",
   "execution_count": 13,
   "metadata": {},
   "outputs": [
    {
     "data": {
      "image/png": "[encoded data removed]",
      "text/plain": [
       "<Figure size 432x288 with 1 Axes>"
      ]
     },
     "metadata": {
      "needs_background": "light"
     },
     "output_type": "display_data"
    }
   ],
   "source": [
    "ex_sent = 'el perro come un gato'\n",
    "H_s, p_s = get_cells(ex_sent)\n",
    "\n",
    "plot_words(H_s,ex_sent.split())"
   ]
  },
  {
   "cell_type": "code",
   "execution_count": 14,
   "metadata": {},
   "outputs": [
    {
     "name": "stdout",
     "output_type": "stream",
     "text": [
      "['DA', 'NC', 'V', 'DD', 'NC']\n"
     ]
    }
   ],
   "source": [
    "#Etiqueta POS\n",
    "print([post[i] for i in np.argmax(p_s,axis=1)])"
   ]
  },
  {
   "cell_type": "code",
   "execution_count": 15,
   "metadata": {},
   "outputs": [
    {
     "data": {
      "image/png": "[encoded data removed]",
      "text/plain": [
       "<Figure size 432x288 with 1 Axes>"
      ]
     },
     "metadata": {
      "needs_background": "light"
     },
     "output_type": "display_data"
    },
    {
     "name": "stdout",
     "output_type": "stream",
     "text": [
      "[[ 0.99376902 -0.98177349 -0.84289654]\n",
      " [ 0.98440517  0.99465852 -0.98594426]\n",
      " [-0.47850694 -0.99812281  0.9761792 ]\n",
      " [-0.97313577 -0.69946964 -0.99956026]\n",
      " [ 0.44242013  0.97549661 -0.97863646]]\n"
     ]
    }
   ],
   "source": [
    "plt.plot(H_s.T, '-')\n",
    "plt.gca().legend(ex_sent.split())\n",
    "plt.show()\n",
    "print(H_s)"
   ]
  },
  {
   "cell_type": "markdown",
   "metadata": {},
   "source": [
    "     "
   ]
  }
 ],
 "metadata": {
  "kernelspec": {
   "display_name": "Python 3",
   "language": "python",
   "name": "python3"
  },
  "language_info": {
   "codemirror_mode": {
    "name": "ipython",
    "version": 3
   },
   "file_extension": ".py",
   "mimetype": "text/x-python",
   "name": "python",
   "nbconvert_exporter": "python",
   "pygments_lexer": "ipython3",
   "version": "3.8.8"
  }
 },
 "nbformat": 4,
 "nbformat_minor": 2
}
