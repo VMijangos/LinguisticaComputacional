{
 "cells": [
  {
   "cell_type": "markdown",
   "metadata": {
    "colab_type": "text",
    "id": "JyhfNkDT-85E"
   },
   "source": [
    "\n",
    "\n",
    "```\n",
    "\n",
    "```\n",
    "# Modelo del Lenguaje con LSTM (pytorch)\n",
    "```\n",
    "\n",
    "```\n",
    "\n"
   ]
  },
  {
   "cell_type": "markdown",
   "metadata": {
    "colab_type": "text",
    "id": "-o10_I0F_RPi"
   },
   "source": [
    "Así como con las Vanilla-RNN, un modelo más complejos puede procesar los modelos del lenguaje. Una forma común de hacerlo es por medio de celdas LSTM. Aquí se presenta un modelo del lenguaje por medio de una RNN con LSTM.\n",
    "\n",
    "En primer lugar definimos las funciones de indexado y obtención del vocabulario:"
   ]
  },
  {
   "cell_type": "code",
   "execution_count": 1,
   "metadata": {
    "colab": {},
    "colab_type": "code",
    "id": "chD-u1Ip-Zqu"
   },
   "outputs": [],
   "source": [
    "import torch\n",
    "import torch.nn as nn\n",
    "import numpy as np\n",
    "from collections import defaultdict, Counter\n",
    "from itertools import chain\n",
    "import matplotlib.pyplot as plt\n",
    "from sklearn.decomposition import PCA\n",
    "from sklearn.manifold import TSNE\n",
    "from operator import itemgetter\n",
    "\n",
    "#Funcion que crea un vocabulario de palabras con un indice numerico\n",
    "def vocab():\n",
    "    vocab = defaultdict()\n",
    "    vocab.default_factory = lambda: len(vocab)\n",
    "    return vocab    \n",
    "\n",
    "#Funcion que pasa la cadena de simbolos a una secuencia con indices numericos\n",
    "def text2numba(corpus, vocab):\n",
    "    for doc in corpus:\n",
    "        yield [vocab[w] for w in doc.split()]"
   ]
  },
  {
   "cell_type": "markdown",
   "metadata": {
    "colab_type": "text",
    "id": "h0czhmFu_wwd"
   },
   "source": [
    "Ahora, a partir de un corpus. Obtenemos el vocabuclario en un diccionario con índices numéricos (idx) y convertimos las palabras en las sentencias en los índices correspondientes."
   ]
  },
  {
   "cell_type": "code",
   "execution_count": 2,
   "metadata": {
    "colab": {
     "base_uri": "https://localhost:8080/",
     "height": 34
    },
    "colab_type": "code",
    "id": "1i2fUUaT-dFf",
    "outputId": "a279d1cd-ae74-4a0a-d96c-e6328a440b59"
   },
   "outputs": [
    {
     "name": "stdout",
     "output_type": "stream",
     "text": [
      "[[0, 1, 2, 3, 4], [3, 5, 6], [0, 5, 7, 8, 9], [3, 1, 2, 10], [0, 1, 2], [0, 11, 2, 10], [3, 11, 2]]\n"
     ]
    }
   ],
   "source": [
    "corpus = ['el perro come un hueso', 'un muchacho jugaba', 'el muchacho saltaba la cuerda',\n",
    "          'un perro come croquetas', 'el perro come', 'el gato come croquetas', 'un gato come']\n",
    "\n",
    "#Llamamos la funcion para crear el vocabulario\n",
    "idx = vocab()\n",
    "#Creamos el vocabulario y le asignamos un indice a cada simbolo segun su aparicion\n",
    "cads_idx = list(text2numba(corpus,idx))\n",
    "\n",
    "print(cads_idx)"
   ]
  },
  {
   "cell_type": "markdown",
   "metadata": {
    "colab_type": "text",
    "id": "2_Z-CxeJAHdF"
   },
   "source": [
    "De igual forma que en los modelos del lenguaje que hemos ya revisado, agregamos los símbolos de BOS y EOS."
   ]
  },
  {
   "cell_type": "code",
   "execution_count": 3,
   "metadata": {
    "colab": {},
    "colab_type": "code",
    "id": "G-eJLonj-gl_"
   },
   "outputs": [],
   "source": [
    "#Indicamos las etiquetas a usar\n",
    "EOS = '<EOS>'\n",
    "BOS = '<BOS>'\n",
    "\n",
    "#Cada etiqeuta se le asigna un indice numerico\n",
    "BOS_IDX = max(idx.values())+2\n",
    "EOS_IDX = max(idx.values())+1\n",
    "\n",
    "#Se agregan estas etiqeutas al vocabulario\n",
    "idx[EOS] = EOS_IDX\n",
    "idx[BOS] = BOS_IDX\n",
    "\n",
    "#A cada cadena se le agrega la etiqueta BOS al inicio y EOS al final\n",
    "cadenas = [[BOS_IDX] + cad + [EOS_IDX] for cad in cads_idx]"
   ]
  },
  {
   "cell_type": "markdown",
   "metadata": {
    "colab_type": "text",
    "id": "4L8k19HtAVB6"
   },
   "source": [
    "Finalmente, obtenemos las instancias de entrenamiento. La idea es predecir la palabra subsecuente en la cadena; por tanto, nuestras instancias de entrenamiento están conformados por:\n",
    "\n",
    "1) El input, $x$, conformado por la cadena (con el símbolo BOS, pero no el EOS):\n",
    "$$x = (<BOS>, w_1,...,w_T)$$\n",
    "2) El target, $y$, conformado por los elementos subsecuentes en la cadena (con el EOS, pero sin el BOS):\n",
    "$$y = (w_1,...,w_T,<EOS>)$$\n",
    "Así, el objetivo de la red es que, dado una entrada $x$, se obtenga un target $y$; en otras palabras, para cada palabra, se busca predecir la palabra subsecuente:"
   ]
  },
  {
   "cell_type": "code",
   "execution_count": 4,
   "metadata": {
    "colab": {
     "base_uri": "https://localhost:8080/",
     "height": 54
    },
    "colab_type": "code",
    "id": "9O-hH4k9AgzB",
    "outputId": "c5407ad3-e2cf-47e6-e382-a25ab1c55b7e"
   },
   "outputs": [
    {
     "name": "stdout",
     "output_type": "stream",
     "text": [
      "[([13, 0, 1, 2, 3, 4], [0, 1, 2, 3, 4, 12]), ([13, 3, 5, 6], [3, 5, 6, 12]), ([13, 0, 5, 7, 8, 9], [0, 5, 7, 8, 9, 12]), ([13, 3, 1, 2, 10], [3, 1, 2, 10, 12]), ([13, 0, 1, 2], [0, 1, 2, 12]), ([13, 0, 11, 2, 10], [0, 11, 2, 10, 12]), ([13, 3, 11, 2], [3, 11, 2, 12])]\n"
     ]
    }
   ],
   "source": [
    "#Se crean las cadenas de ejemplos\n",
    "ex = [(cad[:-1],cad[1:]) for cad in cadenas]\n",
    "\n",
    "print(ex)"
   ]
  },
  {
   "cell_type": "markdown",
   "metadata": {
    "colab_type": "text",
    "id": "95vcIUuyBlbC"
   },
   "source": [
    "Ahora, definimos las dimensiones con las que vamos a trabajar. \n",
    "\n",
    "1) $N$ es el tamaño del vocabulario. Nuestra red tendrá una entrada de tamaño $N$ (equivalente a un one-hot)\n",
    "2) La dimensión de los embeddings (dim)\n",
    "3) La dimensión de las celdas del LSTM (dim_h)\n",
    "4) La dimensión de una capa oculta extra, (dim_h2)\n",
    "5) La dimensión de salida (dim_out), que será también del tamaño del vocabulario."
   ]
  },
  {
   "cell_type": "code",
   "execution_count": 86,
   "metadata": {
    "colab": {},
    "colab_type": "code",
    "id": "sqJuhKeQ-lvm"
   },
   "outputs": [],
   "source": [
    "#Se obtiene la longitud del alfabeto\n",
    "N = len(idx)\n",
    "\n",
    "#Se definen las dimensiones en todas las capas\n",
    "dim_in = N\n",
    "dim = 200\n",
    "dim_h = 100\n",
    "#dim_h2 = 100\n",
    "dim_out = N"
   ]
  },
  {
   "cell_type": "markdown",
   "metadata": {
    "colab_type": "text",
    "id": "IPqW-ip2CJiW"
   },
   "source": [
    "Ahora definimos la arquitectura de nuestra red. Esta se conformará de la siguiente forma:\n",
    "\n",
    "1) Una capa de embedding (emb): si $C$ es la matriz de embedding y $x^{(t)}$ el one-hot de entrada en el estado $t$, entonces:\n",
    "$$emb^{(t)} = Cx^{(t)}$$\n",
    "2) Una celda de LSTM: \n",
    " $$h^{(t)},c^{(t)} = biLSTM(emb^{(t)}, h^{(t-1)})$$\n",
    " 3) Una capa oculta con tangente hiperbólica:\n",
    " $$h_{tanh} = \\tanh(W_hh^{(t)} + b_h)$$\n",
    " 4) Una capa de salida con Softmax:\n",
    " $$\\phi(x^{(t)}) = Softmax(W_{out}h_{tanh}+b_{out})$$"
   ]
  },
  {
   "cell_type": "code",
   "execution_count": 87,
   "metadata": {
    "colab": {},
    "colab_type": "code",
    "id": "Y-NskBDU-oe1"
   },
   "outputs": [],
   "source": [
    "#Capa de embedding\n",
    "emb = nn.Embedding(dim_in,dim)"
   ]
  },
  {
   "cell_type": "code",
   "execution_count": 88,
   "metadata": {
    "colab": {},
    "colab_type": "code",
    "id": "FuAcUeCI-qSF"
   },
   "outputs": [],
   "source": [
    "#Capa de LSTM (se toma bidireccional)\n",
    "lstm = nn.LSTM(dim,dim_h,bidirectional=True)"
   ]
  },
  {
   "cell_type": "code",
   "execution_count": 89,
   "metadata": {
    "colab": {},
    "colab_type": "code",
    "id": "-lmxkmcL-sGd"
   },
   "outputs": [],
   "source": [
    "#Capa oculta con tanh y capa de salida con Softmax (2*dim_h por que concatena forward y backward)\n",
    "#forward = nn.Sequential(nn.Linear(2*dim_h,dim_h2), nn.Tanh(), nn.Linear(dim_h2,dim_out), nn.Softmax(dim=2))\n",
    "forward = nn.Sequential(nn.Linear(2*dim_h,dim_out), nn.Softmax(dim=2))"
   ]
  },
  {
   "cell_type": "markdown",
   "metadata": {
    "colab_type": "text",
    "id": "kcYDvovPDoxc"
   },
   "source": [
    "Ahora definimos la función de pérdida y la forma en que optimizaremos nuestros parámetros:\n",
    "Para la función de pérdida usamos la entropía curzada y para actualizar los parámetros el Gradientes Descendiente Estocástico:"
   ]
  },
  {
   "cell_type": "code",
   "execution_count": 90,
   "metadata": {
    "colab": {},
    "colab_type": "code",
    "id": "fKBHk4oW-uC8"
   },
   "outputs": [],
   "source": [
    "#La función de riesgo es la entropía cruzada\n",
    "criterion = torch.nn.CrossEntropyLoss()\n",
    "\n",
    "#Los parametros que se van a actualizar\n",
    "optimizer = torch.optim.SGD(list(emb.parameters()) + list(lstm.parameters()) + list(forward.parameters()), lr=0.1)"
   ]
  },
  {
   "cell_type": "markdown",
   "metadata": {
    "colab_type": "text",
    "id": "6NAQK9TOD3gV"
   },
   "source": [
    "Finalmente entrenamos, para esto corremos la red por cada ejemplo dado un número de iteraciones y aplicamos el método de backpropagation que nos aporta pytroch:"
   ]
  },
  {
   "cell_type": "code",
   "execution_count": 91,
   "metadata": {
    "colab": {},
    "colab_type": "code",
    "id": "9wkFr4eF-w-F"
   },
   "outputs": [
    {
     "name": "stdout",
     "output_type": "stream",
     "text": [
      "CPU times: user 20.6 s, sys: 55.7 ms, total: 20.7 s\n",
      "Wall time: 3.46 s\n"
     ]
    }
   ],
   "source": [
    "%%time\n",
    "\n",
    "#Numero de iteraciones\n",
    "its = 100\n",
    "#Se entrena el modelo\n",
    "for epoch in range(its):\n",
    "\tfor sent,pred in ex:\n",
    "\t\t#FORWARD\n",
    "\t\t#Se pasa a formato torch\n",
    "\t\tsent = torch.tensor(sent)\n",
    "\t\t#Embedding\n",
    "\t\temb_x = emb(sent)\n",
    "\t\t#Resize del embedding (se agrega dimension de length_seq)\n",
    "\t\temb_x = emb_x.unsqueeze(1)\n",
    "\t\t#LSTM\n",
    "\t\tout, dat = lstm(emb_x)\n",
    "\t\t#Capa de salida sobre out de LSTM\n",
    "\t\ty_pred = forward(out)\n",
    "\t\t#Se acomoda la salida para que la tome el loss\n",
    "\t\ty_pred = y_pred.transpose(1, 2)\n",
    "\t\t\n",
    "\t\t#BACKWARD\n",
    "\t\t#Resize de las variables esperadas (se agrega dimension de length_seq)\n",
    "\t\tpred = (torch.tensor(pred)).unsqueeze(1)\n",
    "\n",
    "\t\t#Se calcula el eror\n",
    "\t\tloss = criterion(y_pred, pred)\n",
    "\t\t#zero grad\n",
    "\t\toptimizer.zero_grad()\n",
    "\t\t#Backprop\n",
    "\t\tloss.backward()\n",
    "\t\t#Se actualizan los parametros\n",
    "\t\toptimizer.step()"
   ]
  },
  {
   "cell_type": "markdown",
   "metadata": {
    "colab_type": "text",
    "id": "yRvgpTnnEDdt"
   },
   "source": [
    "Para probar el método definimos una función forward (predict) que nos dará la salida dado una cadena de entrada."
   ]
  },
  {
   "cell_type": "code",
   "execution_count": 92,
   "metadata": {
    "colab": {},
    "colab_type": "code",
    "id": "RDPeC_H6-z38"
   },
   "outputs": [],
   "source": [
    "def predict(X):\n",
    "\t#Se transforma la cadena en indices numericos\n",
    "\tsent = torch.tensor(list(text2numba([X],idx))[0])\n",
    "\t#Embedding\n",
    "\temb_x = emb(sent)\n",
    "\t#Resize embedding\n",
    "\temb_x = emb_x.unsqueeze(1)\n",
    "\t#LSTM\n",
    "\tout, (hn,cn) = lstm(emb_x)\n",
    "\t#Capa de salida\n",
    "\ty_pred = forward(out)\n",
    "\t#Resize salida\n",
    "\ty_pred = y_pred.transpose(1, 2)\n",
    "\n",
    "\treturn y_pred"
   ]
  },
  {
   "cell_type": "markdown",
   "metadata": {
    "colab_type": "text",
    "id": "nNvlD9WaEOa7"
   },
   "source": [
    "Podemos usar esta red, por ejemplo, para ver las probabilidades de transición dada una palabra."
   ]
  },
  {
   "cell_type": "code",
   "execution_count": 93,
   "metadata": {
    "colab": {
     "base_uri": "https://localhost:8080/",
     "height": 238
    },
    "colab_type": "code",
    "id": "qQO8ugtW-17N",
    "outputId": "ac6fe508-e05c-4606-88c2-bc0c7e460e2b"
   },
   "outputs": [
    {
     "name": "stdout",
     "output_type": "stream",
     "text": [
      "el 0.4930282235145569\n",
      "perro 0.003990109544247389\n",
      "come 0.001234166556969285\n",
      "un 0.47753041982650757\n",
      "hueso 0.002064767759293318\n",
      "muchacho 0.005493715405464172\n",
      "jugaba 0.00238015060313046\n",
      "saltaba 0.0023001395165920258\n",
      "la 0.0017211795784533024\n",
      "cuerda 0.0021257419139146805\n",
      "croquetas 0.002224709838628769\n",
      "gato 0.0026704538613557816\n",
      "<EOS> 0.0016198434168472886\n"
     ]
    }
   ],
   "source": [
    "probs = predict('<BOS>')[-1]\n",
    "\n",
    "for word in idx.keys():\n",
    "    if word != '<BOS>':\n",
    "        print(word,float(probs[idx[word]]))"
   ]
  },
  {
   "cell_type": "markdown",
   "metadata": {
    "colab_type": "text",
    "id": "FelMlaHVEVrz"
   },
   "source": [
    "También podemos predecir la palabra subsecuente más probable:"
   ]
  },
  {
   "cell_type": "code",
   "execution_count": 94,
   "metadata": {
    "colab": {
     "base_uri": "https://localhost:8080/",
     "height": 34
    },
    "colab_type": "code",
    "id": "1t4Y78E4EaNo",
    "outputId": "8bc9336e-cc87-4a12-cf71-b4e098a07279"
   },
   "outputs": [
    {
     "name": "stdout",
     "output_type": "stream",
     "text": [
      "<BOS> el perro come\n"
     ]
    }
   ],
   "source": [
    "string = '<BOS> el perro'\n",
    "probs = predict(string)[-1]\n",
    "pred_word = list(idx.keys())[int(probs.argmax())]\n",
    "\n",
    "print(string+' '+pred_word)"
   ]
  },
  {
   "cell_type": "markdown",
   "metadata": {},
   "source": [
    "### Ploteo de embeddings"
   ]
  },
  {
   "cell_type": "code",
   "execution_count": 95,
   "metadata": {},
   "outputs": [],
   "source": [
    "#Funcion para plotear los datos con labels\n",
    "def plot_words(Z,ids):\n",
    "    #Reduce la dimensionalidad a 2\n",
    "    Z = PCA(2).fit_transform(Z)\n",
    "    \n",
    "    #Plotea con la marcas (marker) y el color indicado (c)\n",
    "    r=0\n",
    "    plt.scatter(Z[:,0],Z[:,1], marker='o', c='blue')\n",
    "    for label,x,y in zip(ids, Z[:,0], Z[:,1]):\n",
    "        plt.annotate(label, xy=(x,y), xytext=(-1,1), textcoords='offset points', ha='center', va='bottom')\n",
    "        r+=1\n",
    "    #plt.show()\n",
    "\n",
    "#Ordena las etiquetas para que coincidan con los vectores-renglón de la matriz de embedding\n",
    "label = [w[0] for w in sorted(idx.items(), key=itemgetter(1))]"
   ]
  },
  {
   "cell_type": "code",
   "execution_count": 96,
   "metadata": {},
   "outputs": [],
   "source": [
    "C = list(emb.parameters())[0].detach().numpy()"
   ]
  },
  {
   "cell_type": "code",
   "execution_count": 97,
   "metadata": {},
   "outputs": [],
   "source": [
    "labels = [pair[0] for pair in sorted(idx.items(), key=itemgetter(1))]"
   ]
  },
  {
   "cell_type": "code",
   "execution_count": 98,
   "metadata": {},
   "outputs": [
    {
     "data": {
      "image/png": "[encoded data removed]",
      "text/plain": [
       "<Figure size 432x288 with 1 Axes>"
      ]
     },
     "metadata": {
      "needs_background": "light"
     },
     "output_type": "display_data"
    }
   ],
   "source": [
    "plot_words(C[:-2], labels)"
   ]
  },
  {
   "cell_type": "markdown",
   "metadata": {},
   "source": [
    "#### Cálculo de similitud"
   ]
  },
  {
   "cell_type": "code",
   "execution_count": 54,
   "metadata": {},
   "outputs": [
    {
     "data": {
      "image/png": "[encoded data removed]",
      "text/plain": [
       "<Figure size 432x288 with 1 Axes>"
      ]
     },
     "metadata": {
      "needs_background": "light"
     },
     "output_type": "display_data"
    }
   ],
   "source": [
    "C_norm = (C.T/np.array([np.linalg.norm(v) for v in C])).T\n",
    "plot_words(C_norm,labels)"
   ]
  },
  {
   "cell_type": "code",
   "execution_count": 55,
   "metadata": {},
   "outputs": [
    {
     "name": "stdout",
     "output_type": "stream",
     "text": [
      "el 0.02993743 1.3928838\n",
      "perro 0.034585252 1.3895429\n",
      "come -0.02957018 1.4349705\n",
      "un 0.05405872 1.3754572\n",
      "hueso -0.021648997 1.4294398\n",
      "muchacho -0.08242198 1.4713408\n",
      "jugaba -0.01716005 1.426296\n",
      "saltaba 0.10218584 1.3400106\n",
      "la 0.07756304 1.3582615\n",
      "cuerda -0.07495596 1.4662578\n",
      "croquetas -0.082485065 1.4713838\n",
      "gato 1.0 0.0\n",
      "<EOS> -0.03807128 1.4408826\n",
      "<BOS> -0.07871746 1.4688209\n"
     ]
    }
   ],
   "source": [
    "targ_w = C_norm[idx['gato']]\n",
    "\n",
    "for w, k in idx.items():\n",
    "    cos = np.dot(targ_w, C_norm[k])\n",
    "    dist = np.linalg.norm(targ_w -C_norm[k])\n",
    "    print(w, cos, dist)"
   ]
  },
  {
   "cell_type": "markdown",
   "metadata": {},
   "source": [
    "## ELMo\n",
    "\n",
    "El modelo de ELMo (Peters et al., 2018) propone representar las palabras en contextos, esto es, las representaciones vectoriales son funciones de la sentencia de entrada. Para hacer esto, toma en cuenta las celdas de la capa de biLSTM $h^{(t)} = [\\overrightarrow{h^{(t)}}; \\overleftarrow{h^{(t)}}]$ en el estado $t$ y los combinan con los embeddings obtenidos. Para esto, necesitamos definir una función forward que nos permita recuperar estos valores:"
   ]
  },
  {
   "cell_type": "code",
   "execution_count": 56,
   "metadata": {},
   "outputs": [],
   "source": [
    "def predict(X):\n",
    "    #Separa la sentencia\n",
    "    sent_idx = list(text2numba([X],idx))[0]\n",
    "    #Longitud de la sentencia\n",
    "    m = len(sent_idx)\n",
    "    #Se transforma la cadena en indices numericos\n",
    "    sent = torch.tensor(sent_idx)\n",
    "    #Embedding\n",
    "    emb_x = emb(sent)\n",
    "    #Resize embedding\n",
    "    emb_x = emb_x.unsqueeze(1)\n",
    "    #Embeddings resahpeados\n",
    "    h0 = emb_x.detach().numpy().reshape(m,dim)\n",
    "    #LSTM\n",
    "    out, (hn,cn) = lstm(emb_x)\n",
    "    #Capas biLSTM\n",
    "    h1 = out.detach().numpy().reshape(m,2*dim_h)\n",
    "    #Capa de salida\n",
    "    y_pred = forward(out)\n",
    "    #Resize salida\n",
    "    y_pred = y_pred.transpose(1, 2)\n",
    "\n",
    "    return y_pred, (h0,h1)"
   ]
  },
  {
   "cell_type": "markdown",
   "metadata": {},
   "source": [
    "Dada una cadena de longitud $m$, entonces se computan las $m$ celdas biLSTM $h^{(t)}$. El modelo de ELMo determina una representación contextualizada por medio de una combinación lineal. Dado que sólo tenemos dos vectores (el de embedding $x^{(t)}$ y el de biLSTM $h^{(t)}$) esta combinación es de la forma:\n",
    "\n",
    "$$ELMo(w_t) = \\gamma(s_1 x^{(t)} + s_2 h^{(t)})$$\n",
    "\n",
    "La representación de la palabra $w_t$ en contexto es el vector resultante. El valor de $\\gamma$ escala los vectores, en este caso, tomaremos $\\gamma=1$. Los valores $s_i$ son pesos (generalmente obtenidos por una función softmax), que en este caso tomarán cada uno un valor igual a 0.5 para simplificar"
   ]
  },
  {
   "cell_type": "code",
   "execution_count": 67,
   "metadata": {},
   "outputs": [],
   "source": [
    "#Cadena de entrada\n",
    "input_sent1 = 'el perro come un hueso'\n",
    "#Obtención de los valores\n",
    "probs, (x,h) = predict(input_sent1)"
   ]
  },
  {
   "cell_type": "code",
   "execution_count": 70,
   "metadata": {},
   "outputs": [
    {
     "data": {
      "image/png": "[encoded data removed]",
      "text/plain": [
       "<Figure size 432x288 with 1 Axes>"
      ]
     },
     "metadata": {
      "needs_background": "light"
     },
     "output_type": "display_data"
    }
   ],
   "source": [
    "s1, s2 = 0.2, 0.8\n",
    "plot_words(s1*x+s2*h, input_sent1.split())\n",
    "plt.show()"
   ]
  },
  {
   "cell_type": "code",
   "execution_count": 71,
   "metadata": {},
   "outputs": [
    {
     "data": {
      "image/png": "[encoded data removed]",
      "text/plain": [
       "<Figure size 432x288 with 1 Axes>"
      ]
     },
     "metadata": {
      "needs_background": "light"
     },
     "output_type": "display_data"
    }
   ],
   "source": [
    "#Cadena de entrada\n",
    "input_sent1 = 'el perro jugaba'\n",
    "#Obtención de los valores\n",
    "probs, (x,h) = predict(input_sent1)\n",
    "s1, s2 = 0.2, 0.8\n",
    "plot_words(s1*x+s2*h, input_sent1.split())\n",
    "plt.show()"
   ]
  },
  {
   "cell_type": "markdown",
   "metadata": {},
   "source": [
    "En el caso de ELMo, los vectores están siempre contextualizados. Como puede verse, el resultado es diferente de los embeddings obtenidos en la capa correspondiente; mientras que los embeddings son independientes del contexto, los vectores de ELMo no lo son."
   ]
  }
 ],
 "metadata": {
  "colab": {
   "name": "LM-LSTM.ipynb",
   "provenance": [],
   "version": "0.3.2"
  },
  "kernelspec": {
   "display_name": "Python 3",
   "language": "python",
   "name": "python3"
  },
  "language_info": {
   "codemirror_mode": {
    "name": "ipython",
    "version": 3
   },
   "file_extension": ".py",
   "mimetype": "text/x-python",
   "name": "python",
   "nbconvert_exporter": "python",
   "pygments_lexer": "ipython3",
   "version": "3.8.8"
  }
 },
 "nbformat": 4,
 "nbformat_minor": 1
}
