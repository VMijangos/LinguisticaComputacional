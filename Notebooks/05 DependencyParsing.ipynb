{
 "cells": [
  {
   "cell_type": "markdown",
   "id": "19758c38",
   "metadata": {},
   "source": [
    "# Parseo de dependencias\n",
    "\n",
    "Un parseo de dependencias devuelve las dependencias que se dan entre los tokens de una oración. Estas dependencias suelen darse entre pares de tokens.\n",
    "\n",
    "Aquí definimos un algoritmo basado en transiciones para parsear dependencias. Proponemos una serie de reglas simples para analizar de manera sencilla oraciones con estructura simple."
   ]
  },
  {
   "cell_type": "code",
   "execution_count": 1,
   "id": "8f4de442",
   "metadata": {},
   "outputs": [],
   "source": [
    "from nltk.stem import SnowballStemmer\n",
    "\n",
    "#Genera un stemmer para simplificar los tokens\n",
    "stemmer = SnowballStemmer('spanish')"
   ]
  },
  {
   "cell_type": "markdown",
   "id": "f9410645",
   "metadata": {},
   "source": [
    "### Algoritmo\n",
    "\n",
    "Definimos un parser que considera las relaciones entre sustantivos, verbos y determinantes. Se asumen las siguientes reglas:\n",
    "\n",
    "* Un <b>determinante</b> seguido de un <b>sustantivo</b> define una dependencia DET (determinante).\n",
    "* Un <b>sustantivo</b> seguido de un <b>verbo</b> define una dependencia NSUBJ (sujeto).\n",
    "* Un <b>verbo</b> seguid de un <b>sustantantivo</b> define una dependencia DOBJ (objeto directo)"
   ]
  },
  {
   "cell_type": "code",
   "execution_count": 2,
   "id": "328c65bf",
   "metadata": {},
   "outputs": [],
   "source": [
    "#Categoría de tokens\n",
    "Nouns = ['gat','perr', 'niñ', 'sop']\n",
    "Verbs = ['corr', 'jueg', 'com', 'salt']\n",
    "Dets = ['el', 'la', 'un', 'las', 'los', 'unos']\n",
    "\n",
    "def parse(sentence):\n",
    "    \"\"\"\n",
    "    Función para parseo de dependencias a partir de reglas simples basadas en \n",
    "    relaciones de sustantivos, verbos y determinantes.\n",
    "    \n",
    "    Arguments\n",
    "    ---------\n",
    "    sentence : list\n",
    "        Lista de tokens para parsear.\n",
    "    \n",
    "    Returns\n",
    "    -------\n",
    "    dependencies : list\n",
    "        Lista de dependencias entre pares de palabras.\n",
    "    \"\"\"\n",
    "    #Inicializa el stack\n",
    "    stack = ['root']\n",
    "    #Guarda tokens en buffer\n",
    "    buffer = sentence.split()\n",
    "    #Guarda las dependencias\n",
    "    dependencies = []\n",
    "    \n",
    "    #Agrega primer token del buffer a stack\n",
    "    new_token = buffer.pop(0)\n",
    "    stack.append(new_token) \n",
    "    \n",
    "    #Criterio de finalización\n",
    "    final = False\n",
    "    while final == False:\n",
    "        #Obtiene tokens en tope de stack\n",
    "        w1 = stack[-1] \n",
    "        w2 = stack[-2]\n",
    "        #Realiza stemming de los tokens\n",
    "        s1 = stemmer.stem(w1)\n",
    "        s2 = stemmer.stem(w2)\n",
    "        \n",
    "        #Regla LeftArrow para dependencia DET\n",
    "        if s1 in Nouns and s2 in Dets:\n",
    "            dependencies.append('{} <--DET {}'.format(w2,w1))\n",
    "            stack.remove(w2)\n",
    "\n",
    "        #Regla LeftArrow para dependencia NSUBJ\n",
    "        elif s1 in Verbs and s2 in Nouns:\n",
    "            dependencies.append('{} <--NSUBJ {}'.format(w2,w1))\n",
    "            stack.remove(w2)\n",
    "            \n",
    "        #Regla RightArrow para dependencia OBJ\n",
    "        elif s1 in Nouns and s2 in Verbs:\n",
    "            dependencies.append('{} DOBJ--> {}'.format(w2,w1))\n",
    "            stack.remove(w1)\n",
    "\n",
    "        #Shift\n",
    "        else:\n",
    "            try:\n",
    "                #Intenta obtener elemento del buffer\n",
    "                new_token = buffer.pop(0)\n",
    "                stack.append(new_token)\n",
    "            except:\n",
    "                #Si no lo logra detiene el algoritmo\n",
    "                final = True\n",
    "\n",
    "    return dependencies"
   ]
  },
  {
   "cell_type": "markdown",
   "id": "59200dd2",
   "metadata": {},
   "source": [
    "Aplicamos el algoritmo a un ejemplo simple:"
   ]
  },
  {
   "cell_type": "code",
   "execution_count": 3,
   "id": "d612b634",
   "metadata": {},
   "outputs": [
    {
     "name": "stdout",
     "output_type": "stream",
     "text": [
      "['la <--DET niña', 'niña <--NSUBJ come', 'la <--DET sopa', 'come DOBJ--> sopa']\n"
     ]
    }
   ],
   "source": [
    "sentence = 'la niña come la sopa'\n",
    "\n",
    "print(parse(sentence))"
   ]
  },
  {
   "cell_type": "markdown",
   "id": "6ac5a90d",
   "metadata": {},
   "source": [
    "Las dependencias que se dan son simples, y se pierden relaciones complejas; por ejemplo, oraciones como 'la sopa come la niña' asume que 'la sopa' es sujeto. Para lidiar con estos casos podría ampliarse las categorías de las palabras e incluir categorías como 'Sustantivo animado'."
   ]
  },
  {
   "cell_type": "markdown",
   "id": "9ab0fb96",
   "metadata": {},
   "source": [
    "   "
   ]
  }
 ],
 "metadata": {
  "kernelspec": {
   "display_name": "Python 3",
   "language": "python",
   "name": "python3"
  },
  "language_info": {
   "codemirror_mode": {
    "name": "ipython",
    "version": 3
   },
   "file_extension": ".py",
   "mimetype": "text/x-python",
   "name": "python",
   "nbconvert_exporter": "python",
   "pygments_lexer": "ipython3",
   "version": "3.8.8"
  }
 },
 "nbformat": 4,
 "nbformat_minor": 5
}
