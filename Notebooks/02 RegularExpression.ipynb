{
 "cells": [
  {
   "cell_type": "markdown",
   "metadata": {
    "colab_type": "text",
    "id": "U73kuMzVTZHP"
   },
   "source": [
    "# Expresiones regulares\n",
    "\n",
    "Las expresiones regulares definen un lenguaje regular $L$, en la forma $L = [[r]]$, donde $r$ es una expresión regular. Para el lenguaje natural, se pueden utilizar las expresiones regulares para encontrar patrones concretos. En este sentido, el lenguaje regular que estamos definiendo no corresponde al lenguaje humano completo, sino sólo a una parte (pequeña) de éste. A continuación revisamos algunos conceptos esenciales sobre expresiones regulares."
   ]
  },
  {
   "cell_type": "code",
   "execution_count": 1,
   "metadata": {
    "colab": {},
    "colab_type": "code",
    "id": "zIBHGn0OM8dz"
   },
   "outputs": [],
   "source": [
    "#Importa paquetes\n",
    "import nltk\n",
    "import re\n",
    "#NLTK contiene corpus en español\n",
    "from nltk.corpus import cess_esp"
   ]
  },
  {
   "cell_type": "markdown",
   "metadata": {
    "colab_type": "text",
    "id": "yJTM5ujTUr7R"
   },
   "source": [
    "Para obtener el corpus que utilizaremos, lo descargamos con el comando nltk.download(). "
   ]
  },
  {
   "cell_type": "code",
   "execution_count": 2,
   "metadata": {
    "colab": {
     "base_uri": "https://localhost:8080/",
     "height": 68
    },
    "colab_type": "code",
    "id": "gmArAjdRNzhX",
    "outputId": "da2a9ceb-d4b2-4f55-8592-a46528eda967"
   },
   "outputs": [
    {
     "name": "stderr",
     "output_type": "stream",
     "text": [
      "[nltk_data] Downloading package cess_esp to\n",
      "[nltk_data]     /home/mijangos/nltk_data...\n",
      "[nltk_data]   Package cess_esp is already up-to-date!\n"
     ]
    },
    {
     "data": {
      "text/plain": [
       "True"
      ]
     },
     "execution_count": 2,
     "metadata": {},
     "output_type": "execute_result"
    }
   ],
   "source": [
    "#Descarga de corpus\n",
    "#nltk.download('cess_esp')"
   ]
  },
  {
   "cell_type": "code",
   "execution_count": 3,
   "metadata": {
    "colab": {
     "base_uri": "https://localhost:8080/",
     "height": 34
    },
    "colab_type": "code",
    "id": "MqMGQmbjNgNC",
    "outputId": "abd73627-efe0-4adf-baa0-bd172c3f6960"
   },
   "outputs": [
    {
     "name": "stdout",
     "output_type": "stream",
     "text": [
      "El grupo estatal Electricité_de_France -Fpa- EDF -Fpt- anunció hoy , jueves , la compra del 51_por_c\n"
     ]
    }
   ],
   "source": [
    "#Obtenemos el corpus como un texto\n",
    "corpus = ' '.join(cess_esp.words())\n",
    "print(corpus[:100])"
   ]
  },
  {
   "cell_type": "markdown",
   "metadata": {
    "colab_type": "text",
    "id": "H8hn7D6WVUaQ"
   },
   "source": [
    "Para definir el lenguje regular utilizaremos una expresión regular. Esta expresión regular aceptará todo lo que sea parte del lenguaje dentro del corpus. Claramente, el alfabeto que utilizamos es el alfabeto latino. \n",
    "\n",
    "En este caso, el lenguaje que buscamos corresponde a todas aquellas palabras que terminen en 'os'. Si bien muchas de estas palabras serán plurales, habrá casos en los que esto no suceda."
   ]
  },
  {
   "cell_type": "code",
   "execution_count": 4,
   "metadata": {
    "colab": {},
    "colab_type": "code",
    "id": "DP1Js_wiOCDW"
   },
   "outputs": [],
   "source": [
    "#Definimos la expresión regular\n",
    "regex = re.compile(r'[^ ]+os')"
   ]
  },
  {
   "cell_type": "code",
   "execution_count": 5,
   "metadata": {
    "colab": {},
    "colab_type": "code",
    "id": "VIT_eQgaP4GH"
   },
   "outputs": [],
   "source": [
    "#Buscamos todas las palabras que pertenezcan al lenguaje\n",
    "#dentro del corpus\n",
    "matches = re.findall(regex,corpus)"
   ]
  },
  {
   "cell_type": "code",
   "execution_count": 6,
   "metadata": {
    "colab": {
     "base_uri": "https://localhost:8080/",
     "height": 34
    },
    "colab_type": "code",
    "id": "4aiKJtsnQgEy",
    "outputId": "2220bd41-e0f7-4329-92dd-f6bb376ebb96"
   },
   "outputs": [
    {
     "name": "stdout",
     "output_type": "stream",
     "text": [
      "['megavatios', 'años', 'pos', 'dos', 'euros', 'megavatios', 'euros', 'megavatios', 'Celia_Villalobos', 'los']\n"
     ]
    }
   ],
   "source": [
    "print(matches[:10])"
   ]
  },
  {
   "cell_type": "markdown",
   "metadata": {
    "colab_type": "text",
    "id": "spUE7Vx6WBLf"
   },
   "source": [
    "## Pluralización con expresiones regulares\n",
    "\n",
    "Las expresiones regulares se pueden utilizar para buscar patrones lingüísticos especificos que obedezcan a reglas muy particulares. Por ejemplo, en el plural del español, en la mayoría de las palabras se concatena un símbolo 's' al final de la palabra. Pero en otros casos (cuando la palabra termina en consonante), lo que se concatena es la subcadena 'es'. Más aún, si la palabra termina en 's', no suele concatenarce nada.\n",
    "\n",
    "Otro caso particular es cuando las palabras terminan en 'z'. En estos casos, además existe una substitución de 'z' por 'c', además de que se concatena 'es'. "
   ]
  },
  {
   "cell_type": "code",
   "execution_count": 7,
   "metadata": {
    "colab": {
     "base_uri": "https://localhost:8080/",
     "height": 153
    },
    "colab_type": "code",
    "id": "bYuBdgSYRLPv",
    "outputId": "3f87ce3a-a289-40f6-ef45-a50560291b8c"
   },
   "outputs": [
    {
     "name": "stdout",
     "output_type": "stream",
     "text": [
      "análisis\n",
      "gatos\n",
      "niñas\n",
      "pasantes\n",
      "flores\n",
      "relojes\n",
      "rubíes\n",
      "avestruces\n"
     ]
    }
   ],
   "source": [
    "#Palabras ejemplo\n",
    "singulares = ['análisis', 'gato', 'niña', 'pasante', 'flor', 'reloj', 'rubí', 'avestruz']\n",
    "\n",
    "for sg in singulares:\n",
    "  #Se busca las palabras que terminan en consonante o 'i'\n",
    "  if re.match(r'[^ ]+[í|b|c|d|g|j|k|l|m|n|p|q|r|t|v|w|y]\\b',sg):\n",
    "    #Se concatena 'es'\n",
    "    print(sg+'es')\n",
    "  \n",
    "  #Se busca palabras que terminen en z\n",
    "  elif re.match(r'[^ ]+z\\b',sg):\n",
    "    #Se sustituye 'z' por 'c'\n",
    "    pl = re.sub(r'z\\b',r'c',sg)\n",
    "    #Se concatena 'es'\n",
    "    print(pl+'es')\n",
    "    \n",
    "  #Se busca palabras que terminen en s\n",
    "  elif re.match(r'[^ ]+s\\b',sg):\n",
    "    #Se deja la palabra tal como es\n",
    "    print(sg)\n",
    "    \n",
    "  #En otro caso, sólo se concatena s\n",
    "  else:\n",
    "    print(sg+'s')"
   ]
  },
  {
   "cell_type": "markdown",
   "metadata": {},
   "source": [
    "   "
   ]
  }
 ],
 "metadata": {
  "colab": {
   "name": "REGEX.ipynb",
   "provenance": []
  },
  "kernelspec": {
   "display_name": "Python 3",
   "language": "python",
   "name": "python3"
  },
  "language_info": {
   "codemirror_mode": {
    "name": "ipython",
    "version": 3
   },
   "file_extension": ".py",
   "mimetype": "text/x-python",
   "name": "python",
   "nbconvert_exporter": "python",
   "pygments_lexer": "ipython3",
   "version": "3.8.8"
  }
 },
 "nbformat": 4,
 "nbformat_minor": 1
}
