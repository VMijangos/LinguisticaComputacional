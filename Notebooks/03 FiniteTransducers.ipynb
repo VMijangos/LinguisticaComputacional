{
 "cells": [
  {
   "cell_type": "markdown",
   "metadata": {},
   "source": [
    "# Parse morfológico con transductores finitos"
   ]
  },
  {
   "cell_type": "markdown",
   "metadata": {},
   "source": [
    "El parseo morfológico consiste en analizar la estructura de una palabra para obtener de ella información semántica. En particular, se busca obtener información morfológica; es decir, queremos describir una palabra a partir de los morfemas que la conforman. En este sentido, buscamos etiquetar los morfemas con la descripción de éstos. Así, si pensamos en español, tenemos morfemas de género (masculino y femenino) o de número (singular y plural) para los sustantivos. En el caso de los verbos, podemos tener morfemas de tiempo (presente, pasado, futuro, imperfecto, etc.) de número y persona, entre otros. \n",
    "\n",
    "La dificultad de realizar este etiquetado a partir de transductores finitos  es que cada tipo de palabra (sustantivo, verbo, adverbio, artículo, conjunción, etc.) tiene una estructura particular. Además de que debemos definir una serie de reglas para cada tipo de palabras, debemos contar con los conocimientos suficientes sobre la estructura de las palabras. \n",
    "\n",
    "Por ejemplo, en español, notamos que la mayoría de los fenómenos morfológicos están presentes en la derecha de la cadena; esto es, se trata de sufijos. Así, podemos pensar que, en general, las palabras en español son de la forma:\n",
    "\n",
    "$$base + sufijos$$\n",
    "\n",
    "Sin embargo, existen lenguas en donde predominan los prefijos e, incluso, aquellas en las que existen tanto prefijos como sufijos de forma equivalente. En este sentido, este tipo de métodos son dependientes del lenguaje."
   ]
  },
  {
   "cell_type": "code",
   "execution_count": 1,
   "metadata": {},
   "outputs": [],
   "source": [
    "import re"
   ]
  },
  {
   "cell_type": "markdown",
   "metadata": {},
   "source": [
    "A continuación, creamos un pequeño transductor para estudiar los sustantivos en español. Para esto, tomamoss algunas palabras como ejemplos. A partir de estas palabras podemos deducir patrones que nos ayuden a crear el transductor."
   ]
  },
  {
   "cell_type": "code",
   "execution_count": 2,
   "metadata": {
    "scrolled": true
   },
   "outputs": [],
   "source": [
    "#Lista de palabras\n",
    "words = ['niño','niños', 'niñas','niñitos', 'gato', 'gatos', 'gatitos', 'paloma','palomita','palomas',\n",
    "        'flores','flor','florecita','lápiz','lápices']"
   ]
  },
  {
   "cell_type": "markdown",
   "metadata": {},
   "source": [
    "Si observamos detalladamente, y a partir de nuestro conocimiento del español, podemos ver que estos sustantivos cuentan con categorías de género (GEN) y número (NUM), pero además algunos tienen una lectura de diminutivo (DIM). Estas categorías se presentan en la palabra a partir de subcadenas. Estas subcadenas además presentan un orden establecido. Así, analizando cada palabra podemos ver que se tiene una estructura de la forma:\n",
    "\n",
    "$$Base + DIM + GEN + NUM$$\n",
    "\n",
    "La base es la parte de la palabra  que aporta el significado central, por lo que buscamos conservarla. Algo que es importante notar es que el diminutivo (DIM) puede presentarse de varias formas: como la subcadena $it$, como la subcadena $ecit$ o como el elemento nulo $\\epsilon$ (en este caso, diremos que no hay diminutivo). El género (GEN) también puede presentarse de distintas formas, pero cada una de estas formas conlleva un cmabio de significado; así la subcadena $a$ implica género femenino (FEM), mientras que la subcadena $o$ implica género masculino (MSC). De igual forma, puede darse el caso donde haya un elemento $\\epsilon$ (en estos casos, es difícil determminar el género). Finalmente, el número (NUM) puede mostrar otras variaciones. Si se tiene un elemento $\\epsilon$ podemos pensar que hay número singular. Por su parte, el número plural (PL) se da a partir de la presencia de una subcadena $s$ o $es$. \n",
    "\n",
    "En este sentido, podemos definir una lista de sufijos de este lenguaje $L$. Esta lista está dada como:\n",
    "\n",
    "$$L/S = \\{\\epsilon, ecit, it, a, o, es,  s\\}$$\n",
    "\n",
    "Un esbozo del transductor que se puede definir para parsear este lenguaje es el siguiente:\n",
    "\n",
    "$$(q_0, [\\^ \\_]+, [\\^ \\_ ]+) = q_1 \\\\ (q_1, [ecit|it], DIM) = q_2 \\\\ (q_2, o, MSC) = q_3 \\\\ (q_2,a,FEM) = q_3 \\\\ (q_3, [s|es],PL) = q_4$$\n",
    "\n",
    "Este transductor no es del todo preciso, pero da una idea de lo que buscamos, a continuación definimos un transductor que pueda parsear este lenguaje."
   ]
  },
  {
   "cell_type": "code",
   "execution_count": 3,
   "metadata": {},
   "outputs": [
    {
     "name": "stdout",
     "output_type": "stream",
     "text": [
      "niño --> niñ-MSC\n",
      "niños --> niñ-MSC-PL\n",
      "niñas --> niñ-FEM-PL\n",
      "niñitos --> niñ-DIM-MSC-PL\n",
      "gato --> gat-MSC\n",
      "gatos --> gat-MSC-PL\n",
      "gatitos --> gat-DIM-MSC-PL\n",
      "paloma --> palom-FEM\n",
      "palomita --> palom-DIM-FEM\n",
      "palomas --> palom-FEM-PL\n",
      "flores --> flor-PL\n",
      "flor --> flor\n",
      "florecita --> flor-DIM-FEM\n",
      "lápiz --> lápiz\n",
      "lápices --> lápiz-PL\n",
      "perritos --> perr-DIM-MSC-PL\n"
     ]
    }
   ],
   "source": [
    "#Lista para guardar las palabras parseadas\n",
    "morph_parsing = []\n",
    "\n",
    "for w in words+['perritos']:\n",
    "    #ecit -> DIM\n",
    "    R0 = re.sub(r'([^ ]+)ecit([a|o|as|os])',r'\\1-DIM\\2',w)\n",
    "    #it -> DIM\n",
    "    R1 = re.sub(r'([^ ]+)it([a|o|as|os])',r'\\1-DIM\\2',R0)\n",
    "    #a(s) -> FEM\n",
    "    R2 = re.sub(r'([^ ]+)a(s)',r'\\1-FEM\\2',R1)\n",
    "    #a -> FEM\n",
    "    R3 = re.sub(r'([^ ]+)a\\b',r'\\1-FEM',R2)\n",
    "    #o(s) -> MSC\n",
    "    R4 = re.sub(r'([^ ]+)o(s)',r'\\1-MSC\\2',R3)\n",
    "    #o .> MSC\n",
    "    R5 = re.sub(r'([^ ]+)o\\b',r'\\1-MSC',R4)\n",
    "    #es -> PL\n",
    "    R6 = re.sub(r'([^ ]+)es\\b',r'\\1-PL',R5)\n",
    "    #s -> PL\n",
    "    R7 = re.sub(r'([^ ]+)s\\b',r'\\1-PL',R6)\n",
    "    #Sustituye la c por z cuando es necesario\n",
    "    parse = re.sub(r'c-',r'z-',R7)\n",
    "    \n",
    "    #Guarda los parseos\n",
    "    morph_parsing.append(parse)\n",
    "    \n",
    "    print(w,'-->',parse)"
   ]
  },
  {
   "cell_type": "markdown",
   "metadata": {},
   "source": [
    "## Lematización\n",
    "\n",
    "La lematización es un proceso difícil de realizar pues la mayoría de las veces se realiza a partir de diccionarios. En estos diccionarios no se guardan todas los tipos, sino sólo los stems. Así, reducimos las posibiles formas que puede tomar un mismo tipo. Por tanto, la mayoría de las veces será necesario stemmizar (o parsear) antes de realizar una lematización.\n",
    "\n",
    "Como con el transductor anterior hemos obtenido los stems de las palabras (además, de sus etiquetas morfológicas) podemos aplicar un proceso de lematización; para esto, definimos el siguiente diccionario."
   ]
  },
  {
   "cell_type": "code",
   "execution_count": 4,
   "metadata": {},
   "outputs": [],
   "source": [
    "lemas = {'gat':'gato','niñ':'niño', 'palom':'paloma'}"
   ]
  },
  {
   "cell_type": "markdown",
   "metadata": {},
   "source": [
    "Finalmente, sustituimos el stem por el lema cuando es necesario:"
   ]
  },
  {
   "cell_type": "code",
   "execution_count": 5,
   "metadata": {},
   "outputs": [
    {
     "name": "stdout",
     "output_type": "stream",
     "text": [
      "niño-MSC\n",
      "niño-MSC-PL\n",
      "niño-FEM-PL\n",
      "niño-DIM-MSC-PL\n",
      "gato-MSC\n",
      "gato-MSC-PL\n",
      "gato-DIM-MSC-PL\n",
      "paloma-FEM\n",
      "paloma-DIM-FEM\n",
      "paloma-FEM-PL\n",
      "flor-PL\n",
      "flor\n",
      "flor-DIM-FEM\n",
      "lápiz\n",
      "lápiz-PL\n",
      "perr-DIM-MSC-PL\n"
     ]
    }
   ],
   "source": [
    "#lista para guardar lemas parseados\n",
    "lema_parsing = []\n",
    "\n",
    "for p in morph_parsing:\n",
    "    try:\n",
    "        #Busca el stem en la cadena parseada\n",
    "        stem = re.match(r'[^-]+',p).group(0)\n",
    "        #stem -> lema\n",
    "        lema = p.replace(stem, lemas[stem])\n",
    "    except:\n",
    "        #Si la palabra no tiene tags, se deja tal como está\n",
    "        lema = p\n",
    "    \n",
    "    #Guarda los lemas\n",
    "    lema_parsing.append(lema)\n",
    "    \n",
    "    print(lema)"
   ]
  },
  {
   "cell_type": "markdown",
   "metadata": {},
   "source": [
    "## Generación del lenguaje con transductores finitos"
   ]
  },
  {
   "cell_type": "markdown",
   "metadata": {},
   "source": [
    "Además de servir para parsear morfológicamente las palabras, los transductores finitos (en tanto gramáticas) nos pueden servir para generar lenguaje. Así, dada una forma \"profunda\" (es decir, un lema o stem con las etiqutas de los morfemas que bsucamos) se puede obtener una palabra con sus morfemas correspondientes. Esto parecería fácil, pues sabemos que los afijos están relacionados a las etiquetas. Sin embargo, la dificultad viene cuando una misma etiqueta puede presentar diferentes afijos. Las lenguas naturales, empero, cuentan con patrones que nos ayudan a predecir cuando se presenta un afijo u otro. Así, sabemos que en español por ejemplo, el plural (PL) se presenta con un sufijo $s$ cuando el lema termina en vocal, y se presenta un sufijo $es$ cuando termina en alguna consonante o en $í$.\n",
    "\n",
    "De esta forma, podemos realizar un transductor que genere lenguaje. En este caso, es un lenguaje muy sencillo, el de los sustantivos. Queremos que dado un lema más los morfemas que queremos que realice la palabra correspondiente con sus sufijos adecuados. En este caso, contamos con un número de etiquetas morfológicas bien definidas (DIM, FEM, MSC y PL)."
   ]
  },
  {
   "cell_type": "code",
   "execution_count": 6,
   "metadata": {},
   "outputs": [],
   "source": [
    "def generate_noun(l):\n",
    "    #Dim -> ecit\n",
    "    C1 = re.sub(r'([^-]+[r|n])-DIM(.+)',r'\\1ecit\\2',l)\n",
    "    #DIM -> it\n",
    "    C2 = re.sub(r'([^-]+)[a|e|i|o|u]-DIM(.+)',r'\\1it\\2',C1)\n",
    "    #FEM -> a\n",
    "    C3 = re.sub(r'([^-]+t)-FEM(.*)',r'\\1a\\2',C2)\n",
    "    C4 = re.sub(r'([^-]+)[o|a]-FEM(.*)',r'\\1a\\2',C3)\n",
    "    #MSC -> o\n",
    "    C5 = re.sub(r'([^-]+t)-MSC(.*)',r'\\1o\\2',C4)\n",
    "    C6 = re.sub(r'([^-]+)[o|a]-MSC(.*)',r'\\1o\\2',C5)\n",
    "    #PL -> es\n",
    "    C7 = re.sub(r'([^-]+[d|j|l|r|n|z|í])-PL',r'\\1es',C6)\n",
    "    #PL -> s\n",
    "    C8 = re.sub(r'([^-]+[a|e|i|o|u])-PL',r'\\1s',C7)\n",
    "    #zPL -> cPL\n",
    "    word = re.sub(r'(.+)z(es)\\b',r'\\1c\\2',C8)\n",
    "    \n",
    "    return word"
   ]
  },
  {
   "cell_type": "markdown",
   "metadata": {},
   "source": [
    "Ahora podemos poner a prueba el transductor que hemos definido con la lista de formas parseadas."
   ]
  },
  {
   "cell_type": "code",
   "execution_count": 7,
   "metadata": {},
   "outputs": [
    {
     "name": "stdout",
     "output_type": "stream",
     "text": [
      "niño-MSC --> niño\n",
      "niño-MSC-PL --> niños\n",
      "niño-FEM-PL --> niñas\n",
      "niño-DIM-MSC-PL --> niñitos\n",
      "gato-MSC --> gato\n",
      "gato-MSC-PL --> gatos\n",
      "gato-DIM-MSC-PL --> gatitos\n",
      "paloma-FEM --> paloma\n",
      "paloma-DIM-FEM --> palomita\n",
      "paloma-FEM-PL --> palomas\n",
      "flor-PL --> flores\n",
      "flor --> flor\n",
      "flor-DIM-FEM --> florecita\n",
      "lápiz --> lápiz\n",
      "lápiz-PL --> lápices\n",
      "perr-DIM-MSC-PL --> perrecitos\n"
     ]
    }
   ],
   "source": [
    "for lema in lema_parsing:\n",
    "    reinflection = generate_noun(lema)\n",
    "    print(lema,'-->',reinflection)"
   ]
  },
  {
   "cell_type": "markdown",
   "metadata": {},
   "source": [
    "Además, podemos poner a prueba su capacidad de generalizar utilizando otras palabras."
   ]
  },
  {
   "cell_type": "code",
   "execution_count": 8,
   "metadata": {},
   "outputs": [
    {
     "name": "stdout",
     "output_type": "stream",
     "text": [
      "rubíes\n",
      "pollitos\n",
      "panecitos\n",
      "árboles\n"
     ]
    }
   ],
   "source": [
    "print(generate_noun('rubí-PL'))\n",
    "print(generate_noun('pollo-DIM-MSC-PL'))\n",
    "print(generate_noun('pan-DIM-MSC-PL'))\n",
    "print(generate_noun('árbol-PL'))"
   ]
  },
  {
   "cell_type": "code",
   "execution_count": 12,
   "metadata": {},
   "outputs": [
    {
     "name": "stdout",
     "output_type": "stream",
     "text": [
      "panecito\n"
     ]
    }
   ],
   "source": [
    "print(generate_noun('pan-DIM-MSC'))"
   ]
  },
  {
   "cell_type": "markdown",
   "metadata": {},
   "source": [
    "Claramente, se trata de un transductor muy básicos. Varios problemas surgen: por ejemplo, la forma 'pan-DIM-MSC' puede ser 'panecito', pero tmabién 'pancito'. Este transductor, además, dejaría de lado caso como 'árbol-DIM-MSC' o similares. ¿Qué reglas se podrían agregar para hacer este transductor más completo? ¿Cómo sería un transductor que generara conjugaciones de verbos?"
   ]
  }
 ],
 "metadata": {
  "kernelspec": {
   "display_name": "Python 3",
   "language": "python",
   "name": "python3"
  },
  "language_info": {
   "codemirror_mode": {
    "name": "ipython",
    "version": 3
   },
   "file_extension": ".py",
   "mimetype": "text/x-python",
   "name": "python",
   "nbconvert_exporter": "python",
   "pygments_lexer": "ipython3",
   "version": "3.8.8"
  }
 },
 "nbformat": 4,
 "nbformat_minor": 2
}
