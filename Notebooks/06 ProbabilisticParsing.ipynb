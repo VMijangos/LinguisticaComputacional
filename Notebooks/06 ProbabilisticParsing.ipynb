{
 "cells": [
  {
   "cell_type": "markdown",
   "metadata": {},
   "source": [
    "# Gramáticas Libres de Contexto Probabilísticas"
   ]
  },
  {
   "cell_type": "markdown",
   "metadata": {},
   "source": [
    "Una gramática libre de contexto nos va ayudar a capturar ciertos patrones en la estructura sintáctica de una oración. Con ella podremos hacer que la computadora pueda determinar si un elemento es un sujeto, un objeto directo, un objeto indirecto, un verbo, etc.\n",
    "\n",
    "Para esto, la librería NLTK nos provee de librerías que nos permitirán hacer este análisis."
   ]
  },
  {
   "cell_type": "code",
   "execution_count": 1,
   "metadata": {},
   "outputs": [],
   "source": [
    "from nltk import PCFG"
   ]
  },
  {
   "cell_type": "markdown",
   "metadata": {},
   "source": [
    "Supóngamos que tenemos una oración y que la hemos tokenizado."
   ]
  },
  {
   "cell_type": "code",
   "execution_count": 2,
   "metadata": {},
   "outputs": [
    {
     "name": "stdout",
     "output_type": "stream",
     "text": [
      "['Juan', 'come', 'unos', 'tacos']\n"
     ]
    }
   ],
   "source": [
    "sentence = 'Juan come unos tacos'\n",
    "tokens = sentence.split()\n",
    "\n",
    "print(tokens)"
   ]
  },
  {
   "cell_type": "markdown",
   "metadata": {},
   "source": [
    "Hemos conservado el orden de las palabras y en este caso no hicimos un processo de stemming. El proceso de stemming debe hacerse si tal proceso está definido en la gramática. Como ahora no lo hemos hecho, nuestra gramática trabajará con los tokens y no con los stems de éstos.\n",
    "\n",
    "Definamos nuestra gramática con base en esto."
   ]
  },
  {
   "cell_type": "code",
   "execution_count": 9,
   "metadata": {},
   "outputs": [
    {
     "name": "stdout",
     "output_type": "stream",
     "text": [
      "Grammar with 10 productions (start state = O)\n",
      "    O -> FN FV [0.7]\n",
      "    O -> FV FN [0.3]\n",
      "    FN -> Sust [0.6]\n",
      "    FN -> Det Sust [0.4]\n",
      "    FV -> V FN [0.8]\n",
      "    FV -> FN V [0.2]\n",
      "    Sust -> 'Juan' [0.5]\n",
      "    Sust -> 'tacos' [0.5]\n",
      "    Det -> 'unos' [1.0]\n",
      "    V -> 'come' [1.0]\n"
     ]
    }
   ],
   "source": [
    "grammar = PCFG.fromstring('''\n",
    "            O    -> FN FV     [0.7]\n",
    "            O    -> FV FN     [0.3]\n",
    "            FN   -> Sust      [0.6]\n",
    "            FN   -> Det Sust  [0.4]\n",
    "            FV   -> V FN      [0.8]\n",
    "            FV   -> FN V      [0.2]\n",
    "            Sust -> 'Juan'    [0.5]\n",
    "            Sust -> 'tacos'   [0.5]\n",
    "            Det  -> 'unos'    [1.0]\n",
    "            V    -> 'come'    [1.0]\n",
    "            ''')\n",
    "\n",
    "print(grammar)"
   ]
  },
  {
   "cell_type": "markdown",
   "metadata": {},
   "source": [
    "En este caso hemos definido nuestra gramática y podemos, entonces parsear las oraciones que queramos analizar. Nótese aquí que distinguimos los símobolos terminales con comillas simples '', mientras que los símbolos no terminales no se marcan de esta forma.\n",
    "\n",
    "Para este parser a partir de la gramática usaremos el algoritmo de Viterbi, el cual revisaremos más adelante."
   ]
  },
  {
   "cell_type": "code",
   "execution_count": 4,
   "metadata": {},
   "outputs": [
    {
     "name": "stdout",
     "output_type": "stream",
     "text": [
      "(O\n",
      "  (FN (Sust Juan))\n",
      "  (FV (V come) (FN (Det unos) (Sust tacos)))) (p=0.0336)\n"
     ]
    }
   ],
   "source": [
    "from nltk import ViterbiParser\n",
    "\n",
    "parser = ViterbiParser(grammar)\n",
    "\n",
    "for t in parser.parse(tokens):\n",
    "    print(t)"
   ]
  },
  {
   "cell_type": "markdown",
   "metadata": {},
   "source": [
    "En la forma en que hemos definido la gramática podemos realizar otras construcciones para determinar posibles árboles."
   ]
  },
  {
   "cell_type": "code",
   "execution_count": 5,
   "metadata": {},
   "outputs": [
    {
     "name": "stdout",
     "output_type": "stream",
     "text": [
      "(O\n",
      "  (FV (V come) (FN (Det unos) (Sust tacos)))\n",
      "  (FN (Sust Juan))) (p=0.0144)\n"
     ]
    }
   ],
   "source": [
    "for t in parser.parse(['come', 'unos','tacos', 'Juan']):\n",
    "    print(t)"
   ]
  },
  {
   "cell_type": "markdown",
   "metadata": {},
   "source": [
    "Dada esta gramática una construcción más probable es \"Juan come unos tacos\", mientras que si bien \"unos tacos come Juan\" es aceptable, su probabilidad es menor.\n",
    "\n",
    "Por último, si queremos ver la versión gráfica de este árbol. Podremos usar la siguiente orden:"
   ]
  },
  {
   "cell_type": "code",
   "execution_count": 7,
   "metadata": {},
   "outputs": [],
   "source": [
    "for t in parser.parse(tokens):\n",
    "    t.draw()"
   ]
  },
  {
   "cell_type": "code",
   "execution_count": null,
   "metadata": {},
   "outputs": [],
   "source": []
  }
 ],
 "metadata": {
  "anaconda-cloud": {},
  "kernelspec": {
   "display_name": "Python 3",
   "language": "python",
   "name": "python3"
  },
  "language_info": {
   "codemirror_mode": {
    "name": "ipython",
    "version": 3
   },
   "file_extension": ".py",
   "mimetype": "text/x-python",
   "name": "python",
   "nbconvert_exporter": "python",
   "pygments_lexer": "ipython3",
   "version": "3.8.8"
  }
 },
 "nbformat": 4,
 "nbformat_minor": 1
}
